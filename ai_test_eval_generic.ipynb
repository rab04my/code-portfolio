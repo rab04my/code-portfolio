{
 "cells": [
  {
   "cell_type": "markdown",
   "metadata": {
    "application/vnd.databricks.v1+cell": {
     "cellMetadata": {},
     "inputWidgets": {},
     "nuid": "0088ab28-0b3a-4662-8039-9d8f784d99d6",
     "showTitle": false,
     "title": ""
    }
   },
   "source": [
    "# Variable-Input, Variable-Output (VIVO) Human-in-the-Loop Hybrid Test and Evaluation Framework for AI Systems\n",
    "\n",
    "Author: Rich Bauder\n",
    "\n",
    "Version: 0.1\n",
    "\n",
    "This notebook defines a generalized, hybrid test and evaluation (T&E) framework for comparing AI models that operate on different input sources and produce heterogeneous or cross-format outputs. The workflow integrates human expert assessment with LLM-assisted meta-evaluation to ensure comprehensive, consistent, and interpretable performance analysis where automated metrics alone are inadequate.\n",
    "\n",
    "**Process Overview**\n",
    "\n",
    "The AI T&E framework proceeds in five stages:\n",
    "\n",
    "1. Data Sampling and Alignment\n",
    "  Input datasets are sampled and aligned through fuzzy or semantic similarity matching to generate comparable evaluation instances across models.\n",
    "\n",
    "2. Model Output Generation and Preparation\n",
    "  Each AI model produces outputs from the aligned test instances. These outputs may vary in structure, format, or expressiveness, reflecting the models’ differing architectures or modalities.\n",
    "\n",
    "3. Expert Evaluation Assignment\n",
    "  Model outputs are distributed to Subject Matter Experts (SMEs) for structured scoring (quantitative) and commentary (qualitative). This step emphasizes interpretability and contextual judgment over automated scoring metrics.\n",
    "\n",
    "4. LLM-Assisted Qualitative Meta-Analysis and Evaluation of SME Feedback\n",
    "  A Large Language Model (LLM) is used to perform a meta-analysis of SME evaluations. This stage provides a secondary, qualitative validation layer that complements statistical testing, helping identify subtle or narrative patterns in SME feedback that numeric measures may miss.\n",
    "\n",
    "5. Score Aggregation and Statistical Analysis\n",
    "  SME and LLM-derived evaluations are synthesized and analyzed through descriptive and inferential statistics, including mean, variance, Mann–Whitney U, Kolmogorov–Smirnov, and Intraclass Correlation Coefficient (ICC) tests. The results quantify model performance differences, inter-rater reliability, and the significance of observed trends."
   ]
  },
  {
   "cell_type": "markdown",
   "metadata": {
    "application/vnd.databricks.v1+cell": {
     "cellMetadata": {},
     "inputWidgets": {},
     "nuid": "7147606d-5ced-446e-afb1-43118376fe6a",
     "showTitle": false,
     "title": ""
    }
   },
   "source": [
    "## Import packages\n",
    "\n",
    "Print python and package versions."
   ]
  },
  {
   "cell_type": "code",
   "execution_count": 3,
   "metadata": {
    "application/vnd.databricks.v1+cell": {
     "cellMetadata": {
      "byteLimit": 2048000,
      "rowLimit": 10000
     },
     "inputWidgets": {},
     "nuid": "d69cf229-6385-4d60-b21d-912562fc9d63",
     "showTitle": false,
     "title": ""
    }
   },
   "outputs": [],
   "source": [
    "import pandas as pd\n",
    "import numpy as np\n",
    "import random\n",
    "import sys\n",
    "import os\n",
    "import random\n",
    "from textwrap import dedent\n",
    "from collections import defaultdict\n",
    "from datetime import datetime, timedelta\n",
    "import pingouin as pg\n",
    "from skimpy import skim\n",
    "from scipy.stats import (mannwhitneyu, ks_2samp)\n",
    "from sklearn.model_selection import StratifiedShuffleSplit\n",
    "from rapidfuzz import fuzz\n",
    "import seaborn as sns\n",
    "import matplotlib.pyplot as plt\n",
    "\n",
    "np.random.seed(1984)\n",
    "random.seed(1984)"
   ]
  },
  {
   "cell_type": "code",
   "execution_count": 2,
   "metadata": {
    "application/vnd.databricks.v1+cell": {
     "cellMetadata": {
      "byteLimit": 2048000,
      "rowLimit": 10000
     },
     "inputWidgets": {},
     "nuid": "b0ec8f8a-80ca-4c2c-92f0-af38155cb6e1",
     "showTitle": false,
     "title": ""
    }
   },
   "outputs": [
    {
     "name": "stdout",
     "output_type": "stream",
     "text": [
      "Python version: 3.12.9 | packaged by Anaconda, Inc. | (main, Feb  6 2025, 12:55:12) [Clang 14.0.6 ]\n"
     ]
    }
   ],
   "source": [
    "print(\"Python version:\", sys.version)"
   ]
  },
  {
   "cell_type": "markdown",
   "metadata": {
    "application/vnd.databricks.v1+cell": {
     "cellMetadata": {},
     "inputWidgets": {},
     "nuid": "d57ae5a0-da00-4356-9721-3f6175ddd119",
     "showTitle": false,
     "title": ""
    }
   },
   "source": [
    "## Data Preprocessing"
   ]
  },
  {
   "cell_type": "markdown",
   "metadata": {
    "application/vnd.databricks.v1+cell": {
     "cellMetadata": {},
     "inputWidgets": {},
     "nuid": "37db6c21-ed03-4737-bf49-ecf120c38177",
     "showTitle": false,
     "title": ""
    }
   },
   "source": [
    "### 1) Ingest and join A and B datasets\n",
    "\n",
    "This will likely be csv reads or database pulls (e.g. Spark Tables in Databricks or S3 files). Note, in Step 2, we will need to define the shared (overlapping) features used between both datasets. This could be done in parallel, so we can subset the data on read rather than reading in all the data then subsetting."
   ]
  },
  {
   "cell_type": "code",
   "execution_count": 25,
   "metadata": {
    "application/vnd.databricks.v1+cell": {
     "cellMetadata": {
      "byteLimit": 2048000,
      "rowLimit": 10000
     },
     "inputWidgets": {},
     "nuid": "5d940bf9-4c3a-4add-af85-1c2e36a5caa7",
     "showTitle": false,
     "title": ""
    }
   },
   "outputs": [],
   "source": [
    "file_path_A = '.'\n",
    "file_path_B = '.'"
   ]
  },
  {
   "cell_type": "code",
   "execution_count": 32,
   "metadata": {
    "application/vnd.databricks.v1+cell": {
     "cellMetadata": {
      "byteLimit": 2048000,
      "rowLimit": 10000
     },
     "inputWidgets": {},
     "nuid": "11a39093-a900-4482-b5de-45ac11ea03ec",
     "showTitle": false,
     "title": ""
    }
   },
   "outputs": [],
   "source": [
    "def get_data(directory, filter_string, ext='csv'):\n",
    "    csv_files = [\n",
    "        f.path for f in os.scandir(directory)\n",
    "        if f.is_file()\n",
    "        and f.name.lower().endswith(f'.{ext.lower()}')\n",
    "        and f.name.startswith(filter_string)\n",
    "    ]\n",
    "\n",
    "    df_list = []\n",
    "    for file_path in csv_files:\n",
    "        try:\n",
    "            df = pd.read_csv(file_path)\n",
    "            df['source_file'] = os.path.basename(file_path)\n",
    "            df_list.append(df)\n",
    "        except Exception as e:\n",
    "            print(f\"Error reading {file_path}: {e}\")\n",
    "\n",
    "    return df_list"
   ]
  },
  {
   "cell_type": "code",
   "execution_count": 33,
   "metadata": {
    "application/vnd.databricks.v1+cell": {
     "cellMetadata": {
      "byteLimit": 2048000,
      "rowLimit": 10000
     },
     "inputWidgets": {},
     "nuid": "b5a1e964-496b-4793-8c1e-aed1554a1491",
     "showTitle": false,
     "title": ""
    }
   },
   "outputs": [],
   "source": [
    "dfs_A = get_data(file_path_A, filter_string='random_input_100_A')\n",
    "dfs_B = get_data(file_path_B, filter_string='random_input_100_B')"
   ]
  },
  {
   "cell_type": "code",
   "execution_count": 35,
   "metadata": {
    "application/vnd.databricks.v1+cell": {
     "cellMetadata": {
      "byteLimit": 2048000,
      "rowLimit": 10000
     },
     "inputWidgets": {},
     "nuid": "54ec4b9b-48c9-4fed-94e8-9b915ad1c040",
     "showTitle": false,
     "title": ""
    }
   },
   "outputs": [
    {
     "name": "stdout",
     "output_type": "stream",
     "text": [
      "1\n",
      "Index(['id', 'education_level', 'education_major_at_highest_level',\n",
      "       'current_job_title', 'sex', 'zip_code', 'certifications', 'birth_date',\n",
      "       'current_job_start_date', 'years_experience', 'source_file'],\n",
      "      dtype='object')\n"
     ]
    }
   ],
   "source": [
    "print(len(dfs_A))\n",
    "print(dfs_A[0].columns)"
   ]
  },
  {
   "cell_type": "code",
   "execution_count": 36,
   "metadata": {
    "application/vnd.databricks.v1+cell": {
     "cellMetadata": {
      "byteLimit": 2048000,
      "rowLimit": 10000
     },
     "inputWidgets": {},
     "nuid": "c514bbaf-2290-4725-94e1-bfb7b8cfcbb8",
     "showTitle": false,
     "title": ""
    }
   },
   "outputs": [
    {
     "name": "stdout",
     "output_type": "stream",
     "text": [
      "1\n",
      "Index(['id', 'education_level', 'education_major_at_highest_level',\n",
      "       'current_job_title', 'sex', 'zip_code', 'certifications', 'birth_date',\n",
      "       'current_job_start_date', 'years_experience', 'source_file'],\n",
      "      dtype='object')\n"
     ]
    }
   ],
   "source": [
    "print(len(dfs_B))\n",
    "print(dfs_B[0].columns)"
   ]
  },
  {
   "cell_type": "markdown",
   "metadata": {
    "application/vnd.databricks.v1+cell": {
     "cellMetadata": {},
     "inputWidgets": {},
     "nuid": "17d101f1-0951-4f04-b005-0ec5162bc831",
     "showTitle": false,
     "title": ""
    }
   },
   "source": [
    "Drop same columns with different values (i.e. the values don't match within same column names--data not consistent)."
   ]
  },
  {
   "cell_type": "code",
   "execution_count": 37,
   "metadata": {
    "application/vnd.databricks.v1+cell": {
     "cellMetadata": {
      "byteLimit": 2048000,
      "rowLimit": 10000
     },
     "inputWidgets": {},
     "nuid": "fc9ae713-e060-44ea-aa37-a66837bc1805",
     "showTitle": false,
     "title": ""
    }
   },
   "outputs": [],
   "source": [
    "def check_cols(dfs, id_col=\"id\"):\n",
    "  diff_cols = set()\n",
    "  \n",
    "  for i in range(len(dfs)):\n",
    "    for j in range(i + 1, len(dfs)):\n",
    "      common_cols = list(set(dfs[i].columns) & set(dfs[j].columns))\n",
    "      common_cols.remove(id_col)\n",
    "      for col in common_cols:\n",
    "        if not dfs[i][col].equals(dfs[j][col]):\n",
    "          diff_cols.add(col)\n",
    "\n",
    "  return diff_cols"
   ]
  },
  {
   "cell_type": "code",
   "execution_count": 38,
   "metadata": {
    "application/vnd.databricks.v1+cell": {
     "cellMetadata": {
      "byteLimit": 2048000,
      "rowLimit": 10000
     },
     "inputWidgets": {},
     "nuid": "3b98f578-0d98-409b-a5ab-a8471942d43a",
     "showTitle": false,
     "title": ""
    }
   },
   "outputs": [
    {
     "name": "stdout",
     "output_type": "stream",
     "text": [
      "set()\n",
      "set()\n"
     ]
    }
   ],
   "source": [
    "print(check_cols(dfs_A)) # should be an empty set\n",
    "print(check_cols(dfs_B))"
   ]
  },
  {
   "cell_type": "markdown",
   "metadata": {
    "application/vnd.databricks.v1+cell": {
     "cellMetadata": {},
     "inputWidgets": {},
     "nuid": "10f06c83-6219-4489-98d2-686ca69c08aa",
     "showTitle": false,
     "title": ""
    }
   },
   "source": [
    "Function to merge dataframes and do any string padding."
   ]
  },
  {
   "cell_type": "code",
   "execution_count": 39,
   "metadata": {
    "application/vnd.databricks.v1+cell": {
     "cellMetadata": {
      "byteLimit": 2048000,
      "rowLimit": 10000
     },
     "inputWidgets": {},
     "nuid": "5be7e11b-f7a7-48e7-b43c-6f97f3697edf",
     "showTitle": false,
     "title": ""
    }
   },
   "outputs": [],
   "source": [
    "def join_df(dfs, join_on='id', join_how='inner', \n",
    "            pad_len=0, pad_fill='', pad_cols=['current_job_title']):\n",
    "  diff_cols = check_cols(dfs, join_on)\n",
    "  dfs1 = [df.drop(columns=diff_cols.intersection(df.columns)) for df in dfs]\n",
    "  \n",
    "  merged_df = dfs1[0]\n",
    "  for df in dfs1[1:]:\n",
    "    merged_df = pd.merge(merged_df, df, on=join_on, how=join_how)\n",
    "\n",
    "  for col in pad_cols:\n",
    "    if col in merged_df.columns:\n",
    "      merged_df[col] = merged_df[col].astype(str).str.pad(4, side='left', fillchar='0')\n",
    "\n",
    "  return merged_df"
   ]
  },
  {
   "cell_type": "code",
   "execution_count": 40,
   "metadata": {
    "application/vnd.databricks.v1+cell": {
     "cellMetadata": {
      "byteLimit": 2048000,
      "rowLimit": 10000
     },
     "inputWidgets": {},
     "nuid": "2212ca56-8596-4e03-bd85-b7cc88ab817f",
     "showTitle": false,
     "title": ""
    }
   },
   "outputs": [
    {
     "name": "stdout",
     "output_type": "stream",
     "text": [
      "(100, 11)\n"
     ]
    }
   ],
   "source": [
    "merged_df_A = join_df(dfs_A)\n",
    "print(merged_df_A.shape)\n",
    "\n",
    "# merged_df_A = merged_df_A.rename(columns={\n",
    "#     'x': 'y',\n",
    "# })"
   ]
  },
  {
   "cell_type": "code",
   "execution_count": 41,
   "metadata": {
    "application/vnd.databricks.v1+cell": {
     "cellMetadata": {
      "byteLimit": 2048000,
      "rowLimit": 10000
     },
     "inputWidgets": {},
     "nuid": "4523a41f-1fe7-4f89-9420-b1e2d66d7dbe",
     "showTitle": false,
     "title": ""
    }
   },
   "outputs": [
    {
     "name": "stdout",
     "output_type": "stream",
     "text": [
      "(100, 11)\n"
     ]
    }
   ],
   "source": [
    "merged_df_B = join_df(dfs_B)\n",
    "print(merged_df_B.shape)"
   ]
  },
  {
   "cell_type": "code",
   "execution_count": 0,
   "metadata": {
    "application/vnd.databricks.v1+cell": {
     "cellMetadata": {
      "byteLimit": 2048000,
      "rowLimit": 10000
     },
     "inputWidgets": {},
     "nuid": "5a37fd12-b081-405f-b0d3-2fc8e4745779",
     "showTitle": false,
     "title": ""
    }
   },
   "outputs": [],
   "source": [
    "# Another check for column duplicates.\n",
    "# cnames = [col.rsplit('_df', 1)[0] for col in merged_df_B.columns]\n",
    "# seen_it = set()\n",
    "# dups = set()\n",
    "#\n",
    "# for name in cnames:\n",
    "#   if name in seen_it:\n",
    "#     dups.add(name)\n",
    "#   else:\n",
    "#     seen_it.add(name)\n",
    "#\n",
    "# print(dups)"
   ]
  },
  {
   "cell_type": "markdown",
   "metadata": {
    "application/vnd.databricks.v1+cell": {
     "cellMetadata": {},
     "inputWidgets": {},
     "nuid": "63d174cd-9a73-436f-a2bc-d2e942eca27e",
     "showTitle": false,
     "title": ""
    }
   },
   "source": [
    "### 2) EXTERNAL ACTION REQUIRED: Define overlapping features\n",
    "\n",
    "**Responsible Parties: Test Organizer and selected SMEs**\n",
    "\n",
    "Need to determine which shared features between A and B should be used to assess similarity between these two datasets. In other words, what features (or fields) should be used to fairly assess similarity between data."
   ]
  },
  {
   "cell_type": "markdown",
   "metadata": {
    "application/vnd.databricks.v1+cell": {
     "cellMetadata": {},
     "inputWidgets": {},
     "nuid": "3bbe2d79-e4a3-4f2b-8ebe-708fd85c0a5c",
     "showTitle": false,
     "title": ""
    }
   },
   "source": [
    "### 3) Prepare data from similarity step"
   ]
  },
  {
   "cell_type": "code",
   "execution_count": 42,
   "metadata": {
    "application/vnd.databricks.v1+cell": {
     "cellMetadata": {
      "byteLimit": 2048000,
      "rowLimit": 10000
     },
     "inputWidgets": {},
     "nuid": "7f09342c-087d-44e2-ab59-3c0da0a71515",
     "showTitle": false,
     "title": ""
    }
   },
   "outputs": [],
   "source": [
    "overlapping_cols = ['id', 'education_level', 'current_job_title', 'current_job_start_date', 'education_major_at_highest_level',\n",
    "                    'sex', 'birth_date', 'zip_code',]\n",
    "\n",
    "merged_df_A_sub = merged_df_A[overlapping_cols]\n",
    "merged_df_B_sub = merged_df_B[overlapping_cols]"
   ]
  },
  {
   "cell_type": "code",
   "execution_count": 44,
   "metadata": {
    "application/vnd.databricks.v1+cell": {
     "cellMetadata": {
      "byteLimit": 2048000,
      "rowLimit": 10000
     },
     "inputWidgets": {},
     "nuid": "77c50520-0f61-4fbe-9d72-223f3f231f29",
     "showTitle": false,
     "title": ""
    }
   },
   "outputs": [
    {
     "name": "stdout",
     "output_type": "stream",
     "text": [
      "id                                  0\n",
      "education_level                     0\n",
      "current_job_title                   0\n",
      "current_job_start_date              0\n",
      "education_major_at_highest_level    0\n",
      "sex                                 0\n",
      "birth_date                          0\n",
      "zip_code                            0\n",
      "dtype: int64\n",
      "id                                  0\n",
      "education_level                     0\n",
      "current_job_title                   0\n",
      "current_job_start_date              0\n",
      "education_major_at_highest_level    0\n",
      "sex                                 0\n",
      "birth_date                          0\n",
      "zip_code                            0\n",
      "dtype: int64\n"
     ]
    }
   ],
   "source": [
    "print(merged_df_B_sub.isna().sum())\n",
    "print(merged_df_A_sub.isna().sum())"
   ]
  },
  {
   "cell_type": "code",
   "execution_count": 45,
   "metadata": {
    "application/vnd.databricks.v1+cell": {
     "cellMetadata": {
      "byteLimit": 2048000,
      "rowLimit": 10000
     },
     "inputWidgets": {},
     "nuid": "40135c80-8ea3-4315-9d45-87c24b1f3ef0",
     "showTitle": false,
     "title": ""
    }
   },
   "outputs": [
    {
     "name": "stdout",
     "output_type": "stream",
     "text": [
      "(100, 8)\n",
      "(100, 8)\n"
     ]
    }
   ],
   "source": [
    "print(merged_df_B_sub.shape)\n",
    "merged_df_B_sub = merged_df_B_sub.dropna(how='any')\n",
    "print(merged_df_A_sub.shape)\n",
    "merged_df_A_sub = merged_df_A_sub.dropna(how='any')"
   ]
  },
  {
   "cell_type": "markdown",
   "metadata": {
    "application/vnd.databricks.v1+cell": {
     "cellMetadata": {},
     "inputWidgets": {},
     "nuid": "00ba0750-9eaa-4657-846d-70ed7f825310",
     "showTitle": false,
     "title": ""
    }
   },
   "source": [
    "Extract month and year from datetime variables."
   ]
  },
  {
   "cell_type": "code",
   "execution_count": 46,
   "metadata": {
    "application/vnd.databricks.v1+cell": {
     "cellMetadata": {
      "byteLimit": 2048000,
      "rowLimit": 10000
     },
     "inputWidgets": {},
     "nuid": "12c1840b-35ae-4230-8ee3-8252bf12bc65",
     "showTitle": false,
     "title": ""
    }
   },
   "outputs": [],
   "source": [
    "merged_df_A_sub['birth_date'] = pd.to_datetime(merged_df_A_sub['birth_date'], errors='coerce')\n",
    "merged_df_A_sub['current_job_start_date'] = pd.to_datetime(merged_df_A_sub['current_job_start_date'], errors='coerce')\n",
    "merged_df_A_sub.loc[:, 'birth_date_month'] = merged_df_A_sub['birth_date'].dt.strftime('%B')\n",
    "merged_df_A_sub.loc[:, 'birth_date_year'] = merged_df_A_sub['birth_date'].dt.year.astype('Int64').astype(str)\n",
    "merged_df_A_sub.loc[:, 'current_job_start_date_month'] = merged_df_A_sub['current_job_start_date'].dt.strftime('%B')\n",
    "merged_df_A_sub.loc[:, 'current_job_start_date_year'] = merged_df_A_sub['current_job_start_date'].dt.year.astype('Int64').astype(str)\n",
    "\n",
    "merged_df_B_sub['birth_date'] = pd.to_datetime(merged_df_B_sub['birth_date'], errors='coerce')\n",
    "merged_df_B_sub['current_job_start_date'] = pd.to_datetime(merged_df_B_sub['current_job_start_date'], errors='coerce')\n",
    "merged_df_B_sub.loc[:, 'birth_date_month'] = merged_df_B_sub['birth_date'].dt.strftime('%B')\n",
    "merged_df_B_sub.loc[:, 'birth_date_year'] = merged_df_B_sub['birth_date'].dt.year.astype('Int64').astype(str)\n",
    "merged_df_B_sub.loc[:, 'current_job_start_date_month'] = merged_df_B_sub['current_job_start_date'].dt.strftime('%B')\n",
    "merged_df_B_sub.loc[:, 'current_job_start_date_year'] = merged_df_B_sub['current_job_start_date'].dt.year.astype('Int64').astype(str)"
   ]
  },
  {
   "cell_type": "code",
   "execution_count": 47,
   "metadata": {
    "application/vnd.databricks.v1+cell": {
     "cellMetadata": {
      "byteLimit": 2048000,
      "rowLimit": 10000
     },
     "inputWidgets": {},
     "nuid": "2f5ec3a9-2b74-478e-b1db-47dc1b83aa72",
     "showTitle": false,
     "title": ""
    }
   },
   "outputs": [],
   "source": [
    "merged_df_B_sub = merged_df_B_sub.drop(['birth_date', 'current_job_start_date',], axis=1)\n",
    "merged_df_A_sub = merged_df_A_sub.drop(['birth_date', 'current_job_start_date',], axis=1)"
   ]
  },
  {
   "cell_type": "code",
   "execution_count": 48,
   "metadata": {
    "application/vnd.databricks.v1+cell": {
     "cellMetadata": {
      "byteLimit": 2048000,
      "rowLimit": 10000
     },
     "inputWidgets": {},
     "nuid": "d0095c8b-b071-4ad0-a6cf-5f36c009b38d",
     "showTitle": false,
     "title": ""
    }
   },
   "outputs": [],
   "source": [
    "merged_df_B_sub = merged_df_B_sub.sample(n=50, random_state=1984).reset_index(drop=True)\n",
    "merged_df_A_sub = merged_df_A_sub.sample(n=50, random_state=1984).reset_index(drop=True)"
   ]
  },
  {
   "cell_type": "code",
   "execution_count": 49,
   "metadata": {
    "application/vnd.databricks.v1+cell": {
     "cellMetadata": {
      "byteLimit": 2048000,
      "rowLimit": 10000
     },
     "inputWidgets": {},
     "nuid": "c0bdbff3-a5da-4bc8-b35a-213f91c8dfde",
     "showTitle": false,
     "title": ""
    }
   },
   "outputs": [],
   "source": [
    "# redefined overlapping columns based on datetime transformations\n",
    "overlapping_cols = ['id', 'education_level', 'current_job_title', 'education_major_at_highest_level', 'sex', 'zip_code',\n",
    "                    'birth_date_month', 'birth_date_year', 'current_job_start_date_month',\n",
    "                    'current_job_start_date_year']"
   ]
  },
  {
   "cell_type": "markdown",
   "metadata": {
    "application/vnd.databricks.v1+cell": {
     "cellMetadata": {},
     "inputWidgets": {},
     "nuid": "edeacfe4-7bb1-41b5-9773-12767918a069",
     "showTitle": false,
     "title": ""
    }
   },
   "source": [
    "Optional filtering."
   ]
  },
  {
   "cell_type": "code",
   "execution_count": 0,
   "metadata": {
    "application/vnd.databricks.v1+cell": {
     "cellMetadata": {
      "byteLimit": 2048000,
      "rowLimit": 10000
     },
     "inputWidgets": {},
     "nuid": "73361fff-1d72-4ebb-98eb-e6da94a6e46a",
     "showTitle": false,
     "title": ""
    }
   },
   "outputs": [],
   "source": [
    "# values = []\n",
    "# merged_df_A_sub = merged_df_A_sub.query(\"VAR not in @values\")\n",
    "# merged_df_B_sub_sample = merged_df_B_sub_sample.query(\"VAR not in @values\")"
   ]
  },
  {
   "cell_type": "code",
   "execution_count": 50,
   "metadata": {
    "application/vnd.databricks.v1+cell": {
     "cellMetadata": {
      "byteLimit": 2048000,
      "rowLimit": 10000
     },
     "inputWidgets": {},
     "nuid": "264a171d-4a97-464a-a2a8-f70b4e9b356f",
     "showTitle": false,
     "title": ""
    }
   },
   "outputs": [
    {
     "data": {
      "application/vnd.microsoft.datawrangler.viewer.v0+json": {
       "columns": [
        {
         "name": "index",
         "rawType": "int64",
         "type": "integer"
        },
        {
         "name": "id",
         "rawType": "int64",
         "type": "integer"
        },
        {
         "name": "education_level",
         "rawType": "object",
         "type": "string"
        },
        {
         "name": "current_job_title",
         "rawType": "object",
         "type": "string"
        },
        {
         "name": "education_major_at_highest_level",
         "rawType": "object",
         "type": "string"
        },
        {
         "name": "sex",
         "rawType": "object",
         "type": "string"
        },
        {
         "name": "zip_code",
         "rawType": "int64",
         "type": "integer"
        },
        {
         "name": "birth_date_month",
         "rawType": "object",
         "type": "string"
        },
        {
         "name": "birth_date_year",
         "rawType": "object",
         "type": "string"
        },
        {
         "name": "current_job_start_date_month",
         "rawType": "object",
         "type": "string"
        },
        {
         "name": "current_job_start_date_year",
         "rawType": "object",
         "type": "string"
        }
       ],
       "ref": "f08163a6-b74d-44fa-ab18-f816ff4a5807",
       "rows": [
        [
         "0",
         "156",
         "Masters",
         "Systems Analyst",
         "Mathematics",
         "F",
         "30309",
         "August",
         "1990",
         "October",
         "2015"
        ],
        [
         "1",
         "129",
         "Masters",
         "Marketing Specialist",
         "Psychology",
         "F",
         "98101",
         "November",
         "1995",
         "January",
         "2020"
        ],
        [
         "2",
         "162",
         "Bachelors",
         "Software Engineer",
         "Mathematics",
         "F",
         "80202",
         "March",
         "1976",
         "January",
         "2021"
        ],
        [
         "3",
         "191",
         "Masters",
         "Data Analyst",
         "Business Administration",
         "M",
         "33101",
         "January",
         "1975",
         "April",
         "2013"
        ],
        [
         "4",
         "154",
         "Masters",
         "QA Tester",
         "Data Science",
         "F",
         "30309",
         "May",
         "1999",
         "March",
         "2024"
        ]
       ],
       "shape": {
        "columns": 10,
        "rows": 5
       }
      },
      "text/html": [
       "<div>\n",
       "<style scoped>\n",
       "    .dataframe tbody tr th:only-of-type {\n",
       "        vertical-align: middle;\n",
       "    }\n",
       "\n",
       "    .dataframe tbody tr th {\n",
       "        vertical-align: top;\n",
       "    }\n",
       "\n",
       "    .dataframe thead th {\n",
       "        text-align: right;\n",
       "    }\n",
       "</style>\n",
       "<table border=\"1\" class=\"dataframe\">\n",
       "  <thead>\n",
       "    <tr style=\"text-align: right;\">\n",
       "      <th></th>\n",
       "      <th>id</th>\n",
       "      <th>education_level</th>\n",
       "      <th>current_job_title</th>\n",
       "      <th>education_major_at_highest_level</th>\n",
       "      <th>sex</th>\n",
       "      <th>zip_code</th>\n",
       "      <th>birth_date_month</th>\n",
       "      <th>birth_date_year</th>\n",
       "      <th>current_job_start_date_month</th>\n",
       "      <th>current_job_start_date_year</th>\n",
       "    </tr>\n",
       "  </thead>\n",
       "  <tbody>\n",
       "    <tr>\n",
       "      <th>0</th>\n",
       "      <td>156</td>\n",
       "      <td>Masters</td>\n",
       "      <td>Systems Analyst</td>\n",
       "      <td>Mathematics</td>\n",
       "      <td>F</td>\n",
       "      <td>30309</td>\n",
       "      <td>August</td>\n",
       "      <td>1990</td>\n",
       "      <td>October</td>\n",
       "      <td>2015</td>\n",
       "    </tr>\n",
       "    <tr>\n",
       "      <th>1</th>\n",
       "      <td>129</td>\n",
       "      <td>Masters</td>\n",
       "      <td>Marketing Specialist</td>\n",
       "      <td>Psychology</td>\n",
       "      <td>F</td>\n",
       "      <td>98101</td>\n",
       "      <td>November</td>\n",
       "      <td>1995</td>\n",
       "      <td>January</td>\n",
       "      <td>2020</td>\n",
       "    </tr>\n",
       "    <tr>\n",
       "      <th>2</th>\n",
       "      <td>162</td>\n",
       "      <td>Bachelors</td>\n",
       "      <td>Software Engineer</td>\n",
       "      <td>Mathematics</td>\n",
       "      <td>F</td>\n",
       "      <td>80202</td>\n",
       "      <td>March</td>\n",
       "      <td>1976</td>\n",
       "      <td>January</td>\n",
       "      <td>2021</td>\n",
       "    </tr>\n",
       "    <tr>\n",
       "      <th>3</th>\n",
       "      <td>191</td>\n",
       "      <td>Masters</td>\n",
       "      <td>Data Analyst</td>\n",
       "      <td>Business Administration</td>\n",
       "      <td>M</td>\n",
       "      <td>33101</td>\n",
       "      <td>January</td>\n",
       "      <td>1975</td>\n",
       "      <td>April</td>\n",
       "      <td>2013</td>\n",
       "    </tr>\n",
       "    <tr>\n",
       "      <th>4</th>\n",
       "      <td>154</td>\n",
       "      <td>Masters</td>\n",
       "      <td>QA Tester</td>\n",
       "      <td>Data Science</td>\n",
       "      <td>F</td>\n",
       "      <td>30309</td>\n",
       "      <td>May</td>\n",
       "      <td>1999</td>\n",
       "      <td>March</td>\n",
       "      <td>2024</td>\n",
       "    </tr>\n",
       "  </tbody>\n",
       "</table>\n",
       "</div>"
      ],
      "text/plain": [
       "    id education_level     current_job_title education_major_at_highest_level  \\\n",
       "0  156         Masters       Systems Analyst                      Mathematics   \n",
       "1  129         Masters  Marketing Specialist                       Psychology   \n",
       "2  162       Bachelors     Software Engineer                      Mathematics   \n",
       "3  191         Masters          Data Analyst          Business Administration   \n",
       "4  154         Masters             QA Tester                     Data Science   \n",
       "\n",
       "  sex  zip_code birth_date_month birth_date_year current_job_start_date_month  \\\n",
       "0   F     30309           August            1990                      October   \n",
       "1   F     98101         November            1995                      January   \n",
       "2   F     80202            March            1976                      January   \n",
       "3   M     33101          January            1975                        April   \n",
       "4   F     30309              May            1999                        March   \n",
       "\n",
       "  current_job_start_date_year  \n",
       "0                        2015  \n",
       "1                        2020  \n",
       "2                        2021  \n",
       "3                        2013  \n",
       "4                        2024  "
      ]
     },
     "execution_count": 50,
     "metadata": {},
     "output_type": "execute_result"
    }
   ],
   "source": [
    "dfA = merged_df_A_sub.copy()\n",
    "dfA.head()"
   ]
  },
  {
   "cell_type": "code",
   "execution_count": 51,
   "metadata": {
    "application/vnd.databricks.v1+cell": {
     "cellMetadata": {
      "byteLimit": 2048000,
      "rowLimit": 10000
     },
     "inputWidgets": {},
     "nuid": "5a97a697-23d1-46aa-8e55-5df4dd88d8a4",
     "showTitle": false,
     "title": ""
    }
   },
   "outputs": [
    {
     "data": {
      "application/vnd.microsoft.datawrangler.viewer.v0+json": {
       "columns": [
        {
         "name": "index",
         "rawType": "int64",
         "type": "integer"
        },
        {
         "name": "id",
         "rawType": "int64",
         "type": "integer"
        },
        {
         "name": "education_level",
         "rawType": "object",
         "type": "string"
        },
        {
         "name": "current_job_title",
         "rawType": "object",
         "type": "string"
        },
        {
         "name": "education_major_at_highest_level",
         "rawType": "object",
         "type": "string"
        },
        {
         "name": "sex",
         "rawType": "object",
         "type": "string"
        },
        {
         "name": "zip_code",
         "rawType": "int64",
         "type": "integer"
        },
        {
         "name": "birth_date_month",
         "rawType": "object",
         "type": "string"
        },
        {
         "name": "birth_date_year",
         "rawType": "object",
         "type": "string"
        },
        {
         "name": "current_job_start_date_month",
         "rawType": "object",
         "type": "string"
        },
        {
         "name": "current_job_start_date_year",
         "rawType": "object",
         "type": "string"
        }
       ],
       "ref": "86532482-6d33-46bb-a40e-a8149a81297a",
       "rows": [
        [
         "0",
         "156",
         "Masters",
         "Systems Analyst",
         "Mathematics",
         "F",
         "30309",
         "August",
         "1990",
         "October",
         "2015"
        ],
        [
         "1",
         "129",
         "Masters",
         "Marketing Specialist",
         "Psychology",
         "F",
         "98101",
         "November",
         "1995",
         "January",
         "2020"
        ],
        [
         "2",
         "162",
         "Bachelors",
         "Software Engineer",
         "Mathematics",
         "F",
         "80202",
         "March",
         "1976",
         "January",
         "2021"
        ],
        [
         "3",
         "191",
         "Masters",
         "Data Analyst",
         "Business Administration",
         "M",
         "33101",
         "January",
         "1975",
         "April",
         "2013"
        ],
        [
         "4",
         "154",
         "Masters",
         "QA Tester",
         "Data Science",
         "F",
         "30309",
         "May",
         "1999",
         "March",
         "2024"
        ]
       ],
       "shape": {
        "columns": 10,
        "rows": 5
       }
      },
      "text/html": [
       "<div>\n",
       "<style scoped>\n",
       "    .dataframe tbody tr th:only-of-type {\n",
       "        vertical-align: middle;\n",
       "    }\n",
       "\n",
       "    .dataframe tbody tr th {\n",
       "        vertical-align: top;\n",
       "    }\n",
       "\n",
       "    .dataframe thead th {\n",
       "        text-align: right;\n",
       "    }\n",
       "</style>\n",
       "<table border=\"1\" class=\"dataframe\">\n",
       "  <thead>\n",
       "    <tr style=\"text-align: right;\">\n",
       "      <th></th>\n",
       "      <th>id</th>\n",
       "      <th>education_level</th>\n",
       "      <th>current_job_title</th>\n",
       "      <th>education_major_at_highest_level</th>\n",
       "      <th>sex</th>\n",
       "      <th>zip_code</th>\n",
       "      <th>birth_date_month</th>\n",
       "      <th>birth_date_year</th>\n",
       "      <th>current_job_start_date_month</th>\n",
       "      <th>current_job_start_date_year</th>\n",
       "    </tr>\n",
       "  </thead>\n",
       "  <tbody>\n",
       "    <tr>\n",
       "      <th>0</th>\n",
       "      <td>156</td>\n",
       "      <td>Masters</td>\n",
       "      <td>Systems Analyst</td>\n",
       "      <td>Mathematics</td>\n",
       "      <td>F</td>\n",
       "      <td>30309</td>\n",
       "      <td>August</td>\n",
       "      <td>1990</td>\n",
       "      <td>October</td>\n",
       "      <td>2015</td>\n",
       "    </tr>\n",
       "    <tr>\n",
       "      <th>1</th>\n",
       "      <td>129</td>\n",
       "      <td>Masters</td>\n",
       "      <td>Marketing Specialist</td>\n",
       "      <td>Psychology</td>\n",
       "      <td>F</td>\n",
       "      <td>98101</td>\n",
       "      <td>November</td>\n",
       "      <td>1995</td>\n",
       "      <td>January</td>\n",
       "      <td>2020</td>\n",
       "    </tr>\n",
       "    <tr>\n",
       "      <th>2</th>\n",
       "      <td>162</td>\n",
       "      <td>Bachelors</td>\n",
       "      <td>Software Engineer</td>\n",
       "      <td>Mathematics</td>\n",
       "      <td>F</td>\n",
       "      <td>80202</td>\n",
       "      <td>March</td>\n",
       "      <td>1976</td>\n",
       "      <td>January</td>\n",
       "      <td>2021</td>\n",
       "    </tr>\n",
       "    <tr>\n",
       "      <th>3</th>\n",
       "      <td>191</td>\n",
       "      <td>Masters</td>\n",
       "      <td>Data Analyst</td>\n",
       "      <td>Business Administration</td>\n",
       "      <td>M</td>\n",
       "      <td>33101</td>\n",
       "      <td>January</td>\n",
       "      <td>1975</td>\n",
       "      <td>April</td>\n",
       "      <td>2013</td>\n",
       "    </tr>\n",
       "    <tr>\n",
       "      <th>4</th>\n",
       "      <td>154</td>\n",
       "      <td>Masters</td>\n",
       "      <td>QA Tester</td>\n",
       "      <td>Data Science</td>\n",
       "      <td>F</td>\n",
       "      <td>30309</td>\n",
       "      <td>May</td>\n",
       "      <td>1999</td>\n",
       "      <td>March</td>\n",
       "      <td>2024</td>\n",
       "    </tr>\n",
       "  </tbody>\n",
       "</table>\n",
       "</div>"
      ],
      "text/plain": [
       "    id education_level     current_job_title education_major_at_highest_level  \\\n",
       "0  156         Masters       Systems Analyst                      Mathematics   \n",
       "1  129         Masters  Marketing Specialist                       Psychology   \n",
       "2  162       Bachelors     Software Engineer                      Mathematics   \n",
       "3  191         Masters          Data Analyst          Business Administration   \n",
       "4  154         Masters             QA Tester                     Data Science   \n",
       "\n",
       "  sex  zip_code birth_date_month birth_date_year current_job_start_date_month  \\\n",
       "0   F     30309           August            1990                      October   \n",
       "1   F     98101         November            1995                      January   \n",
       "2   F     80202            March            1976                      January   \n",
       "3   M     33101          January            1975                        April   \n",
       "4   F     30309              May            1999                        March   \n",
       "\n",
       "  current_job_start_date_year  \n",
       "0                        2015  \n",
       "1                        2020  \n",
       "2                        2021  \n",
       "3                        2013  \n",
       "4                        2024  "
      ]
     },
     "execution_count": 51,
     "metadata": {},
     "output_type": "execute_result"
    }
   ],
   "source": [
    "dfB = merged_df_B_sub.copy()\n",
    "dfB.head()"
   ]
  },
  {
   "cell_type": "code",
   "execution_count": 52,
   "metadata": {
    "application/vnd.databricks.v1+cell": {
     "cellMetadata": {
      "byteLimit": 2048000,
      "rowLimit": 10000
     },
     "inputWidgets": {},
     "nuid": "69656a21-2a55-477b-bb9b-ad34a1676167",
     "showTitle": false,
     "title": ""
    }
   },
   "outputs": [],
   "source": [
    "# quick check on column names\n",
    "for col in overlapping_cols:\n",
    "  if col not in dfA.columns or col not in dfB.columns:\n",
    "    raise ValueError(f\"Missing expected column: {col}\")\n",
    "\n",
    "dfA1 = dfA[overlapping_cols].copy()\n",
    "dfB1 = dfB[overlapping_cols].copy()"
   ]
  },
  {
   "cell_type": "code",
   "execution_count": 53,
   "metadata": {
    "application/vnd.databricks.v1+cell": {
     "cellMetadata": {
      "byteLimit": 2048000,
      "rowLimit": 10000
     },
     "inputWidgets": {},
     "nuid": "180ca7a7-79ba-40a2-a956-0e031c910903",
     "showTitle": false,
     "title": ""
    }
   },
   "outputs": [],
   "source": [
    "dfA1.reset_index(drop=True, inplace=True)\n",
    "dfB1.reset_index(drop=True, inplace=True)"
   ]
  },
  {
   "cell_type": "code",
   "execution_count": 54,
   "metadata": {
    "application/vnd.databricks.v1+cell": {
     "cellMetadata": {
      "byteLimit": 2048000,
      "rowLimit": 10000
     },
     "inputWidgets": {},
     "nuid": "84f869c9-b205-4e07-9eb0-4d0a99148f49",
     "showTitle": false,
     "title": ""
    }
   },
   "outputs": [
    {
     "name": "stdout",
     "output_type": "stream",
     "text": [
      "(50, 10)\n",
      "(50, 10)\n"
     ]
    }
   ],
   "source": [
    "print(dfA1.shape)\n",
    "print(dfB1.shape)"
   ]
  },
  {
   "cell_type": "markdown",
   "metadata": {
    "application/vnd.databricks.v1+cell": {
     "cellMetadata": {},
     "inputWidgets": {},
     "nuid": "28eeb07a-6488-4d6d-b084-504efea63160",
     "showTitle": false,
     "title": ""
    }
   },
   "source": [
    "## Similarity matching\n",
    "\n",
    "Fuzzy matching, based on a set threshold, across rows between A and B datasets to determine most similar test (input) datasets given agreed-upon overlapping features in both. Note this is similar in concept to Propensity Score Matching used in domains such as marketing [1]. Generates high-similarity (based on user-defined threshold) row pairs that can be used to create comparable test data with partially overlapping or some (hopefully) heterogeneous structures.\n",
    "\n",
    "Process Summary:\n",
    "\n",
    "- Iterates through each row in Dataset A and compares it to all rows in Dataset B.\n",
    "- For every overlapping feature:\n",
    "  - Calculates a fuzzy string similarity score using `fuzz.ratio()` (Levenshtein distance–based).\n",
    "  - Computes the average similarity across all overlapping features for each row pair.\n",
    "- Keeps only the highest-scoring match per A-row that meets the defined `similarity_threshold`.\n",
    "- Prevents reusing the same B-row by tracking matched indices (`used_b_indices`).\n",
    "- Returns up to `n_samples` top-ranked pairs, sorted by descending similarity score.\n",
    "\n",
    "Note:\n",
    "\n",
    "`fuzz.ratio()` is one of several fuzzy string similarity methods available. Alternatives such as partial_ratio or token_sort_ratio may be used depending on the data type and matching requirements."
   ]
  },
  {
   "cell_type": "code",
   "execution_count": 0,
   "metadata": {
    "application/vnd.databricks.v1+cell": {
     "cellMetadata": {
      "byteLimit": 2048000,
      "rowLimit": 10000
     },
     "inputWidgets": {},
     "nuid": "adc6332b-b577-4053-8630-e03a99366dee",
     "showTitle": false,
     "title": ""
    }
   },
   "outputs": [],
   "source": [
    "# testing the fuzzy matching\n",
    "#fuzz.ratio(\"the cat is fluffy!\", \"fluffy is a three-headed dog.\")"
   ]
  },
  {
   "cell_type": "code",
   "execution_count": 55,
   "metadata": {
    "application/vnd.databricks.v1+cell": {
     "cellMetadata": {
      "byteLimit": 2048000,
      "rowLimit": 10000
     },
     "inputWidgets": {},
     "nuid": "97189ddc-b147-4e02-95e7-c0d449093418",
     "showTitle": false,
     "title": ""
    }
   },
   "outputs": [],
   "source": [
    "def create_comparable_test_sets(dataset_a, dataset_b, overlapping_cols, similarity_threshold=0.8, n_samples=100):\n",
    "    matched_pairs = []\n",
    "    used_b_indices = set()\n",
    "    \n",
    "    for idx_a, row_a in dataset_a.iterrows():\n",
    "        best_match = None\n",
    "        best_score = 0\n",
    "        \n",
    "        for idx_b, row_b in dataset_b.iterrows():\n",
    "            # skip if B index matched\n",
    "            if idx_b in used_b_indices:\n",
    "                continue\n",
    "            \n",
    "            similarities = []\n",
    "            for feature in overlapping_cols:\n",
    "                if pd.notna(row_a[feature]) and pd.notna(row_b[feature]):\n",
    "                    sim_score = fuzz.ratio(str(row_a[feature]), str(row_b[feature])) / 100.0\n",
    "                    similarities.append(sim_score)\n",
    "            \n",
    "            avg_similarity = np.mean(similarities) if similarities else 0\n",
    "            \n",
    "            if avg_similarity > best_score and avg_similarity >= similarity_threshold:\n",
    "                best_score = avg_similarity\n",
    "                best_match = (idx_a, idx_b, avg_similarity)\n",
    "        \n",
    "        if best_match:\n",
    "            matched_pairs.append(best_match)\n",
    "            used_b_indices.add(best_match[1])  # marked b matched\n",
    "    \n",
    "    matched_pairs.sort(key=lambda x: x[2], reverse=True)\n",
    "    return matched_pairs[:n_samples]\n"
   ]
  },
  {
   "cell_type": "code",
   "execution_count": 56,
   "metadata": {
    "application/vnd.databricks.v1+cell": {
     "cellMetadata": {
      "byteLimit": 2048000,
      "rowLimit": 10000
     },
     "inputWidgets": {},
     "nuid": "646b4bcf-0810-4b78-bf22-90f4621da702",
     "showTitle": false,
     "title": ""
    }
   },
   "outputs": [
    {
     "name": "stdout",
     "output_type": "stream",
     "text": [
      "CPU times: user 68.3 ms, sys: 2.06 ms, total: 70.4 ms\n",
      "Wall time: 70.1 ms\n"
     ]
    }
   ],
   "source": [
    "%%time\n",
    "\n",
    "cnames = [c for c in overlapping_cols if c != 'id']\n",
    "matched_test_cases = create_comparable_test_sets(dfA1, dfB1, cnames, similarity_threshold=0.55, n_samples=50)"
   ]
  },
  {
   "cell_type": "code",
   "execution_count": 58,
   "metadata": {
    "application/vnd.databricks.v1+cell": {
     "cellMetadata": {
      "byteLimit": 2048000,
      "rowLimit": 10000
     },
     "inputWidgets": {},
     "nuid": "dd31da13-e30f-4492-948e-2c5b90941b10",
     "showTitle": false,
     "title": ""
    }
   },
   "outputs": [
    {
     "data": {
      "text/plain": [
       "[(0, 0, np.float64(1.0)),\n",
       " (1, 1, np.float64(1.0)),\n",
       " (2, 2, np.float64(1.0)),\n",
       " (3, 3, np.float64(1.0)),\n",
       " (4, 4, np.float64(1.0)),\n",
       " (5, 5, np.float64(1.0)),\n",
       " (6, 6, np.float64(1.0)),\n",
       " (7, 7, np.float64(1.0)),\n",
       " (8, 8, np.float64(1.0)),\n",
       " (9, 9, np.float64(1.0))]"
      ]
     },
     "execution_count": 58,
     "metadata": {},
     "output_type": "execute_result"
    }
   ],
   "source": [
    "matched_test_cases[:10]"
   ]
  },
  {
   "cell_type": "markdown",
   "metadata": {
    "application/vnd.databricks.v1+cell": {
     "cellMetadata": {},
     "inputWidgets": {},
     "nuid": "bedb824c-44fc-4a90-8632-9c8f415074c2",
     "showTitle": false,
     "title": ""
    }
   },
   "source": [
    "The following maps the matched index pairs and similarity scores back to their original datasets to create full test subsets. Creates similarity-annotated subsets from the matched pairs (above), for downstream comparisons, visualizations, and SME assessments.\n",
    "\n",
    "Process Summary:\n",
    "\n",
    "- Extracts the indices and similarity scores from the matched_pairs list.\n",
    "- Retrieves the corresponding rows from Dataset A and Dataset B.\n",
    "- Resets indices to align both DataFrames.\n",
    "- Adds metadata columns:\n",
    "  - `sim_score`: average similarity between matched rows\n",
    "  - `orig_index`: original index in the source dataset\n",
    "  - `src`: dataset label (A or B, in this case)\n",
    "- Returns two aligned DataFrames (`mapped_df_a`, `mapped_df_b`)."
   ]
  },
  {
   "cell_type": "code",
   "execution_count": 59,
   "metadata": {
    "application/vnd.databricks.v1+cell": {
     "cellMetadata": {
      "byteLimit": 2048000,
      "rowLimit": 10000
     },
     "inputWidgets": {},
     "nuid": "1a679f98-fcaf-48eb-8480-e5ef69773ec3",
     "showTitle": false,
     "title": ""
    }
   },
   "outputs": [],
   "source": [
    "def map_indices_to_dataframes(sim_pairs, dataset_a, dataset_b):\n",
    "    indices_a = [pair[0] for pair in sim_pairs]\n",
    "    indices_b = [pair[1] for pair in sim_pairs]\n",
    "    sim_scores = [pair[2] for pair in sim_pairs]\n",
    "    \n",
    "    mapped_df_a = dataset_a.loc[indices_a].copy()\n",
    "    mapped_df_b = dataset_b.loc[indices_b].copy()\n",
    "    mapped_df_a = mapped_df_a.reset_index(drop=True)\n",
    "    mapped_df_b = mapped_df_b.reset_index(drop=True)\n",
    "    \n",
    "    mapped_df_a['sim_score'] = sim_scores\n",
    "    mapped_df_a['orig_index'] = indices_a\n",
    "    mapped_df_a['src'] = 'A'\n",
    "    mapped_df_b['sim_score'] = sim_scores  \n",
    "    mapped_df_b['orig_index'] = indices_b\n",
    "    mapped_df_b['src'] = 'B'\n",
    "    \n",
    "    return mapped_df_a, mapped_df_b"
   ]
  },
  {
   "cell_type": "code",
   "execution_count": 60,
   "metadata": {
    "application/vnd.databricks.v1+cell": {
     "cellMetadata": {
      "byteLimit": 2048000,
      "rowLimit": 10000
     },
     "inputWidgets": {},
     "nuid": "4c4c354b-2aa0-4fe3-867a-ddd62e9c07af",
     "showTitle": false,
     "title": ""
    }
   },
   "outputs": [],
   "source": [
    "top_sim_A, top_sim_B = map_indices_to_dataframes(matched_test_cases, dfA1, dfB1)"
   ]
  },
  {
   "cell_type": "code",
   "execution_count": 61,
   "metadata": {
    "application/vnd.databricks.v1+cell": {
     "cellMetadata": {
      "byteLimit": 2048000,
      "rowLimit": 10000
     },
     "inputWidgets": {},
     "nuid": "609f2b96-9d98-4a1f-8119-c44ff939bc6a",
     "showTitle": false,
     "title": ""
    }
   },
   "outputs": [
    {
     "name": "stdout",
     "output_type": "stream",
     "text": [
      "(50, 13)\n",
      "(50, 13)\n",
      "50\n"
     ]
    }
   ],
   "source": [
    "print(top_sim_A.shape)\n",
    "print(top_sim_B.shape)\n",
    "\n",
    "min_rows = min(top_sim_A.shape[0], top_sim_B.shape[0])\n",
    "print(min_rows)"
   ]
  },
  {
   "cell_type": "markdown",
   "metadata": {
    "application/vnd.databricks.v1+cell": {
     "cellMetadata": {},
     "inputWidgets": {},
     "nuid": "7d0a0758-a2e1-4e6d-a992-691e041f09f7",
     "showTitle": false,
     "title": ""
    }
   },
   "source": [
    "### OPTION 1 (fuzzy failure)\n",
    "\n",
    "#### Stratified Sampling Based on Overlapping Features \n",
    "\n",
    "(*fallback if similarity underperforms*)\n",
    "\n",
    "Use this method only if fuzzy similarity or comparable instance-matching approaches fail, for example:\n",
    "\n",
    "- Calculated similarity scores between datasets are consistently low, indicating that few records share overlapping or comparable feature values.\n",
    "- The data used for matching is too sparse, inconsistent, or noisy, preventing stable pairwise alignment.\n",
    "- The datasets represent different but related populations, where direct one-to-one row matching is not meaningful.\n",
    "\n",
    "In these cases, stratified sampling provides an alternative approach to ensure each dataset contributes representative, comparable subsets for evaluation.\n",
    "\n",
    "Basic outline:\n",
    "\n",
    "- Identify key categorical or numeric features that best represent the structure of each dataset (e.g., topic category, domain label, region, or complexity level).\n",
    "- Use these features to perform stratified random sampling, ensuring each subset has a similar distribution across those features.\n",
    "- The resulting subsets are not matched on a row-by-row basis but are distributionally comparable, preserving balance across important variables.\n",
    "\n",
    "Note:\n",
    "\n",
    "May need to reduce the number of fields in the overlap to allow for more rows within each group (key). Too many fields make each key (concatenated strings) as unique thus one per group (and no real stratification done)."
   ]
  },
  {
   "cell_type": "code",
   "execution_count": 0,
   "metadata": {
    "application/vnd.databricks.v1+cell": {
     "cellMetadata": {
      "byteLimit": 2048000,
      "rowLimit": 10000
     },
     "inputWidgets": {},
     "nuid": "11f852f6-26e6-4fb5-bf8b-451f4dda3955",
     "showTitle": false,
     "title": ""
    }
   },
   "outputs": [],
   "source": [
    "# def strat_sample(df, cols, n_rows, seed=1984, min_group_size=3):\n",
    "#     key = df[cols].astype(str).agg('_'.join, axis=1)\n",
    "#     valid_mask = key.map(key.value_counts()) >= min_group_size\n",
    "#     df_valid = df[valid_mask].reset_index(drop=True)\n",
    "#     key_valid = key[valid_mask].reset_index(drop=True)\n",
    "# \n",
    "#     if len(df_valid) < n_rows:\n",
    "#         return df.sample(n=min(n_rows, len(df)), random_state=seed).reset_index(drop=True)\n",
    "# \n",
    "#     cut = StratifiedShuffleSplit(n_splits=1, test_size=n_rows, random_state=seed)\n",
    "#     idx = next(cut.split(df_valid, key_valid))[1]\n",
    "#     ret_df = df_valid.iloc[idx].reset_index(drop=True)\n",
    "#     \n",
    "#     return ret_df"
   ]
  },
  {
   "cell_type": "code",
   "execution_count": 0,
   "metadata": {
    "application/vnd.databricks.v1+cell": {
     "cellMetadata": {
      "byteLimit": 2048000,
      "rowLimit": 10000
     },
     "inputWidgets": {},
     "nuid": "0df17316-028e-4448-b42e-bbecf55e80db",
     "showTitle": false,
     "title": ""
    }
   },
   "outputs": [],
   "source": [
    "# keyA = dfA[overlapping_cols].astype(str).agg('_'.join, axis=1)\n",
    "# print(keyA[:5])\n",
    "# print(keyA.value_counts().min())\n",
    "# print(\"Size (Total Count) A:\\n\", keyA.value_counts())"
   ]
  },
  {
   "cell_type": "code",
   "execution_count": 0,
   "metadata": {
    "application/vnd.databricks.v1+cell": {
     "cellMetadata": {
      "byteLimit": 2048000,
      "rowLimit": 10000
     },
     "inputWidgets": {},
     "nuid": "6ea174d7-5836-468e-b2d3-91a9cda597b7",
     "showTitle": false,
     "title": ""
    }
   },
   "outputs": [],
   "source": [
    "# keyB = dfB[overlapping_cols].astype(str).agg('_'.join, axis=1)\n",
    "# print(keyB[:5])\n",
    "# print(keyB.value_counts().min())\n",
    "# print(\"Size (Total Count) B:\\n\", keyB.value_counts())"
   ]
  },
  {
   "cell_type": "code",
   "execution_count": 0,
   "metadata": {
    "application/vnd.databricks.v1+cell": {
     "cellMetadata": {
      "byteLimit": 2048000,
      "rowLimit": 10000
     },
     "inputWidgets": {},
     "nuid": "8b7a9cdf-4902-4f62-a81e-a77c8320390b",
     "showTitle": false,
     "title": ""
    }
   },
   "outputs": [],
   "source": [
    "# top_sim_A_OPT = strat_sample(dfA.copy(), cols=overlapping_cols, n_rows=250, seed=1984)\n",
    "# top_sim_B_OPT = strat_sample(dfB.copy(), cols=overlapping_cols, n_rows=250, seed=1984)"
   ]
  },
  {
   "cell_type": "code",
   "execution_count": 0,
   "metadata": {
    "application/vnd.databricks.v1+cell": {
     "cellMetadata": {
      "byteLimit": 2048000,
      "rowLimit": 10000
     },
     "inputWidgets": {},
     "nuid": "bf33e415-be0f-4afb-9a7c-8f273549c160",
     "showTitle": false,
     "title": ""
    }
   },
   "outputs": [],
   "source": [
    "# print(top_sim_A_OPT.shape)\n",
    "# print(top_sim_B_OPT.shape)"
   ]
  },
  {
   "cell_type": "markdown",
   "metadata": {
    "application/vnd.databricks.v1+cell": {
     "cellMetadata": {},
     "inputWidgets": {},
     "nuid": "8c99b7c6-8f9a-4fac-83b7-f342733e3f92",
     "showTitle": false,
     "title": ""
    }
   },
   "source": [
    "### OPTION 2 (fuzzy failure)\n",
    "\n",
    "#### Semantic Row Encoding and Embedding-Based Similarity\n",
    "\n",
    "(*yet another fallback if fuzzy matching fails*)\n",
    "\n",
    "If traditional fuzzy string similarity methods yield **low similarity scores** or fail to align enough comparable rows, and/or stratification fails yet another alternative is to use embeddings to represent each row as a dense vector and then compute cosine similarity between datasets. Note that this might be a better option but haven't flushed it out yet.\n",
    "\n",
    "Summary:\n",
    "\n",
    "- Convert each row into a single text string by concatenating all feature values (except unique identifiers).\n",
    "- Use a pretrained language model (e.g. from `sentence-transformers`) to encode each row into a numerical vector embedding.\n",
    "- Compute pairwise cosine similarity between embeddings from A and B.\n",
    "- Identify the highest-similarity matches as comparable instances.\n",
    "\n",
    "Simple example (pseudo-implementation):\n",
    "\n",
    "```python\n",
    "from sentence_transformers import SentenceTransformer, util\n",
    "\n",
    "model = SentenceTransformer('all-MiniLM-L6-v2')\n",
    "\n",
    "A_rows = A.drop(columns=['id']).astype(str).agg(' '.join, axis=1)\n",
    "B_rows = B.drop(columns=['id']).astype(str).agg(' '.join, axis=1)\n",
    "\n",
    "A_embeddings = model.encode(A_rows, convert_to_tensor=True)\n",
    "B_embeddings = model.encode(B_rows, convert_to_tensor=True)\n",
    "\n",
    "sim_matrix = util.pytorch_cos_sim(A_embeddings, B_embeddings)\n",
    "most_similar_idx = sim_matrix.argmax(dim=1)\n",
    "similarity_scores = sim_matrix.max(dim=1).values\n",
    "```\n"
   ]
  },
  {
   "cell_type": "markdown",
   "metadata": {
    "application/vnd.databricks.v1+cell": {
     "cellMetadata": {},
     "inputWidgets": {},
     "nuid": "9297d4bf-40fa-470b-bd64-7698f38419cf",
     "showTitle": false,
     "title": ""
    }
   },
   "source": [
    "### 8) FINAL Test Data + Shuffling data\n",
    "\n",
    "Depending on the size of the data used at this point and the number of SME reviewers, this may not be needed. Shuffling doesn't hurt though since the data is not time dependent."
   ]
  },
  {
   "cell_type": "code",
   "execution_count": 62,
   "metadata": {
    "application/vnd.databricks.v1+cell": {
     "cellMetadata": {
      "byteLimit": 2048000,
      "rowLimit": 10000
     },
     "inputWidgets": {},
     "nuid": "6b153536-bb65-4088-aefa-1ce448eff28e",
     "showTitle": false,
     "title": ""
    }
   },
   "outputs": [],
   "source": [
    "sampled_dfA = top_sim_A.sample(n=min_rows, random_state=1984)\n",
    "sampled_dfB = top_sim_B.sample(n=min_rows, random_state=1984)"
   ]
  },
  {
   "cell_type": "code",
   "execution_count": 63,
   "metadata": {
    "application/vnd.databricks.v1+cell": {
     "cellMetadata": {
      "byteLimit": 2048000,
      "rowLimit": 10000
     },
     "inputWidgets": {},
     "nuid": "111e2ad1-3ce1-414e-8b7e-0b8ef651fd34",
     "showTitle": false,
     "title": ""
    }
   },
   "outputs": [],
   "source": [
    "final_df_A = sampled_dfA.sample(frac=1, random_state=1984).reset_index(drop=True)\n",
    "final_df_B = sampled_dfB.sample(frac=1, random_state=1984).reset_index(drop=True)"
   ]
  },
  {
   "cell_type": "code",
   "execution_count": 64,
   "metadata": {
    "application/vnd.databricks.v1+cell": {
     "cellMetadata": {
      "byteLimit": 2048000,
      "rowLimit": 10000
     },
     "inputWidgets": {},
     "nuid": "c2479304-f5b2-40a8-b32d-7507aed38bc5",
     "showTitle": false,
     "title": ""
    }
   },
   "outputs": [
    {
     "name": "stdout",
     "output_type": "stream",
     "text": [
      "(50, 13)\n",
      "(50, 13)\n"
     ]
    }
   ],
   "source": [
    "print(final_df_A.shape)\n",
    "print(final_df_B.shape)"
   ]
  },
  {
   "cell_type": "markdown",
   "metadata": {
    "application/vnd.databricks.v1+cell": {
     "cellMetadata": {},
     "inputWidgets": {},
     "nuid": "8d61622a-3489-45d3-9c65-d694edd72c9d",
     "showTitle": false,
     "title": ""
    }
   },
   "source": [
    "Duplicate handling (if needed)"
   ]
  },
  {
   "cell_type": "code",
   "execution_count": 65,
   "metadata": {
    "application/vnd.databricks.v1+cell": {
     "cellMetadata": {
      "byteLimit": 2048000,
      "rowLimit": 10000
     },
     "inputWidgets": {},
     "nuid": "c93f8963-6ade-467d-aafe-b553be83015b",
     "showTitle": false,
     "title": ""
    }
   },
   "outputs": [],
   "source": [
    "dups_A = final_df_A['id'].duplicated().sum()\n",
    "dups_B = final_df_B['id'].duplicated().sum()\n",
    "\n",
    "if dups_A > 0:\n",
    "  print(f'Dataset A duplicates: {dups_A}')\n",
    "  final_df_A2 = final_df_A.sort_values(by='sim_score', ascending=False)\n",
    "  final_df_A = final_df_A2.drop_duplicates(subset='id', keep='first')\n",
    "\n",
    "if dups_B > 0:\n",
    "  print(f'Dataset B duplicates: {dups_B}')\n",
    "  final_df_B2 = final_df_B.sort_values(by='sim_score', ascending=False)\n",
    "  final_df_B = final_df_B2.drop_duplicates(subset='id', keep='first')"
   ]
  },
  {
   "cell_type": "code",
   "execution_count": 66,
   "metadata": {
    "application/vnd.databricks.v1+cell": {
     "cellMetadata": {
      "byteLimit": 2048000,
      "rowLimit": 10000
     },
     "inputWidgets": {},
     "nuid": "1dc8b02d-97c2-4247-9e8f-81736240c2ee",
     "showTitle": false,
     "title": ""
    }
   },
   "outputs": [
    {
     "name": "stdout",
     "output_type": "stream",
     "text": [
      "50\n"
     ]
    }
   ],
   "source": [
    "min_rows_updated = min(final_df_A.shape[0], final_df_B.shape[0])\n",
    "print(min_rows_updated)"
   ]
  },
  {
   "cell_type": "code",
   "execution_count": 0,
   "metadata": {
    "application/vnd.databricks.v1+cell": {
     "cellMetadata": {
      "byteLimit": 2048000,
      "rowLimit": 10000
     },
     "inputWidgets": {},
     "nuid": "8a0cb1fb-fc18-440c-92ba-33184de60839",
     "showTitle": false,
     "title": ""
    }
   },
   "outputs": [],
   "source": [
    "# pd.set_option(\"display.max_rows\", None)\n",
    "# pd.set_option(\"display.max_columns\", None)\n",
    "# pd.set_option(\"display.max_colwidth\", None)"
   ]
  },
  {
   "cell_type": "code",
   "execution_count": 67,
   "metadata": {
    "application/vnd.databricks.v1+cell": {
     "cellMetadata": {
      "byteLimit": 2048000,
      "rowLimit": 10000
     },
     "inputWidgets": {},
     "nuid": "585d16e8-f270-47e0-a0bb-062db697fe18",
     "showTitle": false,
     "title": ""
    }
   },
   "outputs": [
    {
     "data": {
      "application/vnd.microsoft.datawrangler.viewer.v0+json": {
       "columns": [
        {
         "name": "index",
         "rawType": "int64",
         "type": "integer"
        },
        {
         "name": "id",
         "rawType": "int64",
         "type": "integer"
        },
        {
         "name": "education_level",
         "rawType": "object",
         "type": "string"
        },
        {
         "name": "current_job_title",
         "rawType": "object",
         "type": "string"
        },
        {
         "name": "education_major_at_highest_level",
         "rawType": "object",
         "type": "string"
        },
        {
         "name": "sex",
         "rawType": "object",
         "type": "string"
        },
        {
         "name": "zip_code",
         "rawType": "int64",
         "type": "integer"
        },
        {
         "name": "birth_date_month",
         "rawType": "object",
         "type": "string"
        },
        {
         "name": "birth_date_year",
         "rawType": "object",
         "type": "string"
        },
        {
         "name": "current_job_start_date_month",
         "rawType": "object",
         "type": "string"
        },
        {
         "name": "current_job_start_date_year",
         "rawType": "object",
         "type": "string"
        },
        {
         "name": "sim_score",
         "rawType": "float64",
         "type": "float"
        },
        {
         "name": "orig_index",
         "rawType": "int64",
         "type": "integer"
        },
        {
         "name": "src",
         "rawType": "object",
         "type": "string"
        }
       ],
       "ref": "6955f2c5-7327-4c9f-9688-107784529816",
       "rows": [
        [
         "0",
         "156",
         "Masters",
         "Systems Analyst",
         "Mathematics",
         "F",
         "30309",
         "August",
         "1990",
         "October",
         "2015",
         "1.0",
         "0",
         "A"
        ],
        [
         "1",
         "141",
         "Bachelors",
         "Mechanical Engineer",
         "Mathematics",
         "F",
         "75201",
         "December",
         "1993",
         "February",
         "2024",
         "1.0",
         "9",
         "A"
        ],
        [
         "2",
         "154",
         "Masters",
         "QA Tester",
         "Data Science",
         "F",
         "30309",
         "May",
         "1999",
         "March",
         "2024",
         "1.0",
         "4",
         "A"
        ],
        [
         "3",
         "114",
         "Bachelors",
         "QA Tester",
         "Economics",
         "F",
         "30309",
         "February",
         "1990",
         "May",
         "2025",
         "1.0",
         "24",
         "A"
        ],
        [
         "4",
         "133",
         "Masters",
         "Data Analyst",
         "Mathematics",
         "M",
         "98101",
         "June",
         "1980",
         "December",
         "2006",
         "1.0",
         "17",
         "A"
        ],
        [
         "5",
         "152",
         "Associate",
         "Marketing Specialist",
         "Psychology",
         "F",
         "80202",
         "June",
         "1995",
         "June",
         "2025",
         "1.0",
         "21",
         "A"
        ],
        [
         "6",
         "138",
         "PhD",
         "Data Analyst",
         "Political Science",
         "M",
         "30309",
         "January",
         "2000",
         "July",
         "2023",
         "1.0",
         "22",
         "A"
        ],
        [
         "7",
         "168",
         "PhD",
         "Mechanical Engineer",
         "Mathematics",
         "M",
         "94107",
         "April",
         "1987",
         "October",
         "2017",
         "1.0",
         "18",
         "A"
        ],
        [
         "8",
         "124",
         "Masters",
         "Software Engineer",
         "Political Science",
         "M",
         "10001",
         "December",
         "1971",
         "July",
         "2014",
         "1.0",
         "27",
         "A"
        ],
        [
         "9",
         "105",
         "Bachelors",
         "UX Designer",
         "Biology",
         "M",
         "60614",
         "May",
         "2000",
         "May",
         "2025",
         "1.0",
         "49",
         "A"
        ]
       ],
       "shape": {
        "columns": 13,
        "rows": 10
       }
      },
      "text/html": [
       "<div>\n",
       "<style scoped>\n",
       "    .dataframe tbody tr th:only-of-type {\n",
       "        vertical-align: middle;\n",
       "    }\n",
       "\n",
       "    .dataframe tbody tr th {\n",
       "        vertical-align: top;\n",
       "    }\n",
       "\n",
       "    .dataframe thead th {\n",
       "        text-align: right;\n",
       "    }\n",
       "</style>\n",
       "<table border=\"1\" class=\"dataframe\">\n",
       "  <thead>\n",
       "    <tr style=\"text-align: right;\">\n",
       "      <th></th>\n",
       "      <th>id</th>\n",
       "      <th>education_level</th>\n",
       "      <th>current_job_title</th>\n",
       "      <th>education_major_at_highest_level</th>\n",
       "      <th>sex</th>\n",
       "      <th>zip_code</th>\n",
       "      <th>birth_date_month</th>\n",
       "      <th>birth_date_year</th>\n",
       "      <th>current_job_start_date_month</th>\n",
       "      <th>current_job_start_date_year</th>\n",
       "      <th>sim_score</th>\n",
       "      <th>orig_index</th>\n",
       "      <th>src</th>\n",
       "    </tr>\n",
       "  </thead>\n",
       "  <tbody>\n",
       "    <tr>\n",
       "      <th>0</th>\n",
       "      <td>156</td>\n",
       "      <td>Masters</td>\n",
       "      <td>Systems Analyst</td>\n",
       "      <td>Mathematics</td>\n",
       "      <td>F</td>\n",
       "      <td>30309</td>\n",
       "      <td>August</td>\n",
       "      <td>1990</td>\n",
       "      <td>October</td>\n",
       "      <td>2015</td>\n",
       "      <td>1.0</td>\n",
       "      <td>0</td>\n",
       "      <td>A</td>\n",
       "    </tr>\n",
       "    <tr>\n",
       "      <th>1</th>\n",
       "      <td>141</td>\n",
       "      <td>Bachelors</td>\n",
       "      <td>Mechanical Engineer</td>\n",
       "      <td>Mathematics</td>\n",
       "      <td>F</td>\n",
       "      <td>75201</td>\n",
       "      <td>December</td>\n",
       "      <td>1993</td>\n",
       "      <td>February</td>\n",
       "      <td>2024</td>\n",
       "      <td>1.0</td>\n",
       "      <td>9</td>\n",
       "      <td>A</td>\n",
       "    </tr>\n",
       "    <tr>\n",
       "      <th>2</th>\n",
       "      <td>154</td>\n",
       "      <td>Masters</td>\n",
       "      <td>QA Tester</td>\n",
       "      <td>Data Science</td>\n",
       "      <td>F</td>\n",
       "      <td>30309</td>\n",
       "      <td>May</td>\n",
       "      <td>1999</td>\n",
       "      <td>March</td>\n",
       "      <td>2024</td>\n",
       "      <td>1.0</td>\n",
       "      <td>4</td>\n",
       "      <td>A</td>\n",
       "    </tr>\n",
       "    <tr>\n",
       "      <th>3</th>\n",
       "      <td>114</td>\n",
       "      <td>Bachelors</td>\n",
       "      <td>QA Tester</td>\n",
       "      <td>Economics</td>\n",
       "      <td>F</td>\n",
       "      <td>30309</td>\n",
       "      <td>February</td>\n",
       "      <td>1990</td>\n",
       "      <td>May</td>\n",
       "      <td>2025</td>\n",
       "      <td>1.0</td>\n",
       "      <td>24</td>\n",
       "      <td>A</td>\n",
       "    </tr>\n",
       "    <tr>\n",
       "      <th>4</th>\n",
       "      <td>133</td>\n",
       "      <td>Masters</td>\n",
       "      <td>Data Analyst</td>\n",
       "      <td>Mathematics</td>\n",
       "      <td>M</td>\n",
       "      <td>98101</td>\n",
       "      <td>June</td>\n",
       "      <td>1980</td>\n",
       "      <td>December</td>\n",
       "      <td>2006</td>\n",
       "      <td>1.0</td>\n",
       "      <td>17</td>\n",
       "      <td>A</td>\n",
       "    </tr>\n",
       "    <tr>\n",
       "      <th>5</th>\n",
       "      <td>152</td>\n",
       "      <td>Associate</td>\n",
       "      <td>Marketing Specialist</td>\n",
       "      <td>Psychology</td>\n",
       "      <td>F</td>\n",
       "      <td>80202</td>\n",
       "      <td>June</td>\n",
       "      <td>1995</td>\n",
       "      <td>June</td>\n",
       "      <td>2025</td>\n",
       "      <td>1.0</td>\n",
       "      <td>21</td>\n",
       "      <td>A</td>\n",
       "    </tr>\n",
       "    <tr>\n",
       "      <th>6</th>\n",
       "      <td>138</td>\n",
       "      <td>PhD</td>\n",
       "      <td>Data Analyst</td>\n",
       "      <td>Political Science</td>\n",
       "      <td>M</td>\n",
       "      <td>30309</td>\n",
       "      <td>January</td>\n",
       "      <td>2000</td>\n",
       "      <td>July</td>\n",
       "      <td>2023</td>\n",
       "      <td>1.0</td>\n",
       "      <td>22</td>\n",
       "      <td>A</td>\n",
       "    </tr>\n",
       "    <tr>\n",
       "      <th>7</th>\n",
       "      <td>168</td>\n",
       "      <td>PhD</td>\n",
       "      <td>Mechanical Engineer</td>\n",
       "      <td>Mathematics</td>\n",
       "      <td>M</td>\n",
       "      <td>94107</td>\n",
       "      <td>April</td>\n",
       "      <td>1987</td>\n",
       "      <td>October</td>\n",
       "      <td>2017</td>\n",
       "      <td>1.0</td>\n",
       "      <td>18</td>\n",
       "      <td>A</td>\n",
       "    </tr>\n",
       "    <tr>\n",
       "      <th>8</th>\n",
       "      <td>124</td>\n",
       "      <td>Masters</td>\n",
       "      <td>Software Engineer</td>\n",
       "      <td>Political Science</td>\n",
       "      <td>M</td>\n",
       "      <td>10001</td>\n",
       "      <td>December</td>\n",
       "      <td>1971</td>\n",
       "      <td>July</td>\n",
       "      <td>2014</td>\n",
       "      <td>1.0</td>\n",
       "      <td>27</td>\n",
       "      <td>A</td>\n",
       "    </tr>\n",
       "    <tr>\n",
       "      <th>9</th>\n",
       "      <td>105</td>\n",
       "      <td>Bachelors</td>\n",
       "      <td>UX Designer</td>\n",
       "      <td>Biology</td>\n",
       "      <td>M</td>\n",
       "      <td>60614</td>\n",
       "      <td>May</td>\n",
       "      <td>2000</td>\n",
       "      <td>May</td>\n",
       "      <td>2025</td>\n",
       "      <td>1.0</td>\n",
       "      <td>49</td>\n",
       "      <td>A</td>\n",
       "    </tr>\n",
       "  </tbody>\n",
       "</table>\n",
       "</div>"
      ],
      "text/plain": [
       "    id education_level     current_job_title education_major_at_highest_level  \\\n",
       "0  156         Masters       Systems Analyst                      Mathematics   \n",
       "1  141       Bachelors   Mechanical Engineer                      Mathematics   \n",
       "2  154         Masters             QA Tester                     Data Science   \n",
       "3  114       Bachelors             QA Tester                        Economics   \n",
       "4  133         Masters          Data Analyst                      Mathematics   \n",
       "5  152       Associate  Marketing Specialist                       Psychology   \n",
       "6  138             PhD          Data Analyst                Political Science   \n",
       "7  168             PhD   Mechanical Engineer                      Mathematics   \n",
       "8  124         Masters     Software Engineer                Political Science   \n",
       "9  105       Bachelors           UX Designer                          Biology   \n",
       "\n",
       "  sex  zip_code birth_date_month birth_date_year current_job_start_date_month  \\\n",
       "0   F     30309           August            1990                      October   \n",
       "1   F     75201         December            1993                     February   \n",
       "2   F     30309              May            1999                        March   \n",
       "3   F     30309         February            1990                          May   \n",
       "4   M     98101             June            1980                     December   \n",
       "5   F     80202             June            1995                         June   \n",
       "6   M     30309          January            2000                         July   \n",
       "7   M     94107            April            1987                      October   \n",
       "8   M     10001         December            1971                         July   \n",
       "9   M     60614              May            2000                          May   \n",
       "\n",
       "  current_job_start_date_year  sim_score  orig_index src  \n",
       "0                        2015        1.0           0   A  \n",
       "1                        2024        1.0           9   A  \n",
       "2                        2024        1.0           4   A  \n",
       "3                        2025        1.0          24   A  \n",
       "4                        2006        1.0          17   A  \n",
       "5                        2025        1.0          21   A  \n",
       "6                        2023        1.0          22   A  \n",
       "7                        2017        1.0          18   A  \n",
       "8                        2014        1.0          27   A  \n",
       "9                        2025        1.0          49   A  "
      ]
     },
     "execution_count": 67,
     "metadata": {},
     "output_type": "execute_result"
    }
   ],
   "source": [
    "final_df_A.head(10)"
   ]
  },
  {
   "cell_type": "code",
   "execution_count": 71,
   "metadata": {
    "application/vnd.databricks.v1+cell": {
     "cellMetadata": {
      "byteLimit": 2048000,
      "rowLimit": 10000
     },
     "inputWidgets": {},
     "nuid": "c81714a6-1740-4aaf-a406-e96dbf2b160e",
     "showTitle": false,
     "title": ""
    }
   },
   "outputs": [
    {
     "data": {
      "text/plain": [
       "array([156, 141, 154, 114, 133, 152, 138, 168, 124, 105, 169, 121, 167,\n",
       "       159, 104, 142, 151, 137, 136, 175, 163, 165, 120, 184, 128, 162,\n",
       "       164, 131, 116, 149, 174, 123, 178, 119, 118, 187, 180, 144, 171,\n",
       "       189, 160, 191, 143, 106, 148, 129, 194, 186, 117, 199])"
      ]
     },
     "execution_count": 71,
     "metadata": {},
     "output_type": "execute_result"
    }
   ],
   "source": [
    "final_df_A['id'].to_numpy()"
   ]
  },
  {
   "cell_type": "code",
   "execution_count": 72,
   "metadata": {
    "application/vnd.databricks.v1+cell": {
     "cellMetadata": {
      "byteLimit": 2048000,
      "rowLimit": 10000
     },
     "inputWidgets": {},
     "nuid": "d4d2ad9b-3a33-47fc-a9e5-06bd33b4d180",
     "showTitle": false,
     "title": ""
    }
   },
   "outputs": [
    {
     "data": {
      "application/vnd.microsoft.datawrangler.viewer.v0+json": {
       "columns": [
        {
         "name": "index",
         "rawType": "int64",
         "type": "integer"
        },
        {
         "name": "id",
         "rawType": "int64",
         "type": "integer"
        },
        {
         "name": "education_level",
         "rawType": "object",
         "type": "string"
        },
        {
         "name": "current_job_title",
         "rawType": "object",
         "type": "string"
        },
        {
         "name": "education_major_at_highest_level",
         "rawType": "object",
         "type": "string"
        },
        {
         "name": "sex",
         "rawType": "object",
         "type": "string"
        },
        {
         "name": "zip_code",
         "rawType": "int64",
         "type": "integer"
        },
        {
         "name": "birth_date_month",
         "rawType": "object",
         "type": "string"
        },
        {
         "name": "birth_date_year",
         "rawType": "object",
         "type": "string"
        },
        {
         "name": "current_job_start_date_month",
         "rawType": "object",
         "type": "string"
        },
        {
         "name": "current_job_start_date_year",
         "rawType": "object",
         "type": "string"
        },
        {
         "name": "sim_score",
         "rawType": "float64",
         "type": "float"
        },
        {
         "name": "orig_index",
         "rawType": "int64",
         "type": "integer"
        },
        {
         "name": "src",
         "rawType": "object",
         "type": "string"
        }
       ],
       "ref": "471b385c-7145-47e8-85d8-238d0930f759",
       "rows": [
        [
         "0",
         "156",
         "Masters",
         "Systems Analyst",
         "Mathematics",
         "F",
         "30309",
         "August",
         "1990",
         "October",
         "2015",
         "1.0",
         "0",
         "B"
        ],
        [
         "1",
         "141",
         "Bachelors",
         "Mechanical Engineer",
         "Mathematics",
         "F",
         "75201",
         "December",
         "1993",
         "February",
         "2024",
         "1.0",
         "9",
         "B"
        ],
        [
         "2",
         "154",
         "Masters",
         "QA Tester",
         "Data Science",
         "F",
         "30309",
         "May",
         "1999",
         "March",
         "2024",
         "1.0",
         "4",
         "B"
        ],
        [
         "3",
         "114",
         "Bachelors",
         "QA Tester",
         "Economics",
         "F",
         "30309",
         "February",
         "1990",
         "May",
         "2025",
         "1.0",
         "24",
         "B"
        ],
        [
         "4",
         "133",
         "Masters",
         "Data Analyst",
         "Mathematics",
         "M",
         "98101",
         "June",
         "1980",
         "December",
         "2006",
         "1.0",
         "17",
         "B"
        ],
        [
         "5",
         "152",
         "Associate",
         "Marketing Specialist",
         "Psychology",
         "F",
         "80202",
         "June",
         "1995",
         "June",
         "2025",
         "1.0",
         "21",
         "B"
        ],
        [
         "6",
         "138",
         "PhD",
         "Data Analyst",
         "Political Science",
         "M",
         "30309",
         "January",
         "2000",
         "July",
         "2023",
         "1.0",
         "22",
         "B"
        ],
        [
         "7",
         "168",
         "PhD",
         "Mechanical Engineer",
         "Mathematics",
         "M",
         "94107",
         "April",
         "1987",
         "October",
         "2017",
         "1.0",
         "18",
         "B"
        ],
        [
         "8",
         "124",
         "Masters",
         "Software Engineer",
         "Political Science",
         "M",
         "10001",
         "December",
         "1971",
         "July",
         "2014",
         "1.0",
         "27",
         "B"
        ],
        [
         "9",
         "105",
         "Bachelors",
         "UX Designer",
         "Biology",
         "M",
         "60614",
         "May",
         "2000",
         "May",
         "2025",
         "1.0",
         "49",
         "B"
        ]
       ],
       "shape": {
        "columns": 13,
        "rows": 10
       }
      },
      "text/html": [
       "<div>\n",
       "<style scoped>\n",
       "    .dataframe tbody tr th:only-of-type {\n",
       "        vertical-align: middle;\n",
       "    }\n",
       "\n",
       "    .dataframe tbody tr th {\n",
       "        vertical-align: top;\n",
       "    }\n",
       "\n",
       "    .dataframe thead th {\n",
       "        text-align: right;\n",
       "    }\n",
       "</style>\n",
       "<table border=\"1\" class=\"dataframe\">\n",
       "  <thead>\n",
       "    <tr style=\"text-align: right;\">\n",
       "      <th></th>\n",
       "      <th>id</th>\n",
       "      <th>education_level</th>\n",
       "      <th>current_job_title</th>\n",
       "      <th>education_major_at_highest_level</th>\n",
       "      <th>sex</th>\n",
       "      <th>zip_code</th>\n",
       "      <th>birth_date_month</th>\n",
       "      <th>birth_date_year</th>\n",
       "      <th>current_job_start_date_month</th>\n",
       "      <th>current_job_start_date_year</th>\n",
       "      <th>sim_score</th>\n",
       "      <th>orig_index</th>\n",
       "      <th>src</th>\n",
       "    </tr>\n",
       "  </thead>\n",
       "  <tbody>\n",
       "    <tr>\n",
       "      <th>0</th>\n",
       "      <td>156</td>\n",
       "      <td>Masters</td>\n",
       "      <td>Systems Analyst</td>\n",
       "      <td>Mathematics</td>\n",
       "      <td>F</td>\n",
       "      <td>30309</td>\n",
       "      <td>August</td>\n",
       "      <td>1990</td>\n",
       "      <td>October</td>\n",
       "      <td>2015</td>\n",
       "      <td>1.0</td>\n",
       "      <td>0</td>\n",
       "      <td>B</td>\n",
       "    </tr>\n",
       "    <tr>\n",
       "      <th>1</th>\n",
       "      <td>141</td>\n",
       "      <td>Bachelors</td>\n",
       "      <td>Mechanical Engineer</td>\n",
       "      <td>Mathematics</td>\n",
       "      <td>F</td>\n",
       "      <td>75201</td>\n",
       "      <td>December</td>\n",
       "      <td>1993</td>\n",
       "      <td>February</td>\n",
       "      <td>2024</td>\n",
       "      <td>1.0</td>\n",
       "      <td>9</td>\n",
       "      <td>B</td>\n",
       "    </tr>\n",
       "    <tr>\n",
       "      <th>2</th>\n",
       "      <td>154</td>\n",
       "      <td>Masters</td>\n",
       "      <td>QA Tester</td>\n",
       "      <td>Data Science</td>\n",
       "      <td>F</td>\n",
       "      <td>30309</td>\n",
       "      <td>May</td>\n",
       "      <td>1999</td>\n",
       "      <td>March</td>\n",
       "      <td>2024</td>\n",
       "      <td>1.0</td>\n",
       "      <td>4</td>\n",
       "      <td>B</td>\n",
       "    </tr>\n",
       "    <tr>\n",
       "      <th>3</th>\n",
       "      <td>114</td>\n",
       "      <td>Bachelors</td>\n",
       "      <td>QA Tester</td>\n",
       "      <td>Economics</td>\n",
       "      <td>F</td>\n",
       "      <td>30309</td>\n",
       "      <td>February</td>\n",
       "      <td>1990</td>\n",
       "      <td>May</td>\n",
       "      <td>2025</td>\n",
       "      <td>1.0</td>\n",
       "      <td>24</td>\n",
       "      <td>B</td>\n",
       "    </tr>\n",
       "    <tr>\n",
       "      <th>4</th>\n",
       "      <td>133</td>\n",
       "      <td>Masters</td>\n",
       "      <td>Data Analyst</td>\n",
       "      <td>Mathematics</td>\n",
       "      <td>M</td>\n",
       "      <td>98101</td>\n",
       "      <td>June</td>\n",
       "      <td>1980</td>\n",
       "      <td>December</td>\n",
       "      <td>2006</td>\n",
       "      <td>1.0</td>\n",
       "      <td>17</td>\n",
       "      <td>B</td>\n",
       "    </tr>\n",
       "    <tr>\n",
       "      <th>5</th>\n",
       "      <td>152</td>\n",
       "      <td>Associate</td>\n",
       "      <td>Marketing Specialist</td>\n",
       "      <td>Psychology</td>\n",
       "      <td>F</td>\n",
       "      <td>80202</td>\n",
       "      <td>June</td>\n",
       "      <td>1995</td>\n",
       "      <td>June</td>\n",
       "      <td>2025</td>\n",
       "      <td>1.0</td>\n",
       "      <td>21</td>\n",
       "      <td>B</td>\n",
       "    </tr>\n",
       "    <tr>\n",
       "      <th>6</th>\n",
       "      <td>138</td>\n",
       "      <td>PhD</td>\n",
       "      <td>Data Analyst</td>\n",
       "      <td>Political Science</td>\n",
       "      <td>M</td>\n",
       "      <td>30309</td>\n",
       "      <td>January</td>\n",
       "      <td>2000</td>\n",
       "      <td>July</td>\n",
       "      <td>2023</td>\n",
       "      <td>1.0</td>\n",
       "      <td>22</td>\n",
       "      <td>B</td>\n",
       "    </tr>\n",
       "    <tr>\n",
       "      <th>7</th>\n",
       "      <td>168</td>\n",
       "      <td>PhD</td>\n",
       "      <td>Mechanical Engineer</td>\n",
       "      <td>Mathematics</td>\n",
       "      <td>M</td>\n",
       "      <td>94107</td>\n",
       "      <td>April</td>\n",
       "      <td>1987</td>\n",
       "      <td>October</td>\n",
       "      <td>2017</td>\n",
       "      <td>1.0</td>\n",
       "      <td>18</td>\n",
       "      <td>B</td>\n",
       "    </tr>\n",
       "    <tr>\n",
       "      <th>8</th>\n",
       "      <td>124</td>\n",
       "      <td>Masters</td>\n",
       "      <td>Software Engineer</td>\n",
       "      <td>Political Science</td>\n",
       "      <td>M</td>\n",
       "      <td>10001</td>\n",
       "      <td>December</td>\n",
       "      <td>1971</td>\n",
       "      <td>July</td>\n",
       "      <td>2014</td>\n",
       "      <td>1.0</td>\n",
       "      <td>27</td>\n",
       "      <td>B</td>\n",
       "    </tr>\n",
       "    <tr>\n",
       "      <th>9</th>\n",
       "      <td>105</td>\n",
       "      <td>Bachelors</td>\n",
       "      <td>UX Designer</td>\n",
       "      <td>Biology</td>\n",
       "      <td>M</td>\n",
       "      <td>60614</td>\n",
       "      <td>May</td>\n",
       "      <td>2000</td>\n",
       "      <td>May</td>\n",
       "      <td>2025</td>\n",
       "      <td>1.0</td>\n",
       "      <td>49</td>\n",
       "      <td>B</td>\n",
       "    </tr>\n",
       "  </tbody>\n",
       "</table>\n",
       "</div>"
      ],
      "text/plain": [
       "    id education_level     current_job_title education_major_at_highest_level  \\\n",
       "0  156         Masters       Systems Analyst                      Mathematics   \n",
       "1  141       Bachelors   Mechanical Engineer                      Mathematics   \n",
       "2  154         Masters             QA Tester                     Data Science   \n",
       "3  114       Bachelors             QA Tester                        Economics   \n",
       "4  133         Masters          Data Analyst                      Mathematics   \n",
       "5  152       Associate  Marketing Specialist                       Psychology   \n",
       "6  138             PhD          Data Analyst                Political Science   \n",
       "7  168             PhD   Mechanical Engineer                      Mathematics   \n",
       "8  124         Masters     Software Engineer                Political Science   \n",
       "9  105       Bachelors           UX Designer                          Biology   \n",
       "\n",
       "  sex  zip_code birth_date_month birth_date_year current_job_start_date_month  \\\n",
       "0   F     30309           August            1990                      October   \n",
       "1   F     75201         December            1993                     February   \n",
       "2   F     30309              May            1999                        March   \n",
       "3   F     30309         February            1990                          May   \n",
       "4   M     98101             June            1980                     December   \n",
       "5   F     80202             June            1995                         June   \n",
       "6   M     30309          January            2000                         July   \n",
       "7   M     94107            April            1987                      October   \n",
       "8   M     10001         December            1971                         July   \n",
       "9   M     60614              May            2000                          May   \n",
       "\n",
       "  current_job_start_date_year  sim_score  orig_index src  \n",
       "0                        2015        1.0           0   B  \n",
       "1                        2024        1.0           9   B  \n",
       "2                        2024        1.0           4   B  \n",
       "3                        2025        1.0          24   B  \n",
       "4                        2006        1.0          17   B  \n",
       "5                        2025        1.0          21   B  \n",
       "6                        2023        1.0          22   B  \n",
       "7                        2017        1.0          18   B  \n",
       "8                        2014        1.0          27   B  \n",
       "9                        2025        1.0          49   B  "
      ]
     },
     "execution_count": 72,
     "metadata": {},
     "output_type": "execute_result"
    }
   ],
   "source": [
    "final_df_B.head(10)"
   ]
  },
  {
   "cell_type": "code",
   "execution_count": 73,
   "metadata": {
    "application/vnd.databricks.v1+cell": {
     "cellMetadata": {
      "byteLimit": 2048000,
      "rowLimit": 10000
     },
     "inputWidgets": {},
     "nuid": "1773f1cb-8735-4632-8b73-5a66622de798",
     "showTitle": false,
     "title": ""
    }
   },
   "outputs": [
    {
     "data": {
      "text/plain": [
       "array([156, 141, 154, 114, 133, 152, 138, 168, 124, 105, 169, 121, 167,\n",
       "       159, 104, 142, 151, 137, 136, 175, 163, 165, 120, 184, 128, 162,\n",
       "       164, 131, 116, 149, 174, 123, 178, 119, 118, 187, 180, 144, 171,\n",
       "       189, 160, 191, 143, 106, 148, 129, 194, 186, 117, 199])"
      ]
     },
     "execution_count": 73,
     "metadata": {},
     "output_type": "execute_result"
    }
   ],
   "source": [
    "final_df_B['id'].to_numpy()"
   ]
  },
  {
   "cell_type": "markdown",
   "metadata": {
    "application/vnd.databricks.v1+cell": {
     "cellMetadata": {},
     "inputWidgets": {},
     "nuid": "e5d96041-5dd3-4941-8a02-8298071cc205",
     "showTitle": false,
     "title": ""
    }
   },
   "source": [
    "## Get Model Recommendations & Assign these to SMEs"
   ]
  },
  {
   "cell_type": "markdown",
   "metadata": {
    "application/vnd.databricks.v1+cell": {
     "cellMetadata": {},
     "inputWidgets": {},
     "nuid": "998272d2-71e8-4cc5-8b4e-b20a7862cbe4",
     "showTitle": false,
     "title": ""
    }
   },
   "source": [
    "### 9) EXTERNAL ACTION REQUIRED: Produce recommendations for final datasets\n",
    "\n",
    "**Responsible Parties: Performer (Developer/Vendor/Team, etc.)**\n",
    "\n",
    "The indices/unique ID(s) from the final sampled datasets will be provided to each **performer**. The **performer** shall then use these instances as inputs into their *models* to produce associated recommendations. Each recommendation should have an ID to link it back to the input instance used. These IDs will also be used to assign recommendations to SME reviewers."
   ]
  },
  {
   "cell_type": "markdown",
   "metadata": {
    "application/vnd.databricks.v1+cell": {
     "cellMetadata": {},
     "inputWidgets": {},
     "nuid": "44bef228-dec6-49af-81d9-02d1d0bc7a3d",
     "showTitle": false,
     "title": ""
    }
   },
   "source": [
    "### 10) Generate SME recommendation assignments\n",
    "\n",
    "Make the recommendation assignment to each SME enabling overlapping reviews (e.g. 3 recommendations rated by 1 SME) to better estimate and account for bias and variability in reviews. This is obviously dependent on the available number of SMEs and recommendations. Note that recommendations will have a unique recommendation ID which is linked to the corresponding instances in A or B. Additionally, SME will be assigned unique IDs.\n"
   ]
  },
  {
   "cell_type": "markdown",
   "metadata": {
    "application/vnd.databricks.v1+cell": {
     "cellMetadata": {},
     "inputWidgets": {},
     "nuid": "7a3c5a5f-8d43-4cc5-b53a-8613f553d3f7",
     "showTitle": false,
     "title": ""
    }
   },
   "source": [
    "**NOTE: SME-based Limitations:** \n",
    "\n",
    "This methodology's effectiveness depends on proper SME selection, instructions, and standardized evaluation guidelines, as SME expertise is assumed. To maximize the reliability measured by ICC and mitigate potential unconscious bias toward familiar output formats, comprehensive evaluation guidelines should be created for clear instructions on the assessment process. Without these safeguards, the statistical analyses (including Mann-Whitney U Test, Kolmogorov-Smirnov Test, and ICC calculations) may yield unreliable results that could lead to incorrect conclusions about AI model performance and comparisons."
   ]
  },
  {
   "cell_type": "markdown",
   "metadata": {
    "application/vnd.databricks.v1+cell": {
     "cellMetadata": {},
     "inputWidgets": {},
     "nuid": "dcca7f57-230d-4c67-a119-0ef383a07986",
     "showTitle": false,
     "title": ""
    }
   },
   "source": [
    "At this point assuming independence in recommendations; however, if top *n* for one but not the other, then will need to likely just pick the top recommendation for each to assign to SMEs."
   ]
  },
  {
   "cell_type": "markdown",
   "metadata": {
    "application/vnd.databricks.v1+cell": {
     "cellMetadata": {},
     "inputWidgets": {},
     "nuid": "567be99d-7ddb-43b4-a0b7-7af90442a39e",
     "showTitle": false,
     "title": ""
    }
   },
   "source": [
    "List of IDs from generated test datasets. Can use `final_df_A['id'].ravel()` and `final_df_B['id'].ravel()` if all ids are to be assigned a SME evaluations; otherwise, can list or create a subset of ids."
   ]
  },
  {
   "cell_type": "code",
   "execution_count": 74,
   "metadata": {
    "application/vnd.databricks.v1+cell": {
     "cellMetadata": {
      "byteLimit": 2048000,
      "rowLimit": 10000
     },
     "inputWidgets": {},
     "nuid": "ab1f3068-ca98-4d31-95a9-937fe9d1c5cf",
     "showTitle": false,
     "title": ""
    }
   },
   "outputs": [],
   "source": [
    "id_lst_A = final_df_A['id'].to_numpy()\n",
    "id_lst_B = final_df_B['id'].to_numpy()"
   ]
  },
  {
   "cell_type": "code",
   "execution_count": 75,
   "metadata": {
    "application/vnd.databricks.v1+cell": {
     "cellMetadata": {
      "byteLimit": 2048000,
      "rowLimit": 10000
     },
     "inputWidgets": {},
     "nuid": "7bcc2178-3873-4c73-85b1-74795fce94f3",
     "showTitle": false,
     "title": ""
    }
   },
   "outputs": [],
   "source": [
    "def create_sme_ids(id_lst, n_smes=6, x=\"A\"):\n",
    "  n_smes = n_smes\n",
    "  n_recommendations = len(id_lst)\n",
    "\n",
    "  results = [f\"{x}{i}\" for i in range(n_recommendations)]\n",
    "  results = [f\"{a}_{b}\" for a, b in zip(id_lst, results)]\n",
    "  smes = [f\"SME_{x}{i}\" for i in range(n_smes)]\n",
    "\n",
    "  return results, smes"
   ]
  },
  {
   "cell_type": "code",
   "execution_count": 76,
   "metadata": {
    "application/vnd.databricks.v1+cell": {
     "cellMetadata": {
      "byteLimit": 2048000,
      "rowLimit": 10000
     },
     "inputWidgets": {},
     "nuid": "c7611a0c-d44f-4de0-b620-bf1c1392df1b",
     "showTitle": false,
     "title": ""
    }
   },
   "outputs": [],
   "source": [
    "resultsA, smesA = create_sme_ids(id_lst_A, 5, \"A\")\n",
    "resultsB, smesB = create_sme_ids(id_lst_B, 5, \"B\")"
   ]
  },
  {
   "cell_type": "markdown",
   "metadata": {
    "application/vnd.databricks.v1+cell": {
     "cellMetadata": {},
     "inputWidgets": {},
     "nuid": "0a2f7af8-f532-45be-9850-df2f64dc9889",
     "showTitle": false,
     "title": ""
    }
   },
   "source": [
    "### 11) Generate the assignments with overlap\n",
    "\n",
    "This function randomly assigns exactly `n` recommendations (predictions) from the `results` list to each SME. Makes sure that each recommendation is assigned < `overlap` SMEs (so their is some overlap across SMEs with at most 3 overlapping for any SME).\n",
    "\n",
    "This is a variant of a balanced incomplete block design (BIBD) to include controlled overlap. The method herein is more akin to an informal randomized block assignment strategy [4, 5]."
   ]
  },
  {
   "cell_type": "code",
   "execution_count": 77,
   "metadata": {
    "application/vnd.databricks.v1+cell": {
     "cellMetadata": {
      "byteLimit": 2048000,
      "rowLimit": 10000
     },
     "inputWidgets": {},
     "nuid": "0db45f1b-54dc-4a34-b352-671a603ac02e",
     "showTitle": false,
     "title": ""
    }
   },
   "outputs": [],
   "source": [
    "def assign_with_partial_overlap(results, smes, src_label, n=5, overlap_n=10, max_overlap_per=3):\n",
    "    assignments = []\n",
    "    review_to_smes = defaultdict(set)\n",
    "    sme_to_reviews = defaultdict(set)\n",
    "\n",
    "    results = list(results)\n",
    "    smes = list(smes)\n",
    "    \n",
    "    random.shuffle(results)\n",
    "    for i, review in enumerate(results): #each SME gets 1 output\n",
    "        sme = smes[i % len(smes)]\n",
    "        review_to_smes[review].add(sme)\n",
    "        sme_to_reviews[sme].add(review)\n",
    "\n",
    "    reviews_to_overlap = random.sample(results, min(overlap_n, len(results)))\n",
    "\n",
    "    for review in reviews_to_overlap: #now add on some overlap\n",
    "        current_smes = review_to_smes[review]\n",
    "        num_extra_smes = random.randint(1, max_overlap_per - 1)\n",
    "        available_smes = [sme for sme in smes if sme not in current_smes]\n",
    "        extra_smes = random.sample(available_smes, min(num_extra_smes, len(available_smes)))\n",
    "        for sme in extra_smes:\n",
    "            review_to_smes[review].add(sme)\n",
    "            sme_to_reviews[sme].add(review)\n",
    "\n",
    "    for review, sme_list in review_to_smes.items():\n",
    "        for sme in sme_list:\n",
    "            assignments.append({\n",
    "                'SME_ID': sme,\n",
    "                'Result_ID': review,\n",
    "                'Source': src_label\n",
    "            })\n",
    "\n",
    "    return pd.DataFrame(assignments)"
   ]
  },
  {
   "cell_type": "code",
   "execution_count": 78,
   "metadata": {
    "application/vnd.databricks.v1+cell": {
     "cellMetadata": {
      "byteLimit": 2048000,
      "rowLimit": 10000
     },
     "inputWidgets": {},
     "nuid": "bb763bf3-32c4-4739-92be-d393c1cca1c8",
     "showTitle": false,
     "title": ""
    }
   },
   "outputs": [],
   "source": [
    "assignment_A = assign_with_partial_overlap(resultsA, smesA, 'A', 5, 15, 3)\n",
    "assignment_B = assign_with_partial_overlap(resultsB, smesB, 'B', 5, 15, 3)"
   ]
  },
  {
   "cell_type": "markdown",
   "metadata": {
    "application/vnd.databricks.v1+cell": {
     "cellMetadata": {},
     "inputWidgets": {},
     "nuid": "4223b370-37f3-4101-a8d0-2006e5e95d4c",
     "showTitle": false,
     "title": ""
    }
   },
   "source": [
    "Checking the count of overlapping SMEs to recommendations."
   ]
  },
  {
   "cell_type": "code",
   "execution_count": 79,
   "metadata": {
    "application/vnd.databricks.v1+cell": {
     "cellMetadata": {
      "byteLimit": 2048000,
      "rowLimit": 10000
     },
     "inputWidgets": {},
     "nuid": "f2e0886d-ae9a-42d0-bcb2-850619128537",
     "showTitle": false,
     "title": ""
    }
   },
   "outputs": [
    {
     "data": {
      "application/vnd.microsoft.datawrangler.viewer.v0+json": {
       "columns": [
        {
         "name": "index",
         "rawType": "int64",
         "type": "integer"
        },
        {
         "name": "Result_ID",
         "rawType": "object",
         "type": "string"
        },
        {
         "name": "Number_of_SMEs_Reviewing_Result",
         "rawType": "int64",
         "type": "integer"
        }
       ],
       "ref": "6dae2cda-64b6-48af-ac92-04aad683220b",
       "rows": [
        [
         "2",
         "106_B43",
         "2"
        ],
        [
         "4",
         "116_B28",
         "2"
        ],
        [
         "9",
         "121_B11",
         "3"
        ],
        [
         "10",
         "123_B31",
         "3"
        ],
        [
         "14",
         "131_B27",
         "2"
        ],
        [
         "20",
         "142_B15",
         "3"
        ],
        [
         "22",
         "144_B37",
         "2"
        ],
        [
         "32",
         "163_B20",
         "2"
        ],
        [
         "35",
         "167_B12",
         "2"
        ],
        [
         "37",
         "169_B10",
         "3"
        ],
        [
         "38",
         "171_B38",
         "3"
        ],
        [
         "40",
         "175_B19",
         "3"
        ],
        [
         "43",
         "184_B23",
         "2"
        ],
        [
         "47",
         "191_B41",
         "2"
        ],
        [
         "48",
         "194_B46",
         "2"
        ]
       ],
       "shape": {
        "columns": 2,
        "rows": 15
       }
      },
      "text/html": [
       "<div>\n",
       "<style scoped>\n",
       "    .dataframe tbody tr th:only-of-type {\n",
       "        vertical-align: middle;\n",
       "    }\n",
       "\n",
       "    .dataframe tbody tr th {\n",
       "        vertical-align: top;\n",
       "    }\n",
       "\n",
       "    .dataframe thead th {\n",
       "        text-align: right;\n",
       "    }\n",
       "</style>\n",
       "<table border=\"1\" class=\"dataframe\">\n",
       "  <thead>\n",
       "    <tr style=\"text-align: right;\">\n",
       "      <th></th>\n",
       "      <th>Result_ID</th>\n",
       "      <th>Number_of_SMEs_Reviewing_Result</th>\n",
       "    </tr>\n",
       "  </thead>\n",
       "  <tbody>\n",
       "    <tr>\n",
       "      <th>2</th>\n",
       "      <td>106_B43</td>\n",
       "      <td>2</td>\n",
       "    </tr>\n",
       "    <tr>\n",
       "      <th>4</th>\n",
       "      <td>116_B28</td>\n",
       "      <td>2</td>\n",
       "    </tr>\n",
       "    <tr>\n",
       "      <th>9</th>\n",
       "      <td>121_B11</td>\n",
       "      <td>3</td>\n",
       "    </tr>\n",
       "    <tr>\n",
       "      <th>10</th>\n",
       "      <td>123_B31</td>\n",
       "      <td>3</td>\n",
       "    </tr>\n",
       "    <tr>\n",
       "      <th>14</th>\n",
       "      <td>131_B27</td>\n",
       "      <td>2</td>\n",
       "    </tr>\n",
       "    <tr>\n",
       "      <th>20</th>\n",
       "      <td>142_B15</td>\n",
       "      <td>3</td>\n",
       "    </tr>\n",
       "    <tr>\n",
       "      <th>22</th>\n",
       "      <td>144_B37</td>\n",
       "      <td>2</td>\n",
       "    </tr>\n",
       "    <tr>\n",
       "      <th>32</th>\n",
       "      <td>163_B20</td>\n",
       "      <td>2</td>\n",
       "    </tr>\n",
       "    <tr>\n",
       "      <th>35</th>\n",
       "      <td>167_B12</td>\n",
       "      <td>2</td>\n",
       "    </tr>\n",
       "    <tr>\n",
       "      <th>37</th>\n",
       "      <td>169_B10</td>\n",
       "      <td>3</td>\n",
       "    </tr>\n",
       "    <tr>\n",
       "      <th>38</th>\n",
       "      <td>171_B38</td>\n",
       "      <td>3</td>\n",
       "    </tr>\n",
       "    <tr>\n",
       "      <th>40</th>\n",
       "      <td>175_B19</td>\n",
       "      <td>3</td>\n",
       "    </tr>\n",
       "    <tr>\n",
       "      <th>43</th>\n",
       "      <td>184_B23</td>\n",
       "      <td>2</td>\n",
       "    </tr>\n",
       "    <tr>\n",
       "      <th>47</th>\n",
       "      <td>191_B41</td>\n",
       "      <td>2</td>\n",
       "    </tr>\n",
       "    <tr>\n",
       "      <th>48</th>\n",
       "      <td>194_B46</td>\n",
       "      <td>2</td>\n",
       "    </tr>\n",
       "  </tbody>\n",
       "</table>\n",
       "</div>"
      ],
      "text/plain": [
       "   Result_ID  Number_of_SMEs_Reviewing_Result\n",
       "2    106_B43                                2\n",
       "4    116_B28                                2\n",
       "9    121_B11                                3\n",
       "10   123_B31                                3\n",
       "14   131_B27                                2\n",
       "20   142_B15                                3\n",
       "22   144_B37                                2\n",
       "32   163_B20                                2\n",
       "35   167_B12                                2\n",
       "37   169_B10                                3\n",
       "38   171_B38                                3\n",
       "40   175_B19                                3\n",
       "43   184_B23                                2\n",
       "47   191_B41                                2\n",
       "48   194_B46                                2"
      ]
     },
     "execution_count": 79,
     "metadata": {},
     "output_type": "execute_result"
    }
   ],
   "source": [
    "tmp = assignment_B.groupby('Result_ID')['SME_ID'].nunique().reset_index()\n",
    "tmp.rename(columns={'SME_ID': 'Number_of_SMEs_Reviewing_Result'}, inplace=True)\n",
    "tmp[tmp['Number_of_SMEs_Reviewing_Result'] > 1]"
   ]
  },
  {
   "cell_type": "code",
   "execution_count": 80,
   "metadata": {
    "application/vnd.databricks.v1+cell": {
     "cellMetadata": {
      "byteLimit": 2048000,
      "rowLimit": 10000
     },
     "inputWidgets": {},
     "nuid": "e747069f-7412-4349-a30e-882ac27d67ed",
     "showTitle": false,
     "title": ""
    }
   },
   "outputs": [
    {
     "name": "stdout",
     "output_type": "stream",
     "text": [
      "(71, 3)\n",
      "(71, 3)\n"
     ]
    }
   ],
   "source": [
    "print(assignment_A.shape)\n",
    "print(assignment_B.shape)"
   ]
  },
  {
   "cell_type": "code",
   "execution_count": 81,
   "metadata": {
    "application/vnd.databricks.v1+cell": {
     "cellMetadata": {
      "byteLimit": 2048000,
      "rowLimit": 10000
     },
     "inputWidgets": {},
     "nuid": "4832e14f-145d-4050-bd52-5f4e4f7dce92",
     "showTitle": false,
     "title": ""
    }
   },
   "outputs": [
    {
     "name": "stdout",
     "output_type": "stream",
     "text": [
      "50\n",
      "50\n"
     ]
    }
   ],
   "source": [
    "# check to make sure all original test data obs were account for across the SMEs\n",
    "print(len(assignment_A['Result_ID'].unique()))\n",
    "print(len(assignment_B['Result_ID'].unique()))"
   ]
  },
  {
   "cell_type": "code",
   "execution_count": null,
   "metadata": {
    "application/vnd.databricks.v1+cell": {
     "cellMetadata": {
      "byteLimit": 2048000,
      "rowLimit": 10000
     },
     "inputWidgets": {},
     "nuid": "c518a214-85b0-4036-be64-65de71572665",
     "showTitle": false,
     "title": ""
    }
   },
   "outputs": [],
   "source": [
    "# pd.set_option(\"display.max_rows\", None)\n",
    "# pd.set_option(\"display.max_columns\", None)\n",
    "# pd.set_option(\"display.max_colwidth\", None)"
   ]
  },
  {
   "cell_type": "code",
   "execution_count": 84,
   "metadata": {
    "application/vnd.databricks.v1+cell": {
     "cellMetadata": {
      "byteLimit": 2048000,
      "rowLimit": 10000
     },
     "inputWidgets": {},
     "nuid": "56b611a6-4298-4695-9fbc-265f47a5d057",
     "showTitle": false,
     "title": ""
    }
   },
   "outputs": [
    {
     "data": {
      "application/vnd.microsoft.datawrangler.viewer.v0+json": {
       "columns": [
        {
         "name": "index",
         "rawType": "int64",
         "type": "integer"
        },
        {
         "name": "SME_ID",
         "rawType": "object",
         "type": "string"
        },
        {
         "name": "Result_ID",
         "rawType": "object",
         "type": "string"
        },
        {
         "name": "Source",
         "rawType": "object",
         "type": "string"
        }
       ],
       "ref": "cb197f14-237d-4b69-80e0-8440dde80282",
       "rows": [
        [
         "0",
         "SME_A0",
         "149_A29",
         "A"
        ],
        [
         "1",
         "SME_A4",
         "149_A29",
         "A"
        ],
        [
         "2",
         "SME_A1",
         "149_A29",
         "A"
        ],
        [
         "3",
         "SME_A1",
         "189_A39",
         "A"
        ],
        [
         "4",
         "SME_A2",
         "143_A42",
         "A"
        ],
        [
         "5",
         "SME_A4",
         "167_A12",
         "A"
        ],
        [
         "6",
         "SME_A3",
         "167_A12",
         "A"
        ],
        [
         "7",
         "SME_A4",
         "123_A31",
         "A"
        ],
        [
         "8",
         "SME_A0",
         "128_A24",
         "A"
        ],
        [
         "9",
         "SME_A1",
         "105_A9",
         "A"
        ],
        [
         "10",
         "SME_A2",
         "184_A23",
         "A"
        ],
        [
         "11",
         "SME_A3",
         "156_A0",
         "A"
        ],
        [
         "12",
         "SME_A4",
         "124_A8",
         "A"
        ],
        [
         "13",
         "SME_A0",
         "138_A6",
         "A"
        ],
        [
         "14",
         "SME_A1",
         "129_A45",
         "A"
        ],
        [
         "15",
         "SME_A1",
         "133_A4",
         "A"
        ],
        [
         "16",
         "SME_A2",
         "133_A4",
         "A"
        ],
        [
         "17",
         "SME_A4",
         "168_A7",
         "A"
        ],
        [
         "18",
         "SME_A2",
         "168_A7",
         "A"
        ],
        [
         "19",
         "SME_A3",
         "168_A7",
         "A"
        ],
        [
         "20",
         "SME_A4",
         "120_A22",
         "A"
        ],
        [
         "21",
         "SME_A0",
         "165_A21",
         "A"
        ],
        [
         "22",
         "SME_A1",
         "175_A19",
         "A"
        ],
        [
         "23",
         "SME_A2",
         "118_A34",
         "A"
        ],
        [
         "24",
         "SME_A3",
         "114_A3",
         "A"
        ],
        [
         "25",
         "SME_A4",
         "199_A49",
         "A"
        ],
        [
         "26",
         "SME_A0",
         "169_A10",
         "A"
        ],
        [
         "27",
         "SME_A1",
         "178_A32",
         "A"
        ],
        [
         "28",
         "SME_A2",
         "187_A35",
         "A"
        ],
        [
         "29",
         "SME_A4",
         "162_A25",
         "A"
        ],
        [
         "30",
         "SME_A1",
         "162_A25",
         "A"
        ],
        [
         "31",
         "SME_A3",
         "162_A25",
         "A"
        ],
        [
         "32",
         "SME_A4",
         "160_A40",
         "A"
        ],
        [
         "33",
         "SME_A0",
         "142_A15",
         "A"
        ],
        [
         "34",
         "SME_A1",
         "164_A26",
         "A"
        ],
        [
         "35",
         "SME_A2",
         "164_A26",
         "A"
        ],
        [
         "36",
         "SME_A2",
         "117_A48",
         "A"
        ],
        [
         "37",
         "SME_A1",
         "159_A13",
         "A"
        ],
        [
         "38",
         "SME_A3",
         "159_A13",
         "A"
        ],
        [
         "39",
         "SME_A4",
         "136_A18",
         "A"
        ],
        [
         "40",
         "SME_A3",
         "136_A18",
         "A"
        ],
        [
         "41",
         "SME_A0",
         "106_A43",
         "A"
        ],
        [
         "42",
         "SME_A4",
         "194_A46",
         "A"
        ],
        [
         "43",
         "SME_A1",
         "194_A46",
         "A"
        ],
        [
         "44",
         "SME_A4",
         "116_A28",
         "A"
        ],
        [
         "45",
         "SME_A1",
         "116_A28",
         "A"
        ],
        [
         "46",
         "SME_A2",
         "116_A28",
         "A"
        ],
        [
         "47",
         "SME_A4",
         "119_A33",
         "A"
        ],
        [
         "48",
         "SME_A2",
         "119_A33",
         "A"
        ],
        [
         "49",
         "SME_A3",
         "119_A33",
         "A"
        ]
       ],
       "shape": {
        "columns": 3,
        "rows": 71
       }
      },
      "text/html": [
       "<div>\n",
       "<style scoped>\n",
       "    .dataframe tbody tr th:only-of-type {\n",
       "        vertical-align: middle;\n",
       "    }\n",
       "\n",
       "    .dataframe tbody tr th {\n",
       "        vertical-align: top;\n",
       "    }\n",
       "\n",
       "    .dataframe thead th {\n",
       "        text-align: right;\n",
       "    }\n",
       "</style>\n",
       "<table border=\"1\" class=\"dataframe\">\n",
       "  <thead>\n",
       "    <tr style=\"text-align: right;\">\n",
       "      <th></th>\n",
       "      <th>SME_ID</th>\n",
       "      <th>Result_ID</th>\n",
       "      <th>Source</th>\n",
       "    </tr>\n",
       "  </thead>\n",
       "  <tbody>\n",
       "    <tr>\n",
       "      <th>0</th>\n",
       "      <td>SME_A0</td>\n",
       "      <td>149_A29</td>\n",
       "      <td>A</td>\n",
       "    </tr>\n",
       "    <tr>\n",
       "      <th>1</th>\n",
       "      <td>SME_A4</td>\n",
       "      <td>149_A29</td>\n",
       "      <td>A</td>\n",
       "    </tr>\n",
       "    <tr>\n",
       "      <th>2</th>\n",
       "      <td>SME_A1</td>\n",
       "      <td>149_A29</td>\n",
       "      <td>A</td>\n",
       "    </tr>\n",
       "    <tr>\n",
       "      <th>3</th>\n",
       "      <td>SME_A1</td>\n",
       "      <td>189_A39</td>\n",
       "      <td>A</td>\n",
       "    </tr>\n",
       "    <tr>\n",
       "      <th>4</th>\n",
       "      <td>SME_A2</td>\n",
       "      <td>143_A42</td>\n",
       "      <td>A</td>\n",
       "    </tr>\n",
       "    <tr>\n",
       "      <th>5</th>\n",
       "      <td>SME_A4</td>\n",
       "      <td>167_A12</td>\n",
       "      <td>A</td>\n",
       "    </tr>\n",
       "    <tr>\n",
       "      <th>6</th>\n",
       "      <td>SME_A3</td>\n",
       "      <td>167_A12</td>\n",
       "      <td>A</td>\n",
       "    </tr>\n",
       "    <tr>\n",
       "      <th>7</th>\n",
       "      <td>SME_A4</td>\n",
       "      <td>123_A31</td>\n",
       "      <td>A</td>\n",
       "    </tr>\n",
       "    <tr>\n",
       "      <th>8</th>\n",
       "      <td>SME_A0</td>\n",
       "      <td>128_A24</td>\n",
       "      <td>A</td>\n",
       "    </tr>\n",
       "    <tr>\n",
       "      <th>9</th>\n",
       "      <td>SME_A1</td>\n",
       "      <td>105_A9</td>\n",
       "      <td>A</td>\n",
       "    </tr>\n",
       "    <tr>\n",
       "      <th>10</th>\n",
       "      <td>SME_A2</td>\n",
       "      <td>184_A23</td>\n",
       "      <td>A</td>\n",
       "    </tr>\n",
       "    <tr>\n",
       "      <th>11</th>\n",
       "      <td>SME_A3</td>\n",
       "      <td>156_A0</td>\n",
       "      <td>A</td>\n",
       "    </tr>\n",
       "    <tr>\n",
       "      <th>12</th>\n",
       "      <td>SME_A4</td>\n",
       "      <td>124_A8</td>\n",
       "      <td>A</td>\n",
       "    </tr>\n",
       "    <tr>\n",
       "      <th>13</th>\n",
       "      <td>SME_A0</td>\n",
       "      <td>138_A6</td>\n",
       "      <td>A</td>\n",
       "    </tr>\n",
       "    <tr>\n",
       "      <th>14</th>\n",
       "      <td>SME_A1</td>\n",
       "      <td>129_A45</td>\n",
       "      <td>A</td>\n",
       "    </tr>\n",
       "    <tr>\n",
       "      <th>15</th>\n",
       "      <td>SME_A1</td>\n",
       "      <td>133_A4</td>\n",
       "      <td>A</td>\n",
       "    </tr>\n",
       "    <tr>\n",
       "      <th>16</th>\n",
       "      <td>SME_A2</td>\n",
       "      <td>133_A4</td>\n",
       "      <td>A</td>\n",
       "    </tr>\n",
       "    <tr>\n",
       "      <th>17</th>\n",
       "      <td>SME_A4</td>\n",
       "      <td>168_A7</td>\n",
       "      <td>A</td>\n",
       "    </tr>\n",
       "    <tr>\n",
       "      <th>18</th>\n",
       "      <td>SME_A2</td>\n",
       "      <td>168_A7</td>\n",
       "      <td>A</td>\n",
       "    </tr>\n",
       "    <tr>\n",
       "      <th>19</th>\n",
       "      <td>SME_A3</td>\n",
       "      <td>168_A7</td>\n",
       "      <td>A</td>\n",
       "    </tr>\n",
       "    <tr>\n",
       "      <th>20</th>\n",
       "      <td>SME_A4</td>\n",
       "      <td>120_A22</td>\n",
       "      <td>A</td>\n",
       "    </tr>\n",
       "    <tr>\n",
       "      <th>21</th>\n",
       "      <td>SME_A0</td>\n",
       "      <td>165_A21</td>\n",
       "      <td>A</td>\n",
       "    </tr>\n",
       "    <tr>\n",
       "      <th>22</th>\n",
       "      <td>SME_A1</td>\n",
       "      <td>175_A19</td>\n",
       "      <td>A</td>\n",
       "    </tr>\n",
       "    <tr>\n",
       "      <th>23</th>\n",
       "      <td>SME_A2</td>\n",
       "      <td>118_A34</td>\n",
       "      <td>A</td>\n",
       "    </tr>\n",
       "    <tr>\n",
       "      <th>24</th>\n",
       "      <td>SME_A3</td>\n",
       "      <td>114_A3</td>\n",
       "      <td>A</td>\n",
       "    </tr>\n",
       "    <tr>\n",
       "      <th>25</th>\n",
       "      <td>SME_A4</td>\n",
       "      <td>199_A49</td>\n",
       "      <td>A</td>\n",
       "    </tr>\n",
       "    <tr>\n",
       "      <th>26</th>\n",
       "      <td>SME_A0</td>\n",
       "      <td>169_A10</td>\n",
       "      <td>A</td>\n",
       "    </tr>\n",
       "    <tr>\n",
       "      <th>27</th>\n",
       "      <td>SME_A1</td>\n",
       "      <td>178_A32</td>\n",
       "      <td>A</td>\n",
       "    </tr>\n",
       "    <tr>\n",
       "      <th>28</th>\n",
       "      <td>SME_A2</td>\n",
       "      <td>187_A35</td>\n",
       "      <td>A</td>\n",
       "    </tr>\n",
       "    <tr>\n",
       "      <th>29</th>\n",
       "      <td>SME_A4</td>\n",
       "      <td>162_A25</td>\n",
       "      <td>A</td>\n",
       "    </tr>\n",
       "    <tr>\n",
       "      <th>30</th>\n",
       "      <td>SME_A1</td>\n",
       "      <td>162_A25</td>\n",
       "      <td>A</td>\n",
       "    </tr>\n",
       "    <tr>\n",
       "      <th>31</th>\n",
       "      <td>SME_A3</td>\n",
       "      <td>162_A25</td>\n",
       "      <td>A</td>\n",
       "    </tr>\n",
       "    <tr>\n",
       "      <th>32</th>\n",
       "      <td>SME_A4</td>\n",
       "      <td>160_A40</td>\n",
       "      <td>A</td>\n",
       "    </tr>\n",
       "    <tr>\n",
       "      <th>33</th>\n",
       "      <td>SME_A0</td>\n",
       "      <td>142_A15</td>\n",
       "      <td>A</td>\n",
       "    </tr>\n",
       "    <tr>\n",
       "      <th>34</th>\n",
       "      <td>SME_A1</td>\n",
       "      <td>164_A26</td>\n",
       "      <td>A</td>\n",
       "    </tr>\n",
       "    <tr>\n",
       "      <th>35</th>\n",
       "      <td>SME_A2</td>\n",
       "      <td>164_A26</td>\n",
       "      <td>A</td>\n",
       "    </tr>\n",
       "    <tr>\n",
       "      <th>36</th>\n",
       "      <td>SME_A2</td>\n",
       "      <td>117_A48</td>\n",
       "      <td>A</td>\n",
       "    </tr>\n",
       "    <tr>\n",
       "      <th>37</th>\n",
       "      <td>SME_A1</td>\n",
       "      <td>159_A13</td>\n",
       "      <td>A</td>\n",
       "    </tr>\n",
       "    <tr>\n",
       "      <th>38</th>\n",
       "      <td>SME_A3</td>\n",
       "      <td>159_A13</td>\n",
       "      <td>A</td>\n",
       "    </tr>\n",
       "    <tr>\n",
       "      <th>39</th>\n",
       "      <td>SME_A4</td>\n",
       "      <td>136_A18</td>\n",
       "      <td>A</td>\n",
       "    </tr>\n",
       "    <tr>\n",
       "      <th>40</th>\n",
       "      <td>SME_A3</td>\n",
       "      <td>136_A18</td>\n",
       "      <td>A</td>\n",
       "    </tr>\n",
       "    <tr>\n",
       "      <th>41</th>\n",
       "      <td>SME_A0</td>\n",
       "      <td>106_A43</td>\n",
       "      <td>A</td>\n",
       "    </tr>\n",
       "    <tr>\n",
       "      <th>42</th>\n",
       "      <td>SME_A4</td>\n",
       "      <td>194_A46</td>\n",
       "      <td>A</td>\n",
       "    </tr>\n",
       "    <tr>\n",
       "      <th>43</th>\n",
       "      <td>SME_A1</td>\n",
       "      <td>194_A46</td>\n",
       "      <td>A</td>\n",
       "    </tr>\n",
       "    <tr>\n",
       "      <th>44</th>\n",
       "      <td>SME_A4</td>\n",
       "      <td>116_A28</td>\n",
       "      <td>A</td>\n",
       "    </tr>\n",
       "    <tr>\n",
       "      <th>45</th>\n",
       "      <td>SME_A1</td>\n",
       "      <td>116_A28</td>\n",
       "      <td>A</td>\n",
       "    </tr>\n",
       "    <tr>\n",
       "      <th>46</th>\n",
       "      <td>SME_A2</td>\n",
       "      <td>116_A28</td>\n",
       "      <td>A</td>\n",
       "    </tr>\n",
       "    <tr>\n",
       "      <th>47</th>\n",
       "      <td>SME_A4</td>\n",
       "      <td>119_A33</td>\n",
       "      <td>A</td>\n",
       "    </tr>\n",
       "    <tr>\n",
       "      <th>48</th>\n",
       "      <td>SME_A2</td>\n",
       "      <td>119_A33</td>\n",
       "      <td>A</td>\n",
       "    </tr>\n",
       "    <tr>\n",
       "      <th>49</th>\n",
       "      <td>SME_A3</td>\n",
       "      <td>119_A33</td>\n",
       "      <td>A</td>\n",
       "    </tr>\n",
       "    <tr>\n",
       "      <th>50</th>\n",
       "      <td>SME_A4</td>\n",
       "      <td>174_A30</td>\n",
       "      <td>A</td>\n",
       "    </tr>\n",
       "    <tr>\n",
       "      <th>51</th>\n",
       "      <td>SME_A2</td>\n",
       "      <td>174_A30</td>\n",
       "      <td>A</td>\n",
       "    </tr>\n",
       "    <tr>\n",
       "      <th>52</th>\n",
       "      <td>SME_A0</td>\n",
       "      <td>121_A11</td>\n",
       "      <td>A</td>\n",
       "    </tr>\n",
       "    <tr>\n",
       "      <th>53</th>\n",
       "      <td>SME_A1</td>\n",
       "      <td>154_A2</td>\n",
       "      <td>A</td>\n",
       "    </tr>\n",
       "    <tr>\n",
       "      <th>54</th>\n",
       "      <td>SME_A2</td>\n",
       "      <td>191_A41</td>\n",
       "      <td>A</td>\n",
       "    </tr>\n",
       "    <tr>\n",
       "      <th>55</th>\n",
       "      <td>SME_A3</td>\n",
       "      <td>137_A17</td>\n",
       "      <td>A</td>\n",
       "    </tr>\n",
       "    <tr>\n",
       "      <th>56</th>\n",
       "      <td>SME_A4</td>\n",
       "      <td>148_A44</td>\n",
       "      <td>A</td>\n",
       "    </tr>\n",
       "    <tr>\n",
       "      <th>57</th>\n",
       "      <td>SME_A1</td>\n",
       "      <td>148_A44</td>\n",
       "      <td>A</td>\n",
       "    </tr>\n",
       "    <tr>\n",
       "      <th>58</th>\n",
       "      <td>SME_A3</td>\n",
       "      <td>148_A44</td>\n",
       "      <td>A</td>\n",
       "    </tr>\n",
       "    <tr>\n",
       "      <th>59</th>\n",
       "      <td>SME_A0</td>\n",
       "      <td>144_A37</td>\n",
       "      <td>A</td>\n",
       "    </tr>\n",
       "    <tr>\n",
       "      <th>60</th>\n",
       "      <td>SME_A1</td>\n",
       "      <td>180_A36</td>\n",
       "      <td>A</td>\n",
       "    </tr>\n",
       "    <tr>\n",
       "      <th>61</th>\n",
       "      <td>SME_A1</td>\n",
       "      <td>104_A14</td>\n",
       "      <td>A</td>\n",
       "    </tr>\n",
       "    <tr>\n",
       "      <th>62</th>\n",
       "      <td>SME_A2</td>\n",
       "      <td>104_A14</td>\n",
       "      <td>A</td>\n",
       "    </tr>\n",
       "    <tr>\n",
       "      <th>63</th>\n",
       "      <td>SME_A2</td>\n",
       "      <td>152_A5</td>\n",
       "      <td>A</td>\n",
       "    </tr>\n",
       "    <tr>\n",
       "      <th>64</th>\n",
       "      <td>SME_A3</td>\n",
       "      <td>152_A5</td>\n",
       "      <td>A</td>\n",
       "    </tr>\n",
       "    <tr>\n",
       "      <th>65</th>\n",
       "      <td>SME_A4</td>\n",
       "      <td>141_A1</td>\n",
       "      <td>A</td>\n",
       "    </tr>\n",
       "    <tr>\n",
       "      <th>66</th>\n",
       "      <td>SME_A0</td>\n",
       "      <td>151_A16</td>\n",
       "      <td>A</td>\n",
       "    </tr>\n",
       "    <tr>\n",
       "      <th>67</th>\n",
       "      <td>SME_A1</td>\n",
       "      <td>171_A38</td>\n",
       "      <td>A</td>\n",
       "    </tr>\n",
       "    <tr>\n",
       "      <th>68</th>\n",
       "      <td>SME_A2</td>\n",
       "      <td>163_A20</td>\n",
       "      <td>A</td>\n",
       "    </tr>\n",
       "    <tr>\n",
       "      <th>69</th>\n",
       "      <td>SME_A3</td>\n",
       "      <td>186_A47</td>\n",
       "      <td>A</td>\n",
       "    </tr>\n",
       "    <tr>\n",
       "      <th>70</th>\n",
       "      <td>SME_A4</td>\n",
       "      <td>131_A27</td>\n",
       "      <td>A</td>\n",
       "    </tr>\n",
       "  </tbody>\n",
       "</table>\n",
       "</div>"
      ],
      "text/plain": [
       "    SME_ID Result_ID Source\n",
       "0   SME_A0   149_A29      A\n",
       "1   SME_A4   149_A29      A\n",
       "2   SME_A1   149_A29      A\n",
       "3   SME_A1   189_A39      A\n",
       "4   SME_A2   143_A42      A\n",
       "5   SME_A4   167_A12      A\n",
       "6   SME_A3   167_A12      A\n",
       "7   SME_A4   123_A31      A\n",
       "8   SME_A0   128_A24      A\n",
       "9   SME_A1    105_A9      A\n",
       "10  SME_A2   184_A23      A\n",
       "11  SME_A3    156_A0      A\n",
       "12  SME_A4    124_A8      A\n",
       "13  SME_A0    138_A6      A\n",
       "14  SME_A1   129_A45      A\n",
       "15  SME_A1    133_A4      A\n",
       "16  SME_A2    133_A4      A\n",
       "17  SME_A4    168_A7      A\n",
       "18  SME_A2    168_A7      A\n",
       "19  SME_A3    168_A7      A\n",
       "20  SME_A4   120_A22      A\n",
       "21  SME_A0   165_A21      A\n",
       "22  SME_A1   175_A19      A\n",
       "23  SME_A2   118_A34      A\n",
       "24  SME_A3    114_A3      A\n",
       "25  SME_A4   199_A49      A\n",
       "26  SME_A0   169_A10      A\n",
       "27  SME_A1   178_A32      A\n",
       "28  SME_A2   187_A35      A\n",
       "29  SME_A4   162_A25      A\n",
       "30  SME_A1   162_A25      A\n",
       "31  SME_A3   162_A25      A\n",
       "32  SME_A4   160_A40      A\n",
       "33  SME_A0   142_A15      A\n",
       "34  SME_A1   164_A26      A\n",
       "35  SME_A2   164_A26      A\n",
       "36  SME_A2   117_A48      A\n",
       "37  SME_A1   159_A13      A\n",
       "38  SME_A3   159_A13      A\n",
       "39  SME_A4   136_A18      A\n",
       "40  SME_A3   136_A18      A\n",
       "41  SME_A0   106_A43      A\n",
       "42  SME_A4   194_A46      A\n",
       "43  SME_A1   194_A46      A\n",
       "44  SME_A4   116_A28      A\n",
       "45  SME_A1   116_A28      A\n",
       "46  SME_A2   116_A28      A\n",
       "47  SME_A4   119_A33      A\n",
       "48  SME_A2   119_A33      A\n",
       "49  SME_A3   119_A33      A\n",
       "50  SME_A4   174_A30      A\n",
       "51  SME_A2   174_A30      A\n",
       "52  SME_A0   121_A11      A\n",
       "53  SME_A1    154_A2      A\n",
       "54  SME_A2   191_A41      A\n",
       "55  SME_A3   137_A17      A\n",
       "56  SME_A4   148_A44      A\n",
       "57  SME_A1   148_A44      A\n",
       "58  SME_A3   148_A44      A\n",
       "59  SME_A0   144_A37      A\n",
       "60  SME_A1   180_A36      A\n",
       "61  SME_A1   104_A14      A\n",
       "62  SME_A2   104_A14      A\n",
       "63  SME_A2    152_A5      A\n",
       "64  SME_A3    152_A5      A\n",
       "65  SME_A4    141_A1      A\n",
       "66  SME_A0   151_A16      A\n",
       "67  SME_A1   171_A38      A\n",
       "68  SME_A2   163_A20      A\n",
       "69  SME_A3   186_A47      A\n",
       "70  SME_A4   131_A27      A"
      ]
     },
     "execution_count": 84,
     "metadata": {},
     "output_type": "execute_result"
    }
   ],
   "source": [
    "assignment_A"
   ]
  },
  {
   "cell_type": "code",
   "execution_count": 85,
   "metadata": {
    "application/vnd.databricks.v1+cell": {
     "cellMetadata": {
      "byteLimit": 2048000,
      "rowLimit": 10000
     },
     "inputWidgets": {},
     "nuid": "5d672ea0-63d4-45c5-8bb7-cb73b039ab70",
     "showTitle": false,
     "title": ""
    }
   },
   "outputs": [
    {
     "data": {
      "application/vnd.microsoft.datawrangler.viewer.v0+json": {
       "columns": [
        {
         "name": "index",
         "rawType": "int64",
         "type": "integer"
        },
        {
         "name": "SME_ID",
         "rawType": "object",
         "type": "string"
        },
        {
         "name": "Result_ID",
         "rawType": "object",
         "type": "string"
        },
        {
         "name": "Source",
         "rawType": "object",
         "type": "string"
        }
       ],
       "ref": "d9ee5b69-af18-4b14-894b-679c1004eae1",
       "rows": [
        [
         "0",
         "SME_B0",
         "199_B49",
         "B"
        ],
        [
         "1",
         "SME_B1",
         "178_B32",
         "B"
        ],
        [
         "2",
         "SME_B2",
         "104_B14",
         "B"
        ],
        [
         "3",
         "SME_B3",
         "114_B3",
         "B"
        ],
        [
         "4",
         "SME_B4",
         "184_B23",
         "B"
        ],
        [
         "5",
         "SME_B0",
         "184_B23",
         "B"
        ],
        [
         "6",
         "SME_B3",
         "121_B11",
         "B"
        ],
        [
         "7",
         "SME_B2",
         "121_B11",
         "B"
        ],
        [
         "8",
         "SME_B0",
         "121_B11",
         "B"
        ],
        [
         "9",
         "SME_B1",
         "117_B48",
         "B"
        ],
        [
         "10",
         "SME_B2",
         "164_B26",
         "B"
        ],
        [
         "11",
         "SME_B3",
         "187_B35",
         "B"
        ],
        [
         "12",
         "SME_B4",
         "119_B33",
         "B"
        ],
        [
         "13",
         "SME_B0",
         "151_B16",
         "B"
        ],
        [
         "14",
         "SME_B1",
         "152_B5",
         "B"
        ],
        [
         "15",
         "SME_B2",
         "160_B40",
         "B"
        ],
        [
         "16",
         "SME_B3",
         "124_B8",
         "B"
        ],
        [
         "17",
         "SME_B4",
         "154_B2",
         "B"
        ],
        [
         "18",
         "SME_B0",
         "189_B39",
         "B"
        ],
        [
         "19",
         "SME_B0",
         "191_B41",
         "B"
        ],
        [
         "20",
         "SME_B1",
         "191_B41",
         "B"
        ],
        [
         "21",
         "SME_B2",
         "133_B4",
         "B"
        ],
        [
         "22",
         "SME_B3",
         "129_B45",
         "B"
        ],
        [
         "23",
         "SME_B4",
         "162_B25",
         "B"
        ],
        [
         "24",
         "SME_B4",
         "142_B15",
         "B"
        ],
        [
         "25",
         "SME_B2",
         "142_B15",
         "B"
        ],
        [
         "26",
         "SME_B0",
         "142_B15",
         "B"
        ],
        [
         "27",
         "SME_B3",
         "169_B10",
         "B"
        ],
        [
         "28",
         "SME_B0",
         "169_B10",
         "B"
        ],
        [
         "29",
         "SME_B1",
         "169_B10",
         "B"
        ],
        [
         "30",
         "SME_B2",
         "141_B1",
         "B"
        ],
        [
         "31",
         "SME_B3",
         "159_B13",
         "B"
        ],
        [
         "32",
         "SME_B4",
         "106_B43",
         "B"
        ],
        [
         "33",
         "SME_B0",
         "106_B43",
         "B"
        ],
        [
         "34",
         "SME_B0",
         "167_B12",
         "B"
        ],
        [
         "35",
         "SME_B1",
         "167_B12",
         "B"
        ],
        [
         "36",
         "SME_B1",
         "186_B47",
         "B"
        ],
        [
         "37",
         "SME_B2",
         "168_B7",
         "B"
        ],
        [
         "38",
         "SME_B3",
         "180_B36",
         "B"
        ],
        [
         "39",
         "SME_B4",
         "138_B6",
         "B"
        ],
        [
         "40",
         "SME_B3",
         "131_B27",
         "B"
        ],
        [
         "41",
         "SME_B0",
         "131_B27",
         "B"
        ],
        [
         "42",
         "SME_B2",
         "163_B20",
         "B"
        ],
        [
         "43",
         "SME_B1",
         "163_B20",
         "B"
        ],
        [
         "44",
         "SME_B2",
         "149_B29",
         "B"
        ],
        [
         "45",
         "SME_B3",
         "128_B24",
         "B"
        ],
        [
         "46",
         "SME_B4",
         "171_B38",
         "B"
        ],
        [
         "47",
         "SME_B0",
         "171_B38",
         "B"
        ],
        [
         "48",
         "SME_B1",
         "171_B38",
         "B"
        ],
        [
         "49",
         "SME_B0",
         "165_B21",
         "B"
        ]
       ],
       "shape": {
        "columns": 3,
        "rows": 71
       }
      },
      "text/html": [
       "<div>\n",
       "<style scoped>\n",
       "    .dataframe tbody tr th:only-of-type {\n",
       "        vertical-align: middle;\n",
       "    }\n",
       "\n",
       "    .dataframe tbody tr th {\n",
       "        vertical-align: top;\n",
       "    }\n",
       "\n",
       "    .dataframe thead th {\n",
       "        text-align: right;\n",
       "    }\n",
       "</style>\n",
       "<table border=\"1\" class=\"dataframe\">\n",
       "  <thead>\n",
       "    <tr style=\"text-align: right;\">\n",
       "      <th></th>\n",
       "      <th>SME_ID</th>\n",
       "      <th>Result_ID</th>\n",
       "      <th>Source</th>\n",
       "    </tr>\n",
       "  </thead>\n",
       "  <tbody>\n",
       "    <tr>\n",
       "      <th>0</th>\n",
       "      <td>SME_B0</td>\n",
       "      <td>199_B49</td>\n",
       "      <td>B</td>\n",
       "    </tr>\n",
       "    <tr>\n",
       "      <th>1</th>\n",
       "      <td>SME_B1</td>\n",
       "      <td>178_B32</td>\n",
       "      <td>B</td>\n",
       "    </tr>\n",
       "    <tr>\n",
       "      <th>2</th>\n",
       "      <td>SME_B2</td>\n",
       "      <td>104_B14</td>\n",
       "      <td>B</td>\n",
       "    </tr>\n",
       "    <tr>\n",
       "      <th>3</th>\n",
       "      <td>SME_B3</td>\n",
       "      <td>114_B3</td>\n",
       "      <td>B</td>\n",
       "    </tr>\n",
       "    <tr>\n",
       "      <th>4</th>\n",
       "      <td>SME_B4</td>\n",
       "      <td>184_B23</td>\n",
       "      <td>B</td>\n",
       "    </tr>\n",
       "    <tr>\n",
       "      <th>5</th>\n",
       "      <td>SME_B0</td>\n",
       "      <td>184_B23</td>\n",
       "      <td>B</td>\n",
       "    </tr>\n",
       "    <tr>\n",
       "      <th>6</th>\n",
       "      <td>SME_B3</td>\n",
       "      <td>121_B11</td>\n",
       "      <td>B</td>\n",
       "    </tr>\n",
       "    <tr>\n",
       "      <th>7</th>\n",
       "      <td>SME_B2</td>\n",
       "      <td>121_B11</td>\n",
       "      <td>B</td>\n",
       "    </tr>\n",
       "    <tr>\n",
       "      <th>8</th>\n",
       "      <td>SME_B0</td>\n",
       "      <td>121_B11</td>\n",
       "      <td>B</td>\n",
       "    </tr>\n",
       "    <tr>\n",
       "      <th>9</th>\n",
       "      <td>SME_B1</td>\n",
       "      <td>117_B48</td>\n",
       "      <td>B</td>\n",
       "    </tr>\n",
       "    <tr>\n",
       "      <th>10</th>\n",
       "      <td>SME_B2</td>\n",
       "      <td>164_B26</td>\n",
       "      <td>B</td>\n",
       "    </tr>\n",
       "    <tr>\n",
       "      <th>11</th>\n",
       "      <td>SME_B3</td>\n",
       "      <td>187_B35</td>\n",
       "      <td>B</td>\n",
       "    </tr>\n",
       "    <tr>\n",
       "      <th>12</th>\n",
       "      <td>SME_B4</td>\n",
       "      <td>119_B33</td>\n",
       "      <td>B</td>\n",
       "    </tr>\n",
       "    <tr>\n",
       "      <th>13</th>\n",
       "      <td>SME_B0</td>\n",
       "      <td>151_B16</td>\n",
       "      <td>B</td>\n",
       "    </tr>\n",
       "    <tr>\n",
       "      <th>14</th>\n",
       "      <td>SME_B1</td>\n",
       "      <td>152_B5</td>\n",
       "      <td>B</td>\n",
       "    </tr>\n",
       "    <tr>\n",
       "      <th>15</th>\n",
       "      <td>SME_B2</td>\n",
       "      <td>160_B40</td>\n",
       "      <td>B</td>\n",
       "    </tr>\n",
       "    <tr>\n",
       "      <th>16</th>\n",
       "      <td>SME_B3</td>\n",
       "      <td>124_B8</td>\n",
       "      <td>B</td>\n",
       "    </tr>\n",
       "    <tr>\n",
       "      <th>17</th>\n",
       "      <td>SME_B4</td>\n",
       "      <td>154_B2</td>\n",
       "      <td>B</td>\n",
       "    </tr>\n",
       "    <tr>\n",
       "      <th>18</th>\n",
       "      <td>SME_B0</td>\n",
       "      <td>189_B39</td>\n",
       "      <td>B</td>\n",
       "    </tr>\n",
       "    <tr>\n",
       "      <th>19</th>\n",
       "      <td>SME_B0</td>\n",
       "      <td>191_B41</td>\n",
       "      <td>B</td>\n",
       "    </tr>\n",
       "    <tr>\n",
       "      <th>20</th>\n",
       "      <td>SME_B1</td>\n",
       "      <td>191_B41</td>\n",
       "      <td>B</td>\n",
       "    </tr>\n",
       "    <tr>\n",
       "      <th>21</th>\n",
       "      <td>SME_B2</td>\n",
       "      <td>133_B4</td>\n",
       "      <td>B</td>\n",
       "    </tr>\n",
       "    <tr>\n",
       "      <th>22</th>\n",
       "      <td>SME_B3</td>\n",
       "      <td>129_B45</td>\n",
       "      <td>B</td>\n",
       "    </tr>\n",
       "    <tr>\n",
       "      <th>23</th>\n",
       "      <td>SME_B4</td>\n",
       "      <td>162_B25</td>\n",
       "      <td>B</td>\n",
       "    </tr>\n",
       "    <tr>\n",
       "      <th>24</th>\n",
       "      <td>SME_B4</td>\n",
       "      <td>142_B15</td>\n",
       "      <td>B</td>\n",
       "    </tr>\n",
       "    <tr>\n",
       "      <th>25</th>\n",
       "      <td>SME_B2</td>\n",
       "      <td>142_B15</td>\n",
       "      <td>B</td>\n",
       "    </tr>\n",
       "    <tr>\n",
       "      <th>26</th>\n",
       "      <td>SME_B0</td>\n",
       "      <td>142_B15</td>\n",
       "      <td>B</td>\n",
       "    </tr>\n",
       "    <tr>\n",
       "      <th>27</th>\n",
       "      <td>SME_B3</td>\n",
       "      <td>169_B10</td>\n",
       "      <td>B</td>\n",
       "    </tr>\n",
       "    <tr>\n",
       "      <th>28</th>\n",
       "      <td>SME_B0</td>\n",
       "      <td>169_B10</td>\n",
       "      <td>B</td>\n",
       "    </tr>\n",
       "    <tr>\n",
       "      <th>29</th>\n",
       "      <td>SME_B1</td>\n",
       "      <td>169_B10</td>\n",
       "      <td>B</td>\n",
       "    </tr>\n",
       "    <tr>\n",
       "      <th>30</th>\n",
       "      <td>SME_B2</td>\n",
       "      <td>141_B1</td>\n",
       "      <td>B</td>\n",
       "    </tr>\n",
       "    <tr>\n",
       "      <th>31</th>\n",
       "      <td>SME_B3</td>\n",
       "      <td>159_B13</td>\n",
       "      <td>B</td>\n",
       "    </tr>\n",
       "    <tr>\n",
       "      <th>32</th>\n",
       "      <td>SME_B4</td>\n",
       "      <td>106_B43</td>\n",
       "      <td>B</td>\n",
       "    </tr>\n",
       "    <tr>\n",
       "      <th>33</th>\n",
       "      <td>SME_B0</td>\n",
       "      <td>106_B43</td>\n",
       "      <td>B</td>\n",
       "    </tr>\n",
       "    <tr>\n",
       "      <th>34</th>\n",
       "      <td>SME_B0</td>\n",
       "      <td>167_B12</td>\n",
       "      <td>B</td>\n",
       "    </tr>\n",
       "    <tr>\n",
       "      <th>35</th>\n",
       "      <td>SME_B1</td>\n",
       "      <td>167_B12</td>\n",
       "      <td>B</td>\n",
       "    </tr>\n",
       "    <tr>\n",
       "      <th>36</th>\n",
       "      <td>SME_B1</td>\n",
       "      <td>186_B47</td>\n",
       "      <td>B</td>\n",
       "    </tr>\n",
       "    <tr>\n",
       "      <th>37</th>\n",
       "      <td>SME_B2</td>\n",
       "      <td>168_B7</td>\n",
       "      <td>B</td>\n",
       "    </tr>\n",
       "    <tr>\n",
       "      <th>38</th>\n",
       "      <td>SME_B3</td>\n",
       "      <td>180_B36</td>\n",
       "      <td>B</td>\n",
       "    </tr>\n",
       "    <tr>\n",
       "      <th>39</th>\n",
       "      <td>SME_B4</td>\n",
       "      <td>138_B6</td>\n",
       "      <td>B</td>\n",
       "    </tr>\n",
       "    <tr>\n",
       "      <th>40</th>\n",
       "      <td>SME_B3</td>\n",
       "      <td>131_B27</td>\n",
       "      <td>B</td>\n",
       "    </tr>\n",
       "    <tr>\n",
       "      <th>41</th>\n",
       "      <td>SME_B0</td>\n",
       "      <td>131_B27</td>\n",
       "      <td>B</td>\n",
       "    </tr>\n",
       "    <tr>\n",
       "      <th>42</th>\n",
       "      <td>SME_B2</td>\n",
       "      <td>163_B20</td>\n",
       "      <td>B</td>\n",
       "    </tr>\n",
       "    <tr>\n",
       "      <th>43</th>\n",
       "      <td>SME_B1</td>\n",
       "      <td>163_B20</td>\n",
       "      <td>B</td>\n",
       "    </tr>\n",
       "    <tr>\n",
       "      <th>44</th>\n",
       "      <td>SME_B2</td>\n",
       "      <td>149_B29</td>\n",
       "      <td>B</td>\n",
       "    </tr>\n",
       "    <tr>\n",
       "      <th>45</th>\n",
       "      <td>SME_B3</td>\n",
       "      <td>128_B24</td>\n",
       "      <td>B</td>\n",
       "    </tr>\n",
       "    <tr>\n",
       "      <th>46</th>\n",
       "      <td>SME_B4</td>\n",
       "      <td>171_B38</td>\n",
       "      <td>B</td>\n",
       "    </tr>\n",
       "    <tr>\n",
       "      <th>47</th>\n",
       "      <td>SME_B0</td>\n",
       "      <td>171_B38</td>\n",
       "      <td>B</td>\n",
       "    </tr>\n",
       "    <tr>\n",
       "      <th>48</th>\n",
       "      <td>SME_B1</td>\n",
       "      <td>171_B38</td>\n",
       "      <td>B</td>\n",
       "    </tr>\n",
       "    <tr>\n",
       "      <th>49</th>\n",
       "      <td>SME_B0</td>\n",
       "      <td>165_B21</td>\n",
       "      <td>B</td>\n",
       "    </tr>\n",
       "    <tr>\n",
       "      <th>50</th>\n",
       "      <td>SME_B1</td>\n",
       "      <td>120_B22</td>\n",
       "      <td>B</td>\n",
       "    </tr>\n",
       "    <tr>\n",
       "      <th>51</th>\n",
       "      <td>SME_B2</td>\n",
       "      <td>174_B30</td>\n",
       "      <td>B</td>\n",
       "    </tr>\n",
       "    <tr>\n",
       "      <th>52</th>\n",
       "      <td>SME_B3</td>\n",
       "      <td>118_B34</td>\n",
       "      <td>B</td>\n",
       "    </tr>\n",
       "    <tr>\n",
       "      <th>53</th>\n",
       "      <td>SME_B4</td>\n",
       "      <td>116_B28</td>\n",
       "      <td>B</td>\n",
       "    </tr>\n",
       "    <tr>\n",
       "      <th>54</th>\n",
       "      <td>SME_B3</td>\n",
       "      <td>116_B28</td>\n",
       "      <td>B</td>\n",
       "    </tr>\n",
       "    <tr>\n",
       "      <th>55</th>\n",
       "      <td>SME_B0</td>\n",
       "      <td>105_B9</td>\n",
       "      <td>B</td>\n",
       "    </tr>\n",
       "    <tr>\n",
       "      <th>56</th>\n",
       "      <td>SME_B2</td>\n",
       "      <td>123_B31</td>\n",
       "      <td>B</td>\n",
       "    </tr>\n",
       "    <tr>\n",
       "      <th>57</th>\n",
       "      <td>SME_B0</td>\n",
       "      <td>123_B31</td>\n",
       "      <td>B</td>\n",
       "    </tr>\n",
       "    <tr>\n",
       "      <th>58</th>\n",
       "      <td>SME_B1</td>\n",
       "      <td>123_B31</td>\n",
       "      <td>B</td>\n",
       "    </tr>\n",
       "    <tr>\n",
       "      <th>59</th>\n",
       "      <td>SME_B2</td>\n",
       "      <td>143_B42</td>\n",
       "      <td>B</td>\n",
       "    </tr>\n",
       "    <tr>\n",
       "      <th>60</th>\n",
       "      <td>SME_B3</td>\n",
       "      <td>148_B44</td>\n",
       "      <td>B</td>\n",
       "    </tr>\n",
       "    <tr>\n",
       "      <th>61</th>\n",
       "      <td>SME_B4</td>\n",
       "      <td>144_B37</td>\n",
       "      <td>B</td>\n",
       "    </tr>\n",
       "    <tr>\n",
       "      <th>62</th>\n",
       "      <td>SME_B2</td>\n",
       "      <td>144_B37</td>\n",
       "      <td>B</td>\n",
       "    </tr>\n",
       "    <tr>\n",
       "      <th>63</th>\n",
       "      <td>SME_B3</td>\n",
       "      <td>175_B19</td>\n",
       "      <td>B</td>\n",
       "    </tr>\n",
       "    <tr>\n",
       "      <th>64</th>\n",
       "      <td>SME_B2</td>\n",
       "      <td>175_B19</td>\n",
       "      <td>B</td>\n",
       "    </tr>\n",
       "    <tr>\n",
       "      <th>65</th>\n",
       "      <td>SME_B0</td>\n",
       "      <td>175_B19</td>\n",
       "      <td>B</td>\n",
       "    </tr>\n",
       "    <tr>\n",
       "      <th>66</th>\n",
       "      <td>SME_B2</td>\n",
       "      <td>194_B46</td>\n",
       "      <td>B</td>\n",
       "    </tr>\n",
       "    <tr>\n",
       "      <th>67</th>\n",
       "      <td>SME_B1</td>\n",
       "      <td>194_B46</td>\n",
       "      <td>B</td>\n",
       "    </tr>\n",
       "    <tr>\n",
       "      <th>68</th>\n",
       "      <td>SME_B2</td>\n",
       "      <td>136_B18</td>\n",
       "      <td>B</td>\n",
       "    </tr>\n",
       "    <tr>\n",
       "      <th>69</th>\n",
       "      <td>SME_B3</td>\n",
       "      <td>156_B0</td>\n",
       "      <td>B</td>\n",
       "    </tr>\n",
       "    <tr>\n",
       "      <th>70</th>\n",
       "      <td>SME_B4</td>\n",
       "      <td>137_B17</td>\n",
       "      <td>B</td>\n",
       "    </tr>\n",
       "  </tbody>\n",
       "</table>\n",
       "</div>"
      ],
      "text/plain": [
       "    SME_ID Result_ID Source\n",
       "0   SME_B0   199_B49      B\n",
       "1   SME_B1   178_B32      B\n",
       "2   SME_B2   104_B14      B\n",
       "3   SME_B3    114_B3      B\n",
       "4   SME_B4   184_B23      B\n",
       "5   SME_B0   184_B23      B\n",
       "6   SME_B3   121_B11      B\n",
       "7   SME_B2   121_B11      B\n",
       "8   SME_B0   121_B11      B\n",
       "9   SME_B1   117_B48      B\n",
       "10  SME_B2   164_B26      B\n",
       "11  SME_B3   187_B35      B\n",
       "12  SME_B4   119_B33      B\n",
       "13  SME_B0   151_B16      B\n",
       "14  SME_B1    152_B5      B\n",
       "15  SME_B2   160_B40      B\n",
       "16  SME_B3    124_B8      B\n",
       "17  SME_B4    154_B2      B\n",
       "18  SME_B0   189_B39      B\n",
       "19  SME_B0   191_B41      B\n",
       "20  SME_B1   191_B41      B\n",
       "21  SME_B2    133_B4      B\n",
       "22  SME_B3   129_B45      B\n",
       "23  SME_B4   162_B25      B\n",
       "24  SME_B4   142_B15      B\n",
       "25  SME_B2   142_B15      B\n",
       "26  SME_B0   142_B15      B\n",
       "27  SME_B3   169_B10      B\n",
       "28  SME_B0   169_B10      B\n",
       "29  SME_B1   169_B10      B\n",
       "30  SME_B2    141_B1      B\n",
       "31  SME_B3   159_B13      B\n",
       "32  SME_B4   106_B43      B\n",
       "33  SME_B0   106_B43      B\n",
       "34  SME_B0   167_B12      B\n",
       "35  SME_B1   167_B12      B\n",
       "36  SME_B1   186_B47      B\n",
       "37  SME_B2    168_B7      B\n",
       "38  SME_B3   180_B36      B\n",
       "39  SME_B4    138_B6      B\n",
       "40  SME_B3   131_B27      B\n",
       "41  SME_B0   131_B27      B\n",
       "42  SME_B2   163_B20      B\n",
       "43  SME_B1   163_B20      B\n",
       "44  SME_B2   149_B29      B\n",
       "45  SME_B3   128_B24      B\n",
       "46  SME_B4   171_B38      B\n",
       "47  SME_B0   171_B38      B\n",
       "48  SME_B1   171_B38      B\n",
       "49  SME_B0   165_B21      B\n",
       "50  SME_B1   120_B22      B\n",
       "51  SME_B2   174_B30      B\n",
       "52  SME_B3   118_B34      B\n",
       "53  SME_B4   116_B28      B\n",
       "54  SME_B3   116_B28      B\n",
       "55  SME_B0    105_B9      B\n",
       "56  SME_B2   123_B31      B\n",
       "57  SME_B0   123_B31      B\n",
       "58  SME_B1   123_B31      B\n",
       "59  SME_B2   143_B42      B\n",
       "60  SME_B3   148_B44      B\n",
       "61  SME_B4   144_B37      B\n",
       "62  SME_B2   144_B37      B\n",
       "63  SME_B3   175_B19      B\n",
       "64  SME_B2   175_B19      B\n",
       "65  SME_B0   175_B19      B\n",
       "66  SME_B2   194_B46      B\n",
       "67  SME_B1   194_B46      B\n",
       "68  SME_B2   136_B18      B\n",
       "69  SME_B3    156_B0      B\n",
       "70  SME_B4   137_B17      B"
      ]
     },
     "execution_count": 85,
     "metadata": {},
     "output_type": "execute_result"
    }
   ],
   "source": [
    "assignment_B"
   ]
  },
  {
   "cell_type": "markdown",
   "metadata": {
    "application/vnd.databricks.v1+cell": {
     "cellMetadata": {},
     "inputWidgets": {},
     "nuid": "08dd6cd9-d231-4981-869f-6215683bada8",
     "showTitle": false,
     "title": ""
    }
   },
   "source": [
    "## Collect and Compile Reviewer Scores"
   ]
  },
  {
   "cell_type": "markdown",
   "metadata": {
    "application/vnd.databricks.v1+cell": {
     "cellMetadata": {},
     "inputWidgets": {},
     "nuid": "6939f974-7960-4078-b1b2-3eb9bd626f8a",
     "showTitle": false,
     "title": ""
    }
   },
   "source": [
    "### 12) EXTERNAL ACTION REQUIRED: Collect scores and comments from SMEs\n",
    "\n",
    "**Responsible Parties: MITSM and Marine SMEs**\n",
    "\n",
    "Have the SMEs (or whomever is collecting results) compile into table (Excel) formatting like the below example (with separate tables/files for A and B):\n",
    "\n",
    "| SME_ID | AI_Result_ID | Source | Score | Comment           |\n",
    "|--------|-----------|--------|-------|-------------------|\n",
    "| SME_A1 | A3        | A      | 4     | \"Clear and useful\" |\n",
    "| SME_A5 | A9        | A      | 5     | \"I would make the same recommendation\" |\n",
    "\n",
    "The Score can be whatever, but for this instance, I am thinking a scale from 1 to 5 indicating the following (with any comments supporting the scoring choice):\n",
    "\n",
    "**1 - Does Not Align**\n",
    "  - The recommended assignment does not align with the Marine’s qualifications, experience, or career progression. It is unsuitable and would not be endorsed by the monitor.\n",
    "\n",
    "**2 - Minimally Aligned**\n",
    "  - The recommendation shows limited relevance but lacks critical alignment with the Marine’s skills, professional development goals, or command needs.\n",
    "\n",
    "**3 - Partially Aligned**\n",
    "  - The recommendation reflects some appropriate aspects but contains significant gaps or mismatches with the Marine’s background or career trajectory.\n",
    "\n",
    "**4 - Mostly Aligned**\n",
    "  - The recommendation closely corresponds to the Marine’s qualifications, career goals, and organizational requirements, with only minor considerations for improvement.\n",
    "\n",
    "**5 - Fully Aligned**\n",
    "  - The recommendation perfectly matches the Marine’s skills, experience, and career progression objectives. It represents an optimal assignment as endorsed by the monitor."
   ]
  },
  {
   "cell_type": "markdown",
   "metadata": {
    "application/vnd.databricks.v1+cell": {
     "cellMetadata": {},
     "inputWidgets": {},
     "nuid": "e25346d8-e2e8-4672-a308-52cc4a23ad37",
     "showTitle": false,
     "title": ""
    }
   },
   "source": [
    "## Reviewer Evaluation Analysis"
   ]
  },
  {
   "cell_type": "markdown",
   "metadata": {
    "application/vnd.databricks.v1+cell": {
     "cellMetadata": {},
     "inputWidgets": {},
     "nuid": "5c1a9824-1dff-42e5-916c-d43cc4402512",
     "showTitle": false,
     "title": ""
    }
   },
   "source": [
    "### 13) Initial Analysis and evaluation of SME scores and comments"
   ]
  },
  {
   "cell_type": "markdown",
   "metadata": {
    "application/vnd.databricks.v1+cell": {
     "cellMetadata": {},
     "inputWidgets": {},
     "nuid": "541442f7-5a17-4655-9ca5-9b4ab719ad54",
     "showTitle": false,
     "title": ""
    }
   },
   "source": [
    "Import Excel files of SME test evaluations and append into a single dataframe."
   ]
  },
  {
   "cell_type": "code",
   "execution_count": 0,
   "metadata": {
    "application/vnd.databricks.v1+cell": {
     "cellMetadata": {
      "byteLimit": 2048000,
      "rowLimit": 10000
     },
     "inputWidgets": {},
     "nuid": "f777d1fe-d7ef-4237-8a35-52803e0d2780",
     "showTitle": false,
     "title": ""
    }
   },
   "outputs": [],
   "source": [
    "# dfA1 = pd.read_excel(\"SME_Feedback_A.xlsx\", sheet_name=0)\n",
    "# dfB1 = pd.read_excel(\"SME_Feedback_B.xlsx\", sheet_name=0)\n",
    "# df_sme = pd.concat([dfA1, dfB1], ignore_index=True)"
   ]
  },
  {
   "cell_type": "markdown",
   "metadata": {
    "application/vnd.databricks.v1+cell": {
     "cellMetadata": {},
     "inputWidgets": {},
     "nuid": "385900a1-f894-461e-bf0a-9d43fdc9f857",
     "showTitle": false,
     "title": ""
    }
   },
   "source": [
    "*For testing, had ChatGPT create sample SME scores and comments given the above AI outcome assignments.*"
   ]
  },
  {
   "cell_type": "code",
   "execution_count": 86,
   "metadata": {
    "application/vnd.databricks.v1+cell": {
     "cellMetadata": {
      "byteLimit": 2048000,
      "rowLimit": 10000
     },
     "inputWidgets": {},
     "nuid": "24e72217-ed27-439a-9580-494ab09a2307",
     "showTitle": false,
     "title": ""
    }
   },
   "outputs": [],
   "source": [
    "feedback_A = [\n",
    "    {\"id\": 143, \"sme_id\": \"SME_A0\", \"name\": \"John Jane\", \"email_address\": \"john.jane@outlook.com\", \"performer\": \"A\", \n",
    "     \"score\": 4, \n",
    "     \"comment\": \"Good alignment with experience and role expectations.\"},\n",
    "    {\"id\": 143, \"sme_id\": \"SME_A2\", \"name\": \"Jane Doe\", \"email_address\": \"jane.doe@gmail.com\", \"performer\": \"A\", \n",
    "     \"score\": 3, \"comment\": \"Reasonable match, but some gaps in technical background.\"},\n",
    "    {\"id\": 110, \"sme_id\": \"SME_A1\", \"name\": \"Samuel Lee\", \"email_address\": \"samuel.lee@example.com\", \"performer\": \"A\", \n",
    "     \"score\": 4, \"comment\": \"Strong recommendation overall, especially given career progression.\"},\n",
    "    {\"id\": 110, \"sme_id\": \"SME_A3\", \"name\": \"Maria Lopez\", \"email_address\": \"maria.lopez@example.com\", \"performer\": \"A\", \n",
    "     \"score\": 5, \"comment\": \"Excellent match. Prior experience fits this assignment perfectly.\"},\n",
    "    {\"id\": 105, \"sme_id\": \"SME_A2\", \"name\": \"Jane Doe\", \"email_address\": \"jane.doe@gmail.com\", \"performer\": \"A\", \n",
    "     \"score\": 3, \"comment\": \"Fair match. Could improve by weighting recency of work history.\"},\n",
    "    {\"id\": 105, \"sme_id\": \"SME_A4\", \"name\": \"David Chen\", \"email_address\": \"david.chen@gmail.com\", \"performer\": \"A\", \n",
    "     \"score\": 4, \"comment\": \"Solid fit with strong education alignment.\"},\n",
    "    {\"id\": 140, \"sme_id\": \"SME_A1\", \"name\": \"Samuel Lee\", \"email_address\": \"samuel.lee@example.com\", \"performer\": \"A\", \n",
    "     \"score\": 3, \"comment\": \"Acceptable alignment, but lacks nuance in technical specialization.\"},\n",
    "    {\"id\": 140, \"sme_id\": \"SME_A3\", \"name\": \"Maria Lopez\", \"email_address\": \"maria.lopez@example.com\", \"performer\": \"A\", \n",
    "     \"score\": 4, \"comment\": \"Reasonable assignment. Education and role show good correlation.\"},\n",
    "    {\"id\": 144, \"sme_id\": \"SME_A1\", \"name\": \"Samuel Lee\", \"email_address\": \"samuel.lee@example.com\", \"performer\": \"A\", \n",
    "     \"score\": 5, \"comment\": \"Excellent match—perfect fit across all key variables.\"},\n",
    "    {\"id\": 144, \"sme_id\": \"SME_A0\", \"name\": \"John Jane\", \"email_address\": \"john.jane@outlook.com\", \"performer\": \"A\", \n",
    "     \"score\": 4, \"comment\": \"Good consistency between education major and job type.\"},\n",
    "    {\"id\": 144, \"sme_id\": \"SME_A4\", \"name\": \"David Chen\", \"email_address\": \"david.chen@gmail.com\", \"performer\": \"A\", \n",
    "     \"score\": 4, \"comment\": \"Very strong alignment, small mismatch in experience length.\"},\n",
    "    {\"id\": 104, \"sme_id\": \"SME_A1\", \"name\": \"Samuel Lee\", \"email_address\": \"samuel.lee@example.com\", \"performer\": \"A\", \n",
    "     \"score\": 3, \"comment\": \"Average match, role could better reflect candidate’s current skills.\"},\n",
    "    {\"id\": 104, \"sme_id\": \"SME_A0\", \"name\": \"John Jane\", \"email_address\": \"john.jane@outlook.com\", \"performer\": \"A\", \n",
    "     \"score\": 3, \"comment\": \"Acceptable, but missing some relevance to the last position held.\"},\n",
    "    {\"id\": 104, \"sme_id\": \"SME_A4\", \"name\": \"David Chen\", \"email_address\": \"david.chen@gmail.com\", \"performer\": \"A\", \n",
    "     \"score\": 4, \"comment\": \"Pretty good alignment—minor adjustment could improve it.\"},\n",
    "    {\"id\": 149, \"sme_id\": \"SME_A1\", \"name\": \"Samuel Lee\", \"email_address\": \"samuel.lee@example.com\", \"performer\": \"A\", \n",
    "     \"score\": 5, \"comment\": \"Excellent recommendation. The strongest of this batch.\"},\n",
    "    {\"id\": 149, \"sme_id\": \"SME_A0\", \"name\": \"John Jane\", \"email_address\": \"john.jane@outlook.com\", \"performer\": \"A\", \n",
    "     \"score\": 4, \"comment\": \"Very good match; experience and education are consistent.\"},\n",
    "    {\"id\": 149, \"sme_id\": \"SME_A2\", \"name\": \"Jane Doe\", \"email_address\": \"jane.doe@gmail.com\", \"performer\": \"A\", \n",
    "     \"score\": 3, \"comment\": \"Seems appropriate overall, though perhaps slightly overqualified.\"},\n",
    "    {\"id\": 127, \"sme_id\": \"SME_A2\", \"name\": \"Jane Doe\", \"email_address\": \"jane.doe@gmail.com\", \"performer\": \"A\", \n",
    "     \"score\": 3, \"comment\": \"Fair match, though role fit could be tighter.\"},\n",
    "    {\"id\": 112, \"sme_id\": \"SME_A1\", \"name\": \"Samuel Lee\", \"email_address\": \"samuel.lee@example.com\", \"performer\": \"A\", \n",
    "     \"score\": 4, \"comment\": \"Good overall recommendation with solid experience alignment.\"},\n",
    "    {\"id\": 112, \"sme_id\": \"SME_A3\", \"name\": \"Maria Lopez\", \"email_address\": \"maria.lopez@example.com\", \"performer\": \"A\", \n",
    "     \"score\": 5, \"comment\": \"Excellent alignment—strong educational background match.\"},\n",
    "    {\"id\": 112, \"sme_id\": \"SME_A2\", \"name\": \"Jane Doe\", \"email_address\": \"jane.doe@gmail.com\", \"performer\": \"A\", \n",
    "     \"score\": 3, \"comment\": \"Adequate match, but education weighting could be improved.\"},\n",
    "    {\"id\": 113, \"sme_id\": \"SME_A2\", \"name\": \"Jane Doe\", \"email_address\": \"jane.doe@gmail.com\", \"performer\": \"A\", \n",
    "     \"score\": 3, \"comment\": \"Reasonable recommendation, though not a perfect fit.\"},\n",
    "    {\"id\": 113, \"sme_id\": \"SME_A4\", \"name\": \"David Chen\", \"email_address\": \"david.chen@gmail.com\", \"performer\": \"A\", \n",
    "     \"score\": 4, \"comment\": \"Good consistency between prior experience and proposed role.\"},\n",
    "    {\"id\": 114, \"sme_id\": \"SME_A1\", \"name\": \"Samuel Lee\", \"email_address\": \"samuel.lee@example.com\", \"performer\": \"A\", \n",
    "     \"score\": 5, \"comment\": \"Ideal fit—education and experience align perfectly.\"},\n",
    "    {\"id\": 114, \"sme_id\": \"SME_A0\", \"name\": \"John Jane\", \"email_address\": \"john.jane@outlook.com\", \"performer\": \"A\", \n",
    "     \"score\": 4, \"comment\": \"Strong alignment overall with only minor mismatches.\"},\n",
    "    {\"id\": 114, \"sme_id\": \"SME_A2\", \"name\": \"Jane Doe\", \"email_address\": \"jane.doe@gmail.com\", \"performer\": \"A\", \n",
    "     \"score\": 3, \"comment\": \"Decent match but could weigh recent experience more heavily.\"},\n",
    "    {\"id\": 124, \"sme_id\": \"SME_A1\", \"name\": \"Samuel Lee\", \"email_address\": \"samuel.lee@example.com\", \"performer\": \"A\", \n",
    "     \"score\": 4, \"comment\": \"Good overall fit with clear consistency across background data.\"},\n",
    "    {\"id\": 124, \"sme_id\": \"SME_A0\", \"name\": \"John Jane\", \"email_address\": \"john.jane@outlook.com\", \"performer\": \"A\", \n",
    "     \"score\": 4, \"comment\": \"Solid recommendation; candidate seems well-suited for the role.\"},\n",
    "    {\"id\": 124, \"sme_id\": \"SME_A2\", \"name\": \"Jane Doe\", \"email_address\": \"jane.doe@gmail.com\", \"performer\": \"A\", \n",
    "     \"score\": 3, \"comment\": \"Satisfactory recommendation with small data gaps.\"},\n",
    "    {\"id\": 115, \"sme_id\": \"SME_A2\", \"name\": \"Jane Doe\", \"email_address\": \"jane.doe@gmail.com\", \"performer\": \"A\", \n",
    "     \"score\": 3, \"comment\": \"Acceptable, though education fit could be stronger.\"},\n",
    "    {\"id\": 115, \"sme_id\": \"SME_A4\", \"name\": \"David Chen\", \"email_address\": \"david.chen@gmail.com\", \"performer\": \"A\", \n",
    "     \"score\": 4, \"comment\": \"Solid alignment, especially on job history and skill set.\"},\n",
    "    {\"id\": 125, \"sme_id\": \"SME_A0\", \"name\": \"John Jane\", \"email_address\": \"john.jane@outlook.com\", \"performer\": \"A\", \n",
    "     \"score\": 4, \"comment\": \"Good match; only slight overrepresentation of academic focus.\"},\n",
    "    {\"id\": 125, \"sme_id\": \"SME_A3\", \"name\": \"Maria Lopez\", \"email_address\": \"maria.lopez@example.com\", \"performer\": \"A\", \n",
    "     \"score\": 5, \"comment\": \"Excellent. Strong alignment across education and work experience.\"},\n",
    "    {\"id\": 118, \"sme_id\": \"SME_A4\", \"name\": \"David Chen\", \"email_address\": \"david.chen@gmail.com\", \"performer\": \"A\", \n",
    "     \"score\": 4, \"comment\": \"Good recommendation, fits career progression path.\"},\n",
    "    {\"id\": 136, \"sme_id\": \"SME_A0\", \"name\": \"John Jane\", \"email_address\": \"john.jane@outlook.com\", \"performer\": \"A\", \n",
    "     \"score\": 4, \"comment\": \"Reasonably consistent with background and skill set.\"},\n",
    "    {\"id\": 136, \"sme_id\": \"SME_A3\", \"name\": \"Maria Lopez\", \"email_address\": \"maria.lopez@example.com\", \"performer\": \"A\", \n",
    "     \"score\": 5, \"comment\": \"Perfect fit. Great consistency between prior roles and new one.\"},\n",
    "    {\"id\": 136, \"sme_id\": \"SME_A4\", \"name\": \"David Chen\", \"email_address\": \"david.chen@gmail.com\", \"performer\": \"A\", \n",
    "     \"score\": 4, \"comment\": \"Solid recommendation with minor mismatches in experience.\"},\n",
    "    {\"id\": 138, \"sme_id\": \"SME_A1\", \"name\": \"Samuel Lee\", \"email_address\": \"samuel.lee@example.com\", \"performer\": \"A\", \n",
    "     \"score\": 4, \"comment\": \"Good alignment overall, though education could be better matched.\"},\n",
    "    {\"id\": 138, \"sme_id\": \"SME_A0\", \"name\": \"John Jane\", \"email_address\": \"john.jane@outlook.com\", \"performer\": \"A\", \n",
    "     \"score\": 3, \"comment\": \"Adequate match; job title alignment feels slightly off.\"},\n",
    "    {\"id\": 138, \"sme_id\": \"SME_A4\", \"name\": \"David Chen\", \"email_address\": \"david.chen@gmail.com\", \"performer\": \"A\", \n",
    "     \"score\": 4, \"comment\": \"Pretty accurate recommendation based on overall experience.\"}\n",
    "]"
   ]
  },
  {
   "cell_type": "code",
   "execution_count": 87,
   "metadata": {
    "application/vnd.databricks.v1+cell": {
     "cellMetadata": {
      "byteLimit": 2048000,
      "rowLimit": 10000
     },
     "inputWidgets": {},
     "nuid": "cc3c0aec-ce1d-4d30-ad78-6ffde466f8c0",
     "showTitle": false,
     "title": ""
    }
   },
   "outputs": [],
   "source": [
    "feedback_B = [\n",
    "    {\"id\": 226, \"sme_id\": \"SME_B2\", \"name\": \"Alex Carter\", \"email_address\": \"alex.carter@proinsights.com\", \"performer\": \"B\", \n",
    "     \"score\": 4, \"comment\": \"Solid recommendation with strong technical overlap.\"},\n",
    "    {\"id\": 226, \"sme_id\": \"SME_B0\", \"name\": \"Priya Patel\", \"email_address\": \"priya.patel@datascope.ai\", \"performer\": \"B\", \n",
    "     \"score\": 3, \"comment\": \"Reasonable fit overall, though education match could improve.\"},\n",
    "    {\"id\": 227, \"sme_id\": \"SME_B1\", \"name\": \"Michael Grant\", \"email_address\": \"michael.grant@analytix.com\", \"performer\": \"B\", \n",
    "     \"score\": 4, \"comment\": \"Good alignment between past experience and current role.\"},\n",
    "    {\"id\": 227, \"sme_id\": \"SME_B4\", \"name\": \"Olivia Nguyen\", \"email_address\": \"olivia.nguyen@researchnet.org\", \"performer\": \"B\", \n",
    "     \"score\": 5, \"comment\": \"Excellent match. Experience trajectory fits perfectly.\"},\n",
    "    {\"id\": 237, \"sme_id\": \"SME_B2\", \"name\": \"Alex Carter\", \"email_address\": \"alex.carter@proinsights.com\", \"performer\": \"B\", \n",
    "     \"score\": 4, \"comment\": \"Good consistency, though role type may be slightly junior.\"},\n",
    "    {\"id\": 246, \"sme_id\": \"SME_B3\", \"name\": \"Sara Kim\", \"email_address\": \"sara.kim@insightflow.io\", \"performer\": \"B\", \n",
    "     \"score\": 3, \"comment\": \"Acceptable recommendation, but industry context feels off.\"},\n",
    "    {\"id\": 246, \"sme_id\": \"SME_B4\", \"name\": \"Olivia Nguyen\", \"email_address\": \"olivia.nguyen@researchnet.org\", \"performer\": \"B\", \n",
    "     \"score\": 4, \"comment\": \"Solid recommendation—job title matches academic focus well.\"},\n",
    "    {\"id\": 202, \"sme_id\": \"SME_B1\", \"name\": \"Michael Grant\", \"email_address\": \"michael.grant@analytix.com\", \"performer\": \"B\", \n",
    "     \"score\": 5, \"comment\": \"Highly appropriate match. Reflects candidate strengths accurately.\"},\n",
    "    {\"id\": 202, \"sme_id\": \"SME_B4\", \"name\": \"Olivia Nguyen\", \"email_address\": \"olivia.nguyen@researchnet.org\", \"performer\": \"B\", \n",
    "     \"score\": 4, \"comment\": \"Good fit overall—location and role type well balanced.\"},\n",
    "    {\"id\": 239, \"sme_id\": \"SME_B3\", \"name\": \"Sara Kim\", \"email_address\": \"sara.kim@insightflow.io\", \"performer\": \"B\", \n",
    "     \"score\": 4, \"comment\": \"Great match, very consistent with job history and degree field.\"},\n",
    "    {\"id\": 239, \"sme_id\": \"SME_B0\", \"name\": \"Priya Patel\", \"email_address\": \"priya.patel@datascope.ai\", \"performer\": \"B\", \n",
    "     \"score\": 3, \"comment\": \"Satisfactory match but could better capture recency of experience.\"},\n",
    "    {\"id\": 232, \"sme_id\": \"SME_B3\", \"name\": \"Sara Kim\", \"email_address\": \"sara.kim@insightflow.io\", \"performer\": \"B\", \n",
    "     \"score\": 4, \"comment\": \"Solid consistency between education and current job function.\"},\n",
    "    {\"id\": 232, \"sme_id\": \"SME_B2\", \"name\": \"Alex Carter\", \"email_address\": \"alex.carter@proinsights.com\", \"performer\": \"B\", \n",
    "     \"score\": 5, \"comment\": \"Excellent match—clearly reflects skill alignment.\"},\n",
    "    {\"id\": 232, \"sme_id\": \"SME_B1\", \"name\": \"Michael Grant\", \"email_address\": \"michael.grant@analytix.com\", \"performer\": \"B\", \n",
    "     \"score\": 4, \"comment\": \"Good fit, though a few attributes could be more closely weighted.\"},\n",
    "    {\"id\": 242, \"sme_id\": \"SME_B2\", \"name\": \"Alex Carter\", \"email_address\": \"alex.carter@proinsights.com\", \"performer\": \"B\", \n",
    "     \"score\": 4, \"comment\": \"Appropriate match; experience aligns with desired skill area.\"},\n",
    "    {\"id\": 242, \"sme_id\": \"SME_B4\", \"name\": \"Olivia Nguyen\", \"email_address\": \"olivia.nguyen@researchnet.org\", \"performer\": \"B\", \n",
    "     \"score\": 5, \"comment\": \"Excellent alignment with experience and education background.\"},\n",
    "    {\"id\": 242, \"sme_id\": \"SME_B0\", \"name\": \"Priya Patel\", \"email_address\": \"priya.patel@datascope.ai\", \"performer\": \"B\", \n",
    "     \"score\": 3, \"comment\": \"Reasonable recommendation. Missing slight nuance in job type.\"},\n",
    "    {\"id\": 217, \"sme_id\": \"SME_B2\", \"name\": \"Alex Carter\", \"email_address\": \"alex.carter@proinsights.com\", \"performer\": \"B\", \n",
    "     \"score\": 4, \"comment\": \"Good fit—education aligns with technical depth required.\"},\n",
    "    {\"id\": 217, \"sme_id\": \"SME_B3\", \"name\": \"Sara Kim\", \"email_address\": \"sara.kim@insightflow.io\", \"performer\": \"B\", \n",
    "     \"score\": 5, \"comment\": \"Excellent. Strong match across all key areas.\"},\n",
    "    {\"id\": 217, \"sme_id\": \"SME_B0\", \"name\": \"Priya Patel\", \"email_address\": \"priya.patel@datascope.ai\", \"performer\": \"B\", \n",
    "     \"score\": 3, \"comment\": \"Acceptable recommendation, though slightly generic.\"},\n",
    "    {\"id\": 204, \"sme_id\": \"SME_B2\", \"name\": \"Alex Carter\", \"email_address\": \"alex.carter@proinsights.com\", \"performer\": \"B\", \n",
    "     \"score\": 4, \"comment\": \"Solid fit with minor deviation in job location relevance.\"},\n",
    "    {\"id\": 204, \"sme_id\": \"SME_B4\", \"name\": \"Olivia Nguyen\", \"email_address\": \"olivia.nguyen@researchnet.org\", \"performer\": \"B\", \n",
    "     \"score\": 5, \"comment\": \"Strong alignment—education background perfectly suits the role.\"},\n",
    "    {\"id\": 214, \"sme_id\": \"SME_B1\", \"name\": \"Michael Grant\", \"email_address\": \"michael.grant@analytix.com\", \"performer\": \"B\", \n",
    "     \"score\": 4, \"comment\": \"Good match, though career trajectory could be better emphasized.\"},\n",
    "    {\"id\": 214, \"sme_id\": \"SME_B0\", \"name\": \"Priya Patel\", \"email_address\": \"priya.patel@datascope.ai\", \"performer\": \"B\", \n",
    "     \"score\": 3, \"comment\": \"Fair recommendation with some misalignment on industry focus.\"},\n",
    "    {\"id\": 215, \"sme_id\": \"SME_B3\", \"name\": \"Sara Kim\", \"email_address\": \"sara.kim@insightflow.io\", \"performer\": \"B\", \n",
    "     \"score\": 5, \"comment\": \"Excellent consistency with career field and technical expertise.\"},\n",
    "    {\"id\": 215, \"sme_id\": \"SME_B1\", \"name\": \"Michael Grant\", \"email_address\": \"michael.grant@analytix.com\", \"performer\": \"B\", \n",
    "     \"score\": 4, \"comment\": \"Good fit; experience duration matches expectations.\"},\n",
    "    {\"id\": 231, \"sme_id\": \"SME_B2\", \"name\": \"Alex Carter\", \"email_address\": \"alex.carter@proinsights.com\", \"performer\": \"B\", \n",
    "     \"score\": 4, \"comment\": \"Appropriate recommendation, aligns well with professional scope.\"},\n",
    "    {\"id\": 231, \"sme_id\": \"SME_B4\", \"name\": \"Olivia Nguyen\", \"email_address\": \"olivia.nguyen@researchnet.org\", \"performer\": \"B\", \n",
    "     \"score\": 5, \"comment\": \"Perfect match; fits profile and experience extremely well.\"},\n",
    "    {\"id\": 247, \"sme_id\": \"SME_B3\", \"name\": \"Sara Kim\", \"email_address\": \"sara.kim@insightflow.io\", \"performer\": \"B\", \n",
    "     \"score\": 4, \"comment\": \"Solid match with consistent experience level.\"},\n",
    "    {\"id\": 247, \"sme_id\": \"SME_B4\", \"name\": \"Olivia Nguyen\", \"email_address\": \"olivia.nguyen@researchnet.org\", \"performer\": \"B\", \n",
    "     \"score\": 5, \"comment\": \"Excellent alignment; perfectly reasonable recommendation.\"},\n",
    "    {\"id\": 247, \"sme_id\": \"SME_B0\", \"name\": \"Priya Patel\", \"email_address\": \"priya.patel@datascope.ai\", \"performer\": \"B\", \n",
    "     \"score\": 3, \"comment\": \"Slightly generic fit; could consider domain-specific weighting.\"},\n",
    "    {\"id\": 205, \"sme_id\": \"SME_B3\", \"name\": \"Sara Kim\", \"email_address\": \"sara.kim@insightflow.io\", \"performer\": \"B\", \n",
    "     \"score\": 4, \"comment\": \"Reasonable match—career stage and education align well.\"},\n",
    "    {\"id\": 205, \"sme_id\": \"SME_B4\", \"name\": \"Olivia Nguyen\", \"email_address\": \"olivia.nguyen@researchnet.org\", \"performer\": \"B\", \n",
    "     \"score\": 5, \"comment\": \"Excellent alignment; clear fit across multiple attributes.\"},\n",
    "    {\"id\": 236, \"sme_id\": \"SME_B0\", \"name\": \"Priya Patel\", \"email_address\": \"priya.patel@datascope.ai\", \"performer\": \"B\", \n",
    "     \"score\": 3, \"comment\": \"Acceptable match, though could better account for job location.\"},\n",
    "    {\"id\": 203, \"sme_id\": \"SME_B1\", \"name\": \"Michael Grant\", \"email_address\": \"michael.grant@analytix.com\", \"performer\": \"B\", \n",
    "     \"score\": 4, \"comment\": \"Good alignment with educational background and role fit.\"},\n",
    "    {\"id\": 203, \"sme_id\": \"SME_B0\", \"name\": \"Priya Patel\", \"email_address\": \"priya.patel@datascope.ai\", \"performer\": \"B\", \n",
    "     \"score\": 3, \"comment\": \"Fair match—recommendation feels plausible but lacks depth.\"}\n",
    "]"
   ]
  },
  {
   "cell_type": "code",
   "execution_count": 88,
   "metadata": {
    "application/vnd.databricks.v1+cell": {
     "cellMetadata": {
      "byteLimit": 2048000,
      "rowLimit": 10000
     },
     "inputWidgets": {},
     "nuid": "3d1e64f1-fb4a-42ee-bd41-8352430ff81e",
     "showTitle": false,
     "title": ""
    }
   },
   "outputs": [],
   "source": [
    "dfA1 = pd.DataFrame(feedback_A).reset_index(drop=True)\n",
    "dfB1 = pd.DataFrame(feedback_B).reset_index(drop=True)\n",
    "df_sme = pd.concat([dfA1, dfB1], ignore_index=True).reset_index(drop=True)\n",
    "# df_sme = df_sme.drop(['sme_id'], axis=1)"
   ]
  },
  {
   "cell_type": "code",
   "execution_count": 89,
   "metadata": {
    "application/vnd.databricks.v1+cell": {
     "cellMetadata": {
      "byteLimit": 2048000,
      "rowLimit": 10000
     },
     "inputWidgets": {},
     "nuid": "cbf9ec37-0693-4881-8e33-ce31a4bbf806",
     "showTitle": false,
     "title": ""
    }
   },
   "outputs": [],
   "source": [
    "# 'Result_ID', 'SME_ID', 'Score', 'Source'\n",
    "df_sme = df_sme.rename(columns={\n",
    "    'id': 'Result_ID',\n",
    "    'sme_id': 'SME_Assigned',\n",
    "    'name': 'SME_ID',\n",
    "    'performer': 'Source',\n",
    "    'score': 'Score',\n",
    "    'comment': 'Comment',\n",
    "})"
   ]
  },
  {
   "cell_type": "code",
   "execution_count": 90,
   "metadata": {
    "application/vnd.databricks.v1+cell": {
     "cellMetadata": {
      "byteLimit": 2048000,
      "rowLimit": 10000
     },
     "inputWidgets": {},
     "nuid": "dfb363a5-d8f5-4f9f-9369-7b462e6d07e3",
     "showTitle": false,
     "title": ""
    }
   },
   "outputs": [
    {
     "data": {
      "application/vnd.microsoft.datawrangler.viewer.v0+json": {
       "columns": [
        {
         "name": "index",
         "rawType": "int64",
         "type": "integer"
        },
        {
         "name": "Result_ID",
         "rawType": "int64",
         "type": "integer"
        },
        {
         "name": "SME_Assigned",
         "rawType": "object",
         "type": "string"
        },
        {
         "name": "SME_ID",
         "rawType": "object",
         "type": "string"
        },
        {
         "name": "email_address",
         "rawType": "object",
         "type": "string"
        },
        {
         "name": "Source",
         "rawType": "object",
         "type": "string"
        },
        {
         "name": "Score",
         "rawType": "int64",
         "type": "integer"
        },
        {
         "name": "Comment",
         "rawType": "object",
         "type": "string"
        }
       ],
       "ref": "6456ca6e-4cd0-4d42-a02a-913f5f062eb3",
       "rows": [
        [
         "0",
         "143",
         "SME_A0",
         "John Jane",
         "john.jane@outlook.com",
         "A",
         "4",
         "Good alignment with experience and role expectations."
        ],
        [
         "1",
         "143",
         "SME_A2",
         "Jane Doe",
         "jane.doe@gmail.com",
         "A",
         "3",
         "Reasonable match, but some gaps in technical background."
        ],
        [
         "2",
         "110",
         "SME_A1",
         "Samuel Lee",
         "samuel.lee@example.com",
         "A",
         "4",
         "Strong recommendation overall, especially given career progression."
        ],
        [
         "3",
         "110",
         "SME_A3",
         "Maria Lopez",
         "maria.lopez@example.com",
         "A",
         "5",
         "Excellent match. Prior experience fits this assignment perfectly."
        ],
        [
         "4",
         "105",
         "SME_A2",
         "Jane Doe",
         "jane.doe@gmail.com",
         "A",
         "3",
         "Fair match. Could improve by weighting recency of work history."
        ]
       ],
       "shape": {
        "columns": 7,
        "rows": 5
       }
      },
      "text/html": [
       "<div>\n",
       "<style scoped>\n",
       "    .dataframe tbody tr th:only-of-type {\n",
       "        vertical-align: middle;\n",
       "    }\n",
       "\n",
       "    .dataframe tbody tr th {\n",
       "        vertical-align: top;\n",
       "    }\n",
       "\n",
       "    .dataframe thead th {\n",
       "        text-align: right;\n",
       "    }\n",
       "</style>\n",
       "<table border=\"1\" class=\"dataframe\">\n",
       "  <thead>\n",
       "    <tr style=\"text-align: right;\">\n",
       "      <th></th>\n",
       "      <th>Result_ID</th>\n",
       "      <th>SME_Assigned</th>\n",
       "      <th>SME_ID</th>\n",
       "      <th>email_address</th>\n",
       "      <th>Source</th>\n",
       "      <th>Score</th>\n",
       "      <th>Comment</th>\n",
       "    </tr>\n",
       "  </thead>\n",
       "  <tbody>\n",
       "    <tr>\n",
       "      <th>0</th>\n",
       "      <td>143</td>\n",
       "      <td>SME_A0</td>\n",
       "      <td>John Jane</td>\n",
       "      <td>john.jane@outlook.com</td>\n",
       "      <td>A</td>\n",
       "      <td>4</td>\n",
       "      <td>Good alignment with experience and role expectations.</td>\n",
       "    </tr>\n",
       "    <tr>\n",
       "      <th>1</th>\n",
       "      <td>143</td>\n",
       "      <td>SME_A2</td>\n",
       "      <td>Jane Doe</td>\n",
       "      <td>jane.doe@gmail.com</td>\n",
       "      <td>A</td>\n",
       "      <td>3</td>\n",
       "      <td>Reasonable match, but some gaps in technical background.</td>\n",
       "    </tr>\n",
       "    <tr>\n",
       "      <th>2</th>\n",
       "      <td>110</td>\n",
       "      <td>SME_A1</td>\n",
       "      <td>Samuel Lee</td>\n",
       "      <td>samuel.lee@example.com</td>\n",
       "      <td>A</td>\n",
       "      <td>4</td>\n",
       "      <td>Strong recommendation overall, especially given career progression.</td>\n",
       "    </tr>\n",
       "    <tr>\n",
       "      <th>3</th>\n",
       "      <td>110</td>\n",
       "      <td>SME_A3</td>\n",
       "      <td>Maria Lopez</td>\n",
       "      <td>maria.lopez@example.com</td>\n",
       "      <td>A</td>\n",
       "      <td>5</td>\n",
       "      <td>Excellent match. Prior experience fits this assignment perfectly.</td>\n",
       "    </tr>\n",
       "    <tr>\n",
       "      <th>4</th>\n",
       "      <td>105</td>\n",
       "      <td>SME_A2</td>\n",
       "      <td>Jane Doe</td>\n",
       "      <td>jane.doe@gmail.com</td>\n",
       "      <td>A</td>\n",
       "      <td>3</td>\n",
       "      <td>Fair match. Could improve by weighting recency of work history.</td>\n",
       "    </tr>\n",
       "  </tbody>\n",
       "</table>\n",
       "</div>"
      ],
      "text/plain": [
       "   Result_ID SME_Assigned       SME_ID            email_address Source  Score  \\\n",
       "0        143       SME_A0    John Jane    john.jane@outlook.com      A      4   \n",
       "1        143       SME_A2     Jane Doe       jane.doe@gmail.com      A      3   \n",
       "2        110       SME_A1   Samuel Lee   samuel.lee@example.com      A      4   \n",
       "3        110       SME_A3  Maria Lopez  maria.lopez@example.com      A      5   \n",
       "4        105       SME_A2     Jane Doe       jane.doe@gmail.com      A      3   \n",
       "\n",
       "                                                               Comment  \n",
       "0                Good alignment with experience and role expectations.  \n",
       "1             Reasonable match, but some gaps in technical background.  \n",
       "2  Strong recommendation overall, especially given career progression.  \n",
       "3    Excellent match. Prior experience fits this assignment perfectly.  \n",
       "4      Fair match. Could improve by weighting recency of work history.  "
      ]
     },
     "execution_count": 90,
     "metadata": {},
     "output_type": "execute_result"
    }
   ],
   "source": [
    "df_sme.head()"
   ]
  },
  {
   "cell_type": "markdown",
   "metadata": {
    "application/vnd.databricks.v1+cell": {
     "cellMetadata": {},
     "inputWidgets": {},
     "nuid": "1888ca49-378f-4060-8728-bda0fee40c65",
     "showTitle": false,
     "title": ""
    }
   },
   "source": [
    "Produce descriptive stats for a quick, initial sanity check. The comparisons and evaluations come later."
   ]
  },
  {
   "cell_type": "code",
   "execution_count": 91,
   "metadata": {
    "application/vnd.databricks.v1+cell": {
     "cellMetadata": {
      "byteLimit": 2048000,
      "rowLimit": 10000
     },
     "inputWidgets": {},
     "nuid": "e850ffaa-5eec-4618-9a03-2f73b722f1c1",
     "showTitle": false,
     "title": ""
    }
   },
   "outputs": [
    {
     "data": {
      "application/vnd.microsoft.datawrangler.viewer.v0+json": {
       "columns": [
        {
         "name": "index",
         "rawType": "object",
         "type": "string"
        },
        {
         "name": "Result_ID",
         "rawType": "float64",
         "type": "float"
        },
        {
         "name": "Score",
         "rawType": "float64",
         "type": "float"
        }
       ],
       "ref": "4cd104d4-20aa-4794-902f-b378e5609a14",
       "rows": [
        [
         "count",
         "40.0",
         "40.0"
        ],
        [
         "mean",
         "125.25",
         "3.85"
        ],
        [
         "std",
         "14.990167717711774",
         "0.6998168258505862"
        ],
        [
         "min",
         "104.0",
         "3.0"
        ],
        [
         "25%",
         "112.75",
         "3.0"
        ],
        [
         "50%",
         "124.0",
         "4.0"
        ],
        [
         "75%",
         "138.5",
         "4.0"
        ],
        [
         "max",
         "149.0",
         "5.0"
        ]
       ],
       "shape": {
        "columns": 2,
        "rows": 8
       }
      },
      "text/html": [
       "<div>\n",
       "<style scoped>\n",
       "    .dataframe tbody tr th:only-of-type {\n",
       "        vertical-align: middle;\n",
       "    }\n",
       "\n",
       "    .dataframe tbody tr th {\n",
       "        vertical-align: top;\n",
       "    }\n",
       "\n",
       "    .dataframe thead th {\n",
       "        text-align: right;\n",
       "    }\n",
       "</style>\n",
       "<table border=\"1\" class=\"dataframe\">\n",
       "  <thead>\n",
       "    <tr style=\"text-align: right;\">\n",
       "      <th></th>\n",
       "      <th>Result_ID</th>\n",
       "      <th>Score</th>\n",
       "    </tr>\n",
       "  </thead>\n",
       "  <tbody>\n",
       "    <tr>\n",
       "      <th>count</th>\n",
       "      <td>40.000000</td>\n",
       "      <td>40.000000</td>\n",
       "    </tr>\n",
       "    <tr>\n",
       "      <th>mean</th>\n",
       "      <td>125.250000</td>\n",
       "      <td>3.850000</td>\n",
       "    </tr>\n",
       "    <tr>\n",
       "      <th>std</th>\n",
       "      <td>14.990168</td>\n",
       "      <td>0.699817</td>\n",
       "    </tr>\n",
       "    <tr>\n",
       "      <th>min</th>\n",
       "      <td>104.000000</td>\n",
       "      <td>3.000000</td>\n",
       "    </tr>\n",
       "    <tr>\n",
       "      <th>25%</th>\n",
       "      <td>112.750000</td>\n",
       "      <td>3.000000</td>\n",
       "    </tr>\n",
       "    <tr>\n",
       "      <th>50%</th>\n",
       "      <td>124.000000</td>\n",
       "      <td>4.000000</td>\n",
       "    </tr>\n",
       "    <tr>\n",
       "      <th>75%</th>\n",
       "      <td>138.500000</td>\n",
       "      <td>4.000000</td>\n",
       "    </tr>\n",
       "    <tr>\n",
       "      <th>max</th>\n",
       "      <td>149.000000</td>\n",
       "      <td>5.000000</td>\n",
       "    </tr>\n",
       "  </tbody>\n",
       "</table>\n",
       "</div>"
      ],
      "text/plain": [
       "        Result_ID      Score\n",
       "count   40.000000  40.000000\n",
       "mean   125.250000   3.850000\n",
       "std     14.990168   0.699817\n",
       "min    104.000000   3.000000\n",
       "25%    112.750000   3.000000\n",
       "50%    124.000000   4.000000\n",
       "75%    138.500000   4.000000\n",
       "max    149.000000   5.000000"
      ]
     },
     "execution_count": 91,
     "metadata": {},
     "output_type": "execute_result"
    }
   ],
   "source": [
    "df_sme.query(\"Source == 'A'\").describe()"
   ]
  },
  {
   "cell_type": "code",
   "execution_count": 92,
   "metadata": {
    "application/vnd.databricks.v1+cell": {
     "cellMetadata": {
      "byteLimit": 2048000,
      "rowLimit": 10000
     },
     "inputWidgets": {},
     "nuid": "e46343b9-8e62-488c-a2c0-7da6c2b63d81",
     "showTitle": false,
     "title": ""
    }
   },
   "outputs": [
    {
     "data": {
      "application/vnd.microsoft.datawrangler.viewer.v0+json": {
       "columns": [
        {
         "name": "index",
         "rawType": "object",
         "type": "string"
        },
        {
         "name": "Result_ID",
         "rawType": "float64",
         "type": "float"
        },
        {
         "name": "Score",
         "rawType": "float64",
         "type": "float"
        }
       ],
       "ref": "54eb6832-b92c-4108-b454-15400ce40913",
       "rows": [
        [
         "count",
         "36.0",
         "36.0"
        ],
        [
         "mean",
         "225.30555555555554",
         "4.027777777777778"
        ],
        [
         "std",
         "15.515557988114372",
         "0.7362496126066838"
        ],
        [
         "min",
         "202.0",
         "3.0"
        ],
        [
         "25%",
         "214.0",
         "3.75"
        ],
        [
         "50%",
         "227.0",
         "4.0"
        ],
        [
         "75%",
         "239.0",
         "5.0"
        ],
        [
         "max",
         "247.0",
         "5.0"
        ]
       ],
       "shape": {
        "columns": 2,
        "rows": 8
       }
      },
      "text/html": [
       "<div>\n",
       "<style scoped>\n",
       "    .dataframe tbody tr th:only-of-type {\n",
       "        vertical-align: middle;\n",
       "    }\n",
       "\n",
       "    .dataframe tbody tr th {\n",
       "        vertical-align: top;\n",
       "    }\n",
       "\n",
       "    .dataframe thead th {\n",
       "        text-align: right;\n",
       "    }\n",
       "</style>\n",
       "<table border=\"1\" class=\"dataframe\">\n",
       "  <thead>\n",
       "    <tr style=\"text-align: right;\">\n",
       "      <th></th>\n",
       "      <th>Result_ID</th>\n",
       "      <th>Score</th>\n",
       "    </tr>\n",
       "  </thead>\n",
       "  <tbody>\n",
       "    <tr>\n",
       "      <th>count</th>\n",
       "      <td>36.000000</td>\n",
       "      <td>36.000000</td>\n",
       "    </tr>\n",
       "    <tr>\n",
       "      <th>mean</th>\n",
       "      <td>225.305556</td>\n",
       "      <td>4.027778</td>\n",
       "    </tr>\n",
       "    <tr>\n",
       "      <th>std</th>\n",
       "      <td>15.515558</td>\n",
       "      <td>0.736250</td>\n",
       "    </tr>\n",
       "    <tr>\n",
       "      <th>min</th>\n",
       "      <td>202.000000</td>\n",
       "      <td>3.000000</td>\n",
       "    </tr>\n",
       "    <tr>\n",
       "      <th>25%</th>\n",
       "      <td>214.000000</td>\n",
       "      <td>3.750000</td>\n",
       "    </tr>\n",
       "    <tr>\n",
       "      <th>50%</th>\n",
       "      <td>227.000000</td>\n",
       "      <td>4.000000</td>\n",
       "    </tr>\n",
       "    <tr>\n",
       "      <th>75%</th>\n",
       "      <td>239.000000</td>\n",
       "      <td>5.000000</td>\n",
       "    </tr>\n",
       "    <tr>\n",
       "      <th>max</th>\n",
       "      <td>247.000000</td>\n",
       "      <td>5.000000</td>\n",
       "    </tr>\n",
       "  </tbody>\n",
       "</table>\n",
       "</div>"
      ],
      "text/plain": [
       "        Result_ID      Score\n",
       "count   36.000000  36.000000\n",
       "mean   225.305556   4.027778\n",
       "std     15.515558   0.736250\n",
       "min    202.000000   3.000000\n",
       "25%    214.000000   3.750000\n",
       "50%    227.000000   4.000000\n",
       "75%    239.000000   5.000000\n",
       "max    247.000000   5.000000"
      ]
     },
     "execution_count": 92,
     "metadata": {},
     "output_type": "execute_result"
    }
   ],
   "source": [
    "df_sme.query(\"Source == 'B'\").describe()"
   ]
  },
  {
   "cell_type": "code",
   "execution_count": 0,
   "metadata": {
    "application/vnd.databricks.v1+cell": {
     "cellMetadata": {},
     "inputWidgets": {},
     "nuid": "3a6c8b6e-3b35-4038-992e-7c129aea2033",
     "showTitle": false,
     "title": ""
    }
   },
   "outputs": [],
   "source": [
    "# def iqr(x):\n",
    "#     q1 = np.percentile(x, 25)\n",
    "#     q3 = np.percentile(x, 75)\n",
    "#     iqr = q3 - q1\n",
    "#     qd = iqr / 2\n",
    "#     return pd.Series({'IQR': iqr, 'Quartile Deviation': qd,})\n",
    "\n",
    "# desc_stats_df = df_sme.groupby(['Source']).describe().T.reset_index().rename(columns={'index': 'Statistic'})\n",
    "# iqr_out = df_sme.groupby('Source')['Score'].apply(iqr).reset_index()\n",
    "\n",
    "# iqr_out = iqr_out.pivot(index=\"level_1\", columns=\"Source\", values=\"Score\").reset_index()\n",
    "# iqr_out.insert(0, \"level_0\", \"Score\")\n",
    "# iqr_out.insert(0, \"Source\", \"Score\")\n",
    "# iqr_out.columns.name = None\n",
    "\n",
    "# desc_stats_df = pd.concat([desc_stats_df, iqr_out], ignore_index=True).drop('Source', axis=1)\n",
    "# desc_stats_df"
   ]
  },
  {
   "cell_type": "markdown",
   "metadata": {
    "application/vnd.databricks.v1+cell": {
     "cellMetadata": {},
     "inputWidgets": {},
     "nuid": "f46d9dd4-93ba-4142-af7c-be4945eccb9f",
     "showTitle": false,
     "title": ""
    }
   },
   "source": [
    "### 14) Intraclass Correlation Coefficient (ICC)\n",
    "\n",
    "ICC is a measure of similarity of results in each group [6, 7]. With intra-rater reliability, we essentially want to see how consistent the ratings are across different scores off of the same recommendation or, in this case, the same Result_ID being rated by multiple SMEs. In other words, ICC helps to evaluate how consistent or reliable ratings or measurements are across different raters or conditions. ICC values help determine whether the people (or tools) doing the rating are producing similar results.\n",
    "\n",
    "Moreover, the ICC serves as a quality control mechanism, measuring how consistently SMEs evaluate AI model outputs and determining whether their scores provide a reliable foundation for decision-making. When ICC values are negative or close to zero (as noted below), this indicates fundamental reliability problems where SMEs show substantial disagreement in their evaluations, creating issues requiring a methodological reset—including, but not limited to, redoing tests, re-evaluating input data, re-picking SMEs, and/or reassessing modeling results.\n",
    "\n",
    "In general, the scoring can be interpreted as a value between -1 and 1, where:\n",
    "- Above 0.75: Excellent agreement [preferred range]\n",
    "- 0.5 to 0.75: Moderate agreement\n",
    "- 0.0 to 0.5: Poor agreement\n",
    "- Below 0.0: Worse than random agreement (essentially, no reliability)\n",
    "\n",
    "The type associated with a correlation and significance, can be summarized as:\n",
    "\n",
    "| ICC Type  | Meaning                                        | Simple Example                                                                                                                                                                                    |\n",
    "| --------- | ---------------------------------------------- | ------------------------------------------------------------------------------------------------------------------------------------------------------------------------------------------------- |\n",
    "| **ICC1**  | One rater, absolute agreement                  | A single reviewer scores 10 Marines on skills suitability. This type checks if the scores would be the same each time if that reviewer rated the same group again.         |\n",
    "| **ICC2**  | One rater from a random pool                   | Any reviewer could score Marines. This ICC tests if a randomly selected reviewer gives similar results as another random reviewer.                           |\n",
    "| **ICC3**  | One rater from a fixed group                   | Similar to ICC2, but now only care about a specific group of reviewers. It measures how consistent those specific reviewers are — not random others.            |\n",
    "| **ICC1k** | Average of multiple raters, absolute agreement | Have 3 reviewers rating each Marine, and you average their scores. ICC1k checks whether the average score is stable and accurate.           |\n",
    "| **ICC2k** | Average of multiple random raters              | Randomly chosen reviewers score Marines, and have the average score. This ICC asks: \"If we picked another random group of reviewers, would the average be about the same?\" |\n",
    "| **ICC3k** | Average of multiple fixed raters               | Like ICC2k, but only interested in a specific set of reviewers. Are these exact reviewers, as a group, consistent in how they score on average?     |\n",
    "\n",
    "\n",
    "| Rater Type            | Random vs Fixed                                             | Single vs Average        | \n",
    "| --------------------- | ----------------------------------------------------------- | ------------------------ | \n",
    "| **Single rater**      | Are individual ratings reliable?                            | ICC1, ICC2, ICC3         | \n",
    "| **Average of raters** | Are average scores across raters reliable?                  | ICC1k, ICC2k, ICC3k      | \t\n",
    "| **Random**            | Raters are a random sample (interchangeable)                | ICC2, ICC2k              | \n",
    "| **Fixed**             | Raters are a specific group you care about                  | ICC3, ICC3k              | \n",
    "| **Absolute**          | Do scores exactly match?                                | ICC1, ICC1k              |\n",
    "| **Consistency**       | Do scores follow the same ranking, even if values vary? | ICC2, ICC3, ICC2k, ICC3k |\n",
    "\n",
    "Full description of summary table outputs in Appendix B."
   ]
  },
  {
   "cell_type": "code",
   "execution_count": 94,
   "metadata": {
    "application/vnd.databricks.v1+cell": {
     "cellMetadata": {
      "byteLimit": 2048000,
      "rowLimit": 10000
     },
     "inputWidgets": {},
     "nuid": "1814bf7c-df33-443b-a5a9-2ee43adff37f",
     "showTitle": false,
     "title": ""
    }
   },
   "outputs": [
    {
     "data": {
      "application/vnd.microsoft.datawrangler.viewer.v0+json": {
       "columns": [
        {
         "name": "index",
         "rawType": "int64",
         "type": "integer"
        },
        {
         "name": "Type",
         "rawType": "object",
         "type": "string"
        },
        {
         "name": "Description",
         "rawType": "object",
         "type": "string"
        },
        {
         "name": "ICC",
         "rawType": "float64",
         "type": "float"
        },
        {
         "name": "F",
         "rawType": "float64",
         "type": "float"
        },
        {
         "name": "df1",
         "rawType": "int64",
         "type": "integer"
        },
        {
         "name": "df2",
         "rawType": "int64",
         "type": "integer"
        },
        {
         "name": "pval",
         "rawType": "float64",
         "type": "float"
        },
        {
         "name": "CI95%",
         "rawType": "object",
         "type": "unknown"
        }
       ],
       "ref": "800be282-ef86-4ae2-a686-68064f7e259b",
       "rows": [
        [
         "0",
         "ICC1",
         "Single raters absolute",
         "-0.0955550569091675",
         "0.12779320120385368",
         "33",
         "306",
         "0.9999999993432112",
         "[-0.1  -0.08]"
        ],
        [
         "1",
         "ICC2",
         "Single random raters",
         "0.0032195571884502294",
         "1.3382378397091894",
         "33",
         "297",
         "0.1087063056159205",
         "[-0.    0.01]"
        ],
        [
         "2",
         "ICC3",
         "Single fixed raters",
         "0.03271716562855783",
         "1.3382378397091894",
         "33",
         "297",
         "0.1087063056159205",
         "[-0.02  0.12]"
        ],
        [
         "3",
         "ICC1k",
         "Average raters absolute",
         "-6.825142422129453",
         "0.12779320120385368",
         "33",
         "306",
         "0.9999999993432112",
         "[-11.42  -3.43]"
        ],
        [
         "4",
         "ICC2k",
         "Average random raters",
         "0.0312889430119637",
         "1.3382378397091894",
         "33",
         "297",
         "0.1087063056159205",
         "[-0.02  0.12]"
        ],
        [
         "5",
         "ICC3k",
         "Average fixed raters",
         "0.25274867416892904",
         "1.3382378397091894",
         "33",
         "297",
         "0.1087063056159205",
         "[-0.19  0.58]"
        ]
       ],
       "shape": {
        "columns": 8,
        "rows": 6
       }
      },
      "text/html": [
       "<div>\n",
       "<style scoped>\n",
       "    .dataframe tbody tr th:only-of-type {\n",
       "        vertical-align: middle;\n",
       "    }\n",
       "\n",
       "    .dataframe tbody tr th {\n",
       "        vertical-align: top;\n",
       "    }\n",
       "\n",
       "    .dataframe thead th {\n",
       "        text-align: right;\n",
       "    }\n",
       "</style>\n",
       "<table border=\"1\" class=\"dataframe\">\n",
       "  <thead>\n",
       "    <tr style=\"text-align: right;\">\n",
       "      <th></th>\n",
       "      <th>Type</th>\n",
       "      <th>Description</th>\n",
       "      <th>ICC</th>\n",
       "      <th>F</th>\n",
       "      <th>df1</th>\n",
       "      <th>df2</th>\n",
       "      <th>pval</th>\n",
       "      <th>CI95%</th>\n",
       "    </tr>\n",
       "  </thead>\n",
       "  <tbody>\n",
       "    <tr>\n",
       "      <th>0</th>\n",
       "      <td>ICC1</td>\n",
       "      <td>Single raters absolute</td>\n",
       "      <td>-0.095555</td>\n",
       "      <td>0.127793</td>\n",
       "      <td>33</td>\n",
       "      <td>306</td>\n",
       "      <td>1.000000</td>\n",
       "      <td>[-0.1, -0.08]</td>\n",
       "    </tr>\n",
       "    <tr>\n",
       "      <th>1</th>\n",
       "      <td>ICC2</td>\n",
       "      <td>Single random raters</td>\n",
       "      <td>0.003220</td>\n",
       "      <td>1.338238</td>\n",
       "      <td>33</td>\n",
       "      <td>297</td>\n",
       "      <td>0.108706</td>\n",
       "      <td>[-0.0, 0.01]</td>\n",
       "    </tr>\n",
       "    <tr>\n",
       "      <th>2</th>\n",
       "      <td>ICC3</td>\n",
       "      <td>Single fixed raters</td>\n",
       "      <td>0.032717</td>\n",
       "      <td>1.338238</td>\n",
       "      <td>33</td>\n",
       "      <td>297</td>\n",
       "      <td>0.108706</td>\n",
       "      <td>[-0.02, 0.12]</td>\n",
       "    </tr>\n",
       "    <tr>\n",
       "      <th>3</th>\n",
       "      <td>ICC1k</td>\n",
       "      <td>Average raters absolute</td>\n",
       "      <td>-6.825142</td>\n",
       "      <td>0.127793</td>\n",
       "      <td>33</td>\n",
       "      <td>306</td>\n",
       "      <td>1.000000</td>\n",
       "      <td>[-11.42, -3.43]</td>\n",
       "    </tr>\n",
       "    <tr>\n",
       "      <th>4</th>\n",
       "      <td>ICC2k</td>\n",
       "      <td>Average random raters</td>\n",
       "      <td>0.031289</td>\n",
       "      <td>1.338238</td>\n",
       "      <td>33</td>\n",
       "      <td>297</td>\n",
       "      <td>0.108706</td>\n",
       "      <td>[-0.02, 0.12]</td>\n",
       "    </tr>\n",
       "    <tr>\n",
       "      <th>5</th>\n",
       "      <td>ICC3k</td>\n",
       "      <td>Average fixed raters</td>\n",
       "      <td>0.252749</td>\n",
       "      <td>1.338238</td>\n",
       "      <td>33</td>\n",
       "      <td>297</td>\n",
       "      <td>0.108706</td>\n",
       "      <td>[-0.19, 0.58]</td>\n",
       "    </tr>\n",
       "  </tbody>\n",
       "</table>\n",
       "</div>"
      ],
      "text/plain": [
       "    Type              Description       ICC         F  df1  df2      pval  \\\n",
       "0   ICC1   Single raters absolute -0.095555  0.127793   33  306  1.000000   \n",
       "1   ICC2     Single random raters  0.003220  1.338238   33  297  0.108706   \n",
       "2   ICC3      Single fixed raters  0.032717  1.338238   33  297  0.108706   \n",
       "3  ICC1k  Average raters absolute -6.825142  0.127793   33  306  1.000000   \n",
       "4  ICC2k    Average random raters  0.031289  1.338238   33  297  0.108706   \n",
       "5  ICC3k     Average fixed raters  0.252749  1.338238   33  297  0.108706   \n",
       "\n",
       "             CI95%  \n",
       "0    [-0.1, -0.08]  \n",
       "1     [-0.0, 0.01]  \n",
       "2    [-0.02, 0.12]  \n",
       "3  [-11.42, -3.43]  \n",
       "4    [-0.02, 0.12]  \n",
       "5    [-0.19, 0.58]  "
      ]
     },
     "execution_count": 94,
     "metadata": {},
     "output_type": "execute_result"
    }
   ],
   "source": [
    "icc_df = pd.DataFrame(df_sme.melt(id_vars=['Result_ID', 'SME_ID'], value_vars=['Score']))\n",
    "icc_df = icc_df.pivot_table(index='Result_ID', columns='SME_ID', values='value', aggfunc='first')\n",
    "icc_df_filled = icc_df.fillna(icc_df.mean())\n",
    "icc_melt_filled = icc_df_filled.reset_index().melt(id_vars=['Result_ID'], var_name='SME_ID')\n",
    "icc = pg.intraclass_corr(data=icc_melt_filled, targets='Result_ID', raters='SME_ID', ratings='value')\n",
    "\n",
    "icc"
   ]
  },
  {
   "cell_type": "markdown",
   "metadata": {
    "application/vnd.databricks.v1+cell": {
     "cellMetadata": {},
     "inputWidgets": {},
     "nuid": "bf19f8a6-75d5-4d92-839b-69479adb09b4",
     "showTitle": false,
     "title": ""
    }
   },
   "source": [
    "Note that for a randomly sampled dataset, all ICC values are either negative or close to zero, meaning there is little to no consistency among the reviewers. The scores are not reliable enough for making decisions, thus would have to redo the test, re-evaluate the input data use, assess modeling results, etc..."
   ]
  },
  {
   "cell_type": "markdown",
   "metadata": {
    "application/vnd.databricks.v1+cell": {
     "cellMetadata": {},
     "inputWidgets": {},
     "nuid": "3fbfef79-ebe6-4df3-8004-234466f89250",
     "showTitle": false,
     "title": ""
    }
   },
   "source": [
    "## Comparison of Scores and Comments for Final Recommendations"
   ]
  },
  {
   "cell_type": "markdown",
   "metadata": {
    "application/vnd.databricks.v1+cell": {
     "cellMetadata": {},
     "inputWidgets": {},
     "nuid": "4fe650f5-3d91-432b-8ca1-6d8c951e2dd5",
     "showTitle": false,
     "title": ""
    }
   },
   "source": [
    "### 15) Evaluation and analysis\n",
    "\n",
    "Focusing on rating consensus, high scores, distributions, and uncertainty (variance) when comparing the SME evaluations for A and B. Additionally, looking at the reviewer comments to assess validity and, again, uncertainty, as well as consistency with scoring.\n",
    "\n",
    "Assuming above descriptive stats and ICC estimates are reasonable. Otherwise, these comparisons will likely be overly biased and wrong."
   ]
  },
  {
   "cell_type": "markdown",
   "metadata": {
    "application/vnd.databricks.v1+cell": {
     "cellMetadata": {},
     "inputWidgets": {},
     "nuid": "cf146474-4c97-49d3-86fe-05ac390556e1",
     "showTitle": false,
     "title": ""
    }
   },
   "source": [
    "Comparing expected values (average scores) and standard deviation and variance, as well as looking at the average. You want to see lower variance indicating more reliable SME evaluations for a particular group."
   ]
  },
  {
   "cell_type": "code",
   "execution_count": 95,
   "metadata": {
    "application/vnd.databricks.v1+cell": {
     "cellMetadata": {
      "byteLimit": 2048000,
      "rowLimit": 10000
     },
     "inputWidgets": {},
     "nuid": "f18bf634-c2f6-46db-b75d-5266a1cd603c",
     "showTitle": false,
     "title": ""
    }
   },
   "outputs": [
    {
     "name": "stdout",
     "output_type": "stream",
     "text": [
      "Grouped Descriptive Statistics:\n",
      "  Source      mean       std       var  median  min  max  count\n",
      "0      A  3.850000  0.699817  0.489744     4.0    3    5     40\n",
      "1      B  4.027778  0.736250  0.542063     4.0    3    5     36\n"
     ]
    }
   ],
   "source": [
    "stats = df_sme.groupby('Source')['Score'].agg(['mean', 'std', 'var', 'median', 'min', 'max', 'count']).reset_index()\n",
    "\n",
    "print(\"Grouped Descriptive Statistics:\")\n",
    "print(stats)"
   ]
  },
  {
   "cell_type": "code",
   "execution_count": 96,
   "metadata": {
    "application/vnd.databricks.v1+cell": {
     "cellMetadata": {
      "byteLimit": 2048000,
      "rowLimit": 10000
     },
     "inputWidgets": {},
     "nuid": "429d2e4a-9e06-4602-91fb-75ad643f385b",
     "showTitle": false,
     "title": ""
    }
   },
   "outputs": [
    {
     "name": "stdout",
     "output_type": "stream",
     "text": [
      "Average score variance per performer (lower = more consistent):\n",
      "Source\n",
      "A    0.544444\n",
      "B    0.588889\n",
      "Name: var, dtype: float64\n"
     ]
    }
   ],
   "source": [
    "# need overlapping reviews\n",
    "result_variance = df_sme.groupby(['Result_ID', 'Source'])['Score'].agg(['count', 'mean', 'var']).reset_index()\n",
    "reliability = result_variance.groupby('Source')['var'].mean()\n",
    "\n",
    "print(\"Average score variance per performer (lower = more consistent):\")\n",
    "print(reliability)"
   ]
  },
  {
   "cell_type": "markdown",
   "metadata": {
    "application/vnd.databricks.v1+cell": {
     "cellMetadata": {},
     "inputWidgets": {},
     "nuid": "3b9d4e99-4979-47bd-8181-c6dead733a08",
     "showTitle": false,
     "title": ""
    }
   },
   "source": [
    "SMEs with:\n",
    "- higher avg_score are more generous; lower = stricter.\n",
    "- lower score_variance = more consistent ratings.\n",
    "- higher score_variance = SME is more variable in what they rate high/low."
   ]
  },
  {
   "cell_type": "code",
   "execution_count": 97,
   "metadata": {
    "application/vnd.databricks.v1+cell": {
     "cellMetadata": {
      "byteLimit": 2048000,
      "rowLimit": 10000
     },
     "inputWidgets": {},
     "nuid": "5f107e61-fc36-43fb-b082-2cb1bdaf7198",
     "showTitle": false,
     "title": ""
    }
   },
   "outputs": [
    {
     "name": "stdout",
     "output_type": "stream",
     "text": [
      "Per-SME scoring stats within each system:\n",
      "  Source         SME_ID  avg_score  score_variance  num_reviews\n",
      "0      A     David Chen   4.000000        0.000000            8\n",
      "1      A       Jane Doe   3.000000        0.000000            9\n",
      "2      A      John Jane   3.777778        0.194444            9\n",
      "3      A    Maria Lopez   4.800000        0.200000            5\n",
      "4      A     Samuel Lee   4.111111        0.611111            9\n",
      "5      B    Alex Carter   4.142857        0.142857            7\n",
      "6      B  Michael Grant   4.166667        0.166667            6\n",
      "7      B  Olivia Nguyen   4.750000        0.214286            8\n",
      "8      B    Priya Patel   3.000000        0.000000            8\n",
      "9      B       Sara Kim   4.142857        0.476190            7\n"
     ]
    }
   ],
   "source": [
    "sme_stats = df_sme.groupby(['Source', 'SME_ID'])['Score'].agg(['mean', 'var', 'count']).reset_index()\n",
    "sme_stats.rename(columns={'mean': 'avg_score', 'var': 'score_variance', 'count': 'num_reviews'}, inplace=True)\n",
    "\n",
    "print(\"Per-SME scoring stats within each system:\")\n",
    "print(sme_stats)"
   ]
  },
  {
   "cell_type": "markdown",
   "metadata": {
    "application/vnd.databricks.v1+cell": {
     "cellMetadata": {},
     "inputWidgets": {},
     "nuid": "619fface-5c50-4c99-a2bb-1eb46e106cfb",
     "showTitle": false,
     "title": ""
    }
   },
   "source": [
    "Associated averages for Scores."
   ]
  },
  {
   "cell_type": "code",
   "execution_count": 98,
   "metadata": {
    "application/vnd.databricks.v1+cell": {
     "cellMetadata": {
      "byteLimit": 2048000,
      "rowLimit": 10000
     },
     "inputWidgets": {},
     "nuid": "8578f31a-2512-4e5e-bad6-528c5dabdadc",
     "showTitle": false,
     "title": ""
    }
   },
   "outputs": [
    {
     "data": {
      "image/png": "[encoded data removed]",
      "text/plain": [
       "<Figure size 1000x800 with 1 Axes>"
      ]
     },
     "metadata": {},
     "output_type": "display_data"
    }
   ],
   "source": [
    "score_dist = df_sme.groupby(['Source', 'Score']).size().unstack(fill_value=0)\n",
    "\n",
    "plt.figure(figsize=(10, 8))\n",
    "sns.countplot(data=df_sme, x=\"Score\", hue=\"Source\", palette='coolwarm')\n",
    "plt.title(\"Score Distribution for Performers\")\n",
    "plt.show()"
   ]
  },
  {
   "cell_type": "code",
   "execution_count": 99,
   "metadata": {
    "application/vnd.databricks.v1+cell": {
     "cellMetadata": {
      "byteLimit": 2048000,
      "rowLimit": 10000
     },
     "inputWidgets": {},
     "nuid": "e5cf9b02-8842-46b0-9415-d7374e06f3d2",
     "showTitle": false,
     "title": ""
    }
   },
   "outputs": [
    {
     "data": {
      "image/png": "[encoded data removed]",
      "text/plain": [
       "<Figure size 1200x600 with 1 Axes>"
      ]
     },
     "metadata": {},
     "output_type": "display_data"
    }
   ],
   "source": [
    "sme_stats['Group'] = sme_stats['Source'] + ' - ' + sme_stats['SME_ID']\n",
    "\n",
    "plt.figure(figsize=(12, 6))\n",
    "sns.barplot(data=sme_stats, x='Group', y='avg_score', hue='Source', palette='coolwarm')\n",
    "\n",
    "plt.axhline(3, color='gray', linestyle='--', label='Good Average Score Threshold')\n",
    "\n",
    "plt.title(\"Average Score per SME Grouped by Performer\")\n",
    "plt.ylabel(\"Average Score\")\n",
    "plt.xlabel(\"SME (Grouped by Performer)\")\n",
    "plt.xticks(rotation=45)\n",
    "plt.legend(title='Source')\n",
    "plt.tight_layout()\n",
    "plt.show()"
   ]
  },
  {
   "cell_type": "markdown",
   "metadata": {
    "application/vnd.databricks.v1+cell": {
     "cellMetadata": {},
     "inputWidgets": {},
     "nuid": "3b97728b-0559-47e7-aa3f-10da98bc1422",
     "showTitle": false,
     "title": ""
    }
   },
   "source": [
    "Boxplots and density plots to further support a recommendation on the most reliable SME scoring across the groups.\n",
    "\n",
    "Low variance in scores across SMEs = reliable agreement.\n",
    "High variance = disagreement among reviewers ~ inconsistency."
   ]
  },
  {
   "cell_type": "code",
   "execution_count": 101,
   "metadata": {
    "application/vnd.databricks.v1+cell": {
     "cellMetadata": {
      "byteLimit": 2048000,
      "rowLimit": 10000
     },
     "inputWidgets": {},
     "nuid": "03f2a4b1-5fa5-4cf8-a2c1-9fc91d24b777",
     "showTitle": false,
     "title": ""
    }
   },
   "outputs": [
    {
     "data": {
      "image/png": "[encoded data removed]",
      "text/plain": [
       "<Figure size 1400x800 with 1 Axes>"
      ]
     },
     "metadata": {},
     "output_type": "display_data"
    }
   ],
   "source": [
    "median_scores = df_sme.groupby('Result_ID')['Score'].median().sort_values()\n",
    "sorted_result_ids = median_scores.index.tolist()\n",
    "\n",
    "plt.figure(figsize=(14, 8))\n",
    "sns.boxplot(x='Result_ID', y='Score', hue='Source', data=df_sme, palette='coolwarm', order=sorted_result_ids)\n",
    "plt.title('Comparison of Score Variance by Recommendation Scores and Performer', fontsize=16)\n",
    "plt.xlabel('Result_ID', fontsize=14)\n",
    "plt.ylabel('Score', fontsize=14)\n",
    "plt.xticks(rotation=90, fontsize=10)\n",
    "plt.yticks(fontsize=12)\n",
    "plt.tight_layout()\n",
    "plt.show()"
   ]
  },
  {
   "cell_type": "code",
   "execution_count": 103,
   "metadata": {
    "application/vnd.databricks.v1+cell": {
     "cellMetadata": {
      "byteLimit": 2048000,
      "rowLimit": 10000
     },
     "inputWidgets": {},
     "nuid": "7a16d9fb-aca9-4673-93f2-9aeb41abd033",
     "showTitle": false,
     "title": ""
    }
   },
   "outputs": [
    {
     "data": {
      "image/png": "[encoded data removed]",
      "text/plain": [
       "<Figure size 1000x600 with 1 Axes>"
      ]
     },
     "metadata": {},
     "output_type": "display_data"
    }
   ],
   "source": [
    "plt.figure(figsize=(10, 6))\n",
    "sns.boxplot(data=df_sme, x='Source', y='Score', width=0.6, palette='coolwarm', hue='Source', fliersize=0)\n",
    "#sns.stripplot(data=df_sme, x='Source', y='Score', color='red', alpha=0.3, jitter=True, size=6)\n",
    "sns.swarmplot(data=df_sme, x='Source', y='Score', hue='SME_ID', dodge=True, alpha=0.7, size=4)\n",
    "plt.title('Score Distribution by Source')\n",
    "plt.xlabel('Dataset')\n",
    "plt.ylabel('Evaluation Score')\n",
    "plt.tight_layout()\n",
    "plt.show()"
   ]
  },
  {
   "cell_type": "code",
   "execution_count": 104,
   "metadata": {
    "application/vnd.databricks.v1+cell": {
     "cellMetadata": {
      "byteLimit": 2048000,
      "rowLimit": 10000
     },
     "inputWidgets": {},
     "nuid": "ce9d6114-d102-4240-9aeb-bffbfe19dde7",
     "showTitle": false,
     "title": ""
    }
   },
   "outputs": [
    {
     "data": {
      "image/png": "[encoded data removed]",
      "text/plain": [
       "<Figure size 1000x600 with 1 Axes>"
      ]
     },
     "metadata": {},
     "output_type": "display_data"
    }
   ],
   "source": [
    "plt.figure(figsize=(10, 6))\n",
    "sns.kdeplot(data=df_sme, x='Score', hue='Source', palette='coolwarm', fill=True, common_norm=False)\n",
    "plt.title(\"Rating Distribution\", fontsize=16)\n",
    "plt.xlabel(\"Rating\")\n",
    "plt.ylabel(\"Density\")\n",
    "plt.tight_layout()\n",
    "plt.show()"
   ]
  },
  {
   "cell_type": "markdown",
   "metadata": {
    "application/vnd.databricks.v1+cell": {
     "cellMetadata": {},
     "inputWidgets": {},
     "nuid": "72392d9c-1bcb-4471-ae1b-5e011d706168",
     "showTitle": false,
     "title": ""
    }
   },
   "source": [
    "Confirming the above look at variance between the groups via two hypothesis tests [8].\n",
    "\n",
    "- Mann–Whitney U Test: If the p-value is much greater than the common significance level (e.g. 0.05), then we fail to reject the null hypothesis. This indicates that there is no significant difference between the distributions of the two groups being compared.\n",
    "- Kolmogorov–Smirnov Test: If the p-value is significantly higher than the typical significance level (e.g. 0.05), then we fail to reject the null hypothesis. This suggests that there is no significant difference between the distributions of the two datasets being analyzed.\n",
    "\n",
    "In addition to comparing average scores and variances, these non-parametric tests determine if the performance difference between Model A and B is statistically significant. This provides more information for defensible conclusions on which model is better."
   ]
  },
  {
   "cell_type": "code",
   "execution_count": 105,
   "metadata": {
    "application/vnd.databricks.v1+cell": {
     "cellMetadata": {
      "byteLimit": 2048000,
      "rowLimit": 10000
     },
     "inputWidgets": {},
     "nuid": "93b06a0b-88df-4da2-bca6-b155e42a9c82",
     "showTitle": false,
     "title": ""
    }
   },
   "outputs": [
    {
     "name": "stdout",
     "output_type": "stream",
     "text": [
      "Mann–Whitney U Test: U=625.500, p=0.289 - Accept null hypothesis (no significant difference)\n",
      "Kolmogorov–Smirnov Test: D=0.103, p=0.970 - Accept null hypothesis (no significant difference)\n"
     ]
    }
   ],
   "source": [
    "u_stat, p_val_u = mannwhitneyu(df_sme[df_sme['Source'] == 'A']['Score'], \n",
    "                               df_sme[df_sme['Source'] == 'B']['Score'], \n",
    "                               alternative='two-sided')\n",
    "\n",
    "ks_stat, p_val_ks = ks_2samp(df_sme[df_sme['Source'] == 'A']['Score'], \n",
    "                             df_sme[df_sme['Source'] == 'B']['Score'])\n",
    "\n",
    "\n",
    "if p_val_u < 0.05:\n",
    "    print(f\"Mann–Whitney U Test: U={u_stat:.3f}, p={p_val_u:.3f} - Reject null hypothesis (significant difference)\")\n",
    "else:\n",
    "    print(f\"Mann–Whitney U Test: U={u_stat:.3f}, p={p_val_u:.3f} - Accept null hypothesis (no significant difference)\")\n",
    "\n",
    "if p_val_ks < 0.05:\n",
    "    print(f\"Kolmogorov–Smirnov Test: D={ks_stat:.3f}, p={p_val_ks:.3f} - Reject null hypothesis (significant difference)\")\n",
    "else:\n",
    "    print(f\"Kolmogorov–Smirnov Test: D={ks_stat:.3f}, p={p_val_ks:.3f} - Accept null hypothesis (no significant difference)\")\n"
   ]
  },
  {
   "cell_type": "markdown",
   "metadata": {
    "application/vnd.databricks.v1+cell": {
     "cellMetadata": {},
     "inputWidgets": {},
     "nuid": "e4057bd5-41ff-4e3d-84cd-3246f1939dbe",
     "showTitle": false,
     "title": ""
    }
   },
   "source": [
    "### 16) SME Comment and Score Meta-Analysis"
   ]
  },
  {
   "cell_type": "markdown",
   "metadata": {
    "application/vnd.databricks.v1+cell": {
     "cellMetadata": {},
     "inputWidgets": {},
     "nuid": "613dd4d5-ecd7-4707-acf7-4ad4c2335cea",
     "showTitle": false,
     "title": ""
    }
   },
   "source": [
    "**LLM-based analysis** [9].\n",
    "\n",
    "The use of one or more LLMs adds additional context with its analysis of the free-text comments from SMEs. This can help uncover the *reasons* behind the scores by identifying recurring themes, sentiment, and patterns (such as one model being consistently praised for \"accuracy\" while the other is noted for \"clarity\"). Some other features:\n",
    "\n",
    "- Look for patterns in the feedback comments that indicate how close the recommendations are to the reviewers' expectations. For example, if one system is consistently praised for providing \"accurate\" or \"reliable\" recommendations, it may be seen as more accurate.\n",
    "- Review the comments to see if reviewers are giving similar reasoning for their scores. For instance, if many reviers comment that the recomendation is \"spot on,\" the recommendation is seen as reliable. On the other hand, if the comments are mixed or contradictory, it will likely mean lower reliability.\n",
    "- Look at scores and comments, as uncertainty might also appear if the same recommendation is critiqued in multiple ways, like if one evaluator says it’s \"too broad\" while another says it’s \"too narrow,\" pointing to inconsistency in the output. "
   ]
  },
  {
   "cell_type": "code",
   "execution_count": 106,
   "metadata": {
    "application/vnd.databricks.v1+cell": {
     "cellMetadata": {
      "byteLimit": 2048000,
      "rowLimit": 10000
     },
     "inputWidgets": {},
     "nuid": "b3730d76-e5f1-42e6-bd26-92df92292d84",
     "showTitle": false,
     "title": ""
    }
   },
   "outputs": [],
   "source": [
    "llm_prompt = dedent(f\"\"\"\n",
    "Objective:\n",
    "\n",
    "We aim to assess the quality and consistency of the Subject Matter Experts' (SMEs) feedback in relation to the scores provided for different recommendations. \n",
    "The data provided below (Results Table and Additional Information), in the Results Table, contains SME (SME_ID) evaluations for multiple recommendations (Result_ID), each assessed with a score (ranging from 1 to 5) and a comment offering further context. Make sure to take into account sample size, differences in number of results, and an Intraclass Correlation Coefficient (ICC) analysis results and other information in the Additional Information section. The focus will be on evaluating how well the comments align with the assigned scores (Score) and identifying which group (Source) of recommendations—**Group A or Group B**—provides more reliable and consistent feedback. Furthermore, if there are not enough samples or consistency in reviews, then say so with recommendations.\n",
    "\n",
    "Evaluation Criteria:\n",
    "\n",
    "- Score-Comment Alignment: Examine the relationship between the SME scores and the content of their comments. Identify whether higher scores align with positive comments and lower scores with negative feedback. Investigate any inconsistencies between scores and comments.\n",
    "- Comment Quality: Assess the depth, clarity, and usefulness of the comments. Are the comments detailed, specific, and constructive? Do they provide actionable insights into the strengths or weaknesses of the recommendations?\n",
    "- Consistency Across SMEs: Compare the feedback provided by different SMEs within each group (**A or B**). Identify any patterns in the feedback across SMEs—are the evaluations consistent, or do they vary widely?\n",
    "- Recommendation Group Comparison: Based on the consistency and quality of the comments and scores, determine which group (**A or B**) offers more reliable and actionable feedback. Provide a clear rationale based on the patterns observed in the evaluation data.\n",
    "\n",
    "Deliverables:\n",
    "\n",
    "- Summary of Results: A brief description of each recommendation's performance based on the average score and the general sentiment of the comments. Emphasize how well the comments align with the scores.\n",
    "- Score-Comment Analysis: A breakdown of the alignment between scores and comments for each recommendation. Identify any discrepancies between the feedback and the scores, and analyze the quality of the comments (e.g., are they constructive, specific, and insightful?).\n",
    "- Group Comparison: Analyze the consistency and quality of the feedback within Group A versus Group B. Which group provides more reliable and consistent feedback based on the alignment between scores and comments? Justify your conclusion with specific examples from the data.\n",
    "- Suggestions for Improvement: Based on the quality of the comments and the alignment with scores, provide suggestions for improving recommendations that received lower scores. Focus on areas where comments pointed to specific weaknesses that could be addressed to improve overall quality and clarity.\n",
    "\n",
    "Results Table:\n",
    "\n",
    "{df_sme}\n",
    "\n",
    "Additional Information:\n",
    "\n",
    "Grouped Descriptive Statistics:\n",
    "{stats}\n",
    "\n",
    "SME Descriptive Statistics:\n",
    "{sme_stats}\n",
    "\n",
    "ICC Summary Table:\n",
    "{icc}\n",
    "\n",
    "Hypothesis Test Results:\n",
    "- Mann–Whitney U Test: U = {u_stat}, p = {p_val_u}\n",
    "- Kolmogorov–Smirnov Test: KS = {ks_stat}, p = {p_val_ks}\n",
    "\"\"\")"
   ]
  },
  {
   "cell_type": "markdown",
   "metadata": {
    "application/vnd.databricks.v1+cell": {
     "cellMetadata": {},
     "inputWidgets": {},
     "nuid": "91f70c84-bbbe-4058-aab7-918110065c09",
     "showTitle": false,
     "title": ""
    }
   },
   "source": [
    "Cut-and-paste the below printout into your LLM of choice."
   ]
  },
  {
   "cell_type": "code",
   "execution_count": 107,
   "metadata": {
    "application/vnd.databricks.v1+cell": {
     "cellMetadata": {
      "byteLimit": 2048000,
      "rowLimit": 10000
     },
     "inputWidgets": {},
     "nuid": "af948043-5579-4867-a8cd-e6eedc7cc7f9",
     "showTitle": false,
     "title": ""
    }
   },
   "outputs": [
    {
     "name": "stdout",
     "output_type": "stream",
     "text": [
      "\n",
      "Objective:\n",
      "\n",
      "We aim to assess the quality and consistency of the Subject Matter Experts' (SMEs) feedback in relation to the scores provided for different recommendations. \n",
      "The data provided below (Results Table and Additional Information), in the Results Table, contains SME (SME_ID) evaluations for multiple recommendations (Result_ID), each assessed with a score (ranging from 1 to 5) and a comment offering further context. Make sure to take into account sample size, differences in number of results, and an Intraclass Correlation Coefficient (ICC) analysis results and other information in the Additional Information section. The focus will be on evaluating how well the comments align with the assigned scores (Score) and identifying which group (Source) of recommendations—**Group A or Group B**—provides more reliable and consistent feedback. Furthermore, if there are not enough samples or consistency in reviews, then say so with recommendations.\n",
      "\n",
      "Evaluation Criteria:\n",
      "\n",
      "- Score-Comment Alignment: Examine the relationship between the SME scores and the content of their comments. Identify whether higher scores align with positive comments and lower scores with negative feedback. Investigate any inconsistencies between scores and comments.\n",
      "- Comment Quality: Assess the depth, clarity, and usefulness of the comments. Are the comments detailed, specific, and constructive? Do they provide actionable insights into the strengths or weaknesses of the recommendations?\n",
      "- Consistency Across SMEs: Compare the feedback provided by different SMEs within each group (**A or B**). Identify any patterns in the feedback across SMEs—are the evaluations consistent, or do they vary widely?\n",
      "- Recommendation Group Comparison: Based on the consistency and quality of the comments and scores, determine which group (**A or B**) offers more reliable and actionable feedback. Provide a clear rationale based on the patterns observed in the evaluation data.\n",
      "\n",
      "Deliverables:\n",
      "\n",
      "- Summary of Results: A brief description of each recommendation's performance based on the average score and the general sentiment of the comments. Emphasize how well the comments align with the scores.\n",
      "- Score-Comment Analysis: A breakdown of the alignment between scores and comments for each recommendation. Identify any discrepancies between the feedback and the scores, and analyze the quality of the comments (e.g., are they constructive, specific, and insightful?).\n",
      "- Group Comparison: Analyze the consistency and quality of the feedback within Group A versus Group B. Which group provides more reliable and consistent feedback based on the alignment between scores and comments? Justify your conclusion with specific examples from the data.\n",
      "- Suggestions for Improvement: Based on the quality of the comments and the alignment with scores, provide suggestions for improving recommendations that received lower scores. Focus on areas where comments pointed to specific weaknesses that could be addressed to improve overall quality and clarity.\n",
      "\n",
      "Results Table:\n",
      "\n",
      "    Result_ID SME_Assigned         SME_ID                  email_address  \\\n",
      "0         143       SME_A0      John Jane          john.jane@outlook.com   \n",
      "1         143       SME_A2       Jane Doe             jane.doe@gmail.com   \n",
      "2         110       SME_A1     Samuel Lee         samuel.lee@example.com   \n",
      "3         110       SME_A3    Maria Lopez        maria.lopez@example.com   \n",
      "4         105       SME_A2       Jane Doe             jane.doe@gmail.com   \n",
      "5         105       SME_A4     David Chen           david.chen@gmail.com   \n",
      "6         140       SME_A1     Samuel Lee         samuel.lee@example.com   \n",
      "7         140       SME_A3    Maria Lopez        maria.lopez@example.com   \n",
      "8         144       SME_A1     Samuel Lee         samuel.lee@example.com   \n",
      "9         144       SME_A0      John Jane          john.jane@outlook.com   \n",
      "10        144       SME_A4     David Chen           david.chen@gmail.com   \n",
      "11        104       SME_A1     Samuel Lee         samuel.lee@example.com   \n",
      "12        104       SME_A0      John Jane          john.jane@outlook.com   \n",
      "13        104       SME_A4     David Chen           david.chen@gmail.com   \n",
      "14        149       SME_A1     Samuel Lee         samuel.lee@example.com   \n",
      "15        149       SME_A0      John Jane          john.jane@outlook.com   \n",
      "16        149       SME_A2       Jane Doe             jane.doe@gmail.com   \n",
      "17        127       SME_A2       Jane Doe             jane.doe@gmail.com   \n",
      "18        112       SME_A1     Samuel Lee         samuel.lee@example.com   \n",
      "19        112       SME_A3    Maria Lopez        maria.lopez@example.com   \n",
      "20        112       SME_A2       Jane Doe             jane.doe@gmail.com   \n",
      "21        113       SME_A2       Jane Doe             jane.doe@gmail.com   \n",
      "22        113       SME_A4     David Chen           david.chen@gmail.com   \n",
      "23        114       SME_A1     Samuel Lee         samuel.lee@example.com   \n",
      "24        114       SME_A0      John Jane          john.jane@outlook.com   \n",
      "25        114       SME_A2       Jane Doe             jane.doe@gmail.com   \n",
      "26        124       SME_A1     Samuel Lee         samuel.lee@example.com   \n",
      "27        124       SME_A0      John Jane          john.jane@outlook.com   \n",
      "28        124       SME_A2       Jane Doe             jane.doe@gmail.com   \n",
      "29        115       SME_A2       Jane Doe             jane.doe@gmail.com   \n",
      "30        115       SME_A4     David Chen           david.chen@gmail.com   \n",
      "31        125       SME_A0      John Jane          john.jane@outlook.com   \n",
      "32        125       SME_A3    Maria Lopez        maria.lopez@example.com   \n",
      "33        118       SME_A4     David Chen           david.chen@gmail.com   \n",
      "34        136       SME_A0      John Jane          john.jane@outlook.com   \n",
      "35        136       SME_A3    Maria Lopez        maria.lopez@example.com   \n",
      "36        136       SME_A4     David Chen           david.chen@gmail.com   \n",
      "37        138       SME_A1     Samuel Lee         samuel.lee@example.com   \n",
      "38        138       SME_A0      John Jane          john.jane@outlook.com   \n",
      "39        138       SME_A4     David Chen           david.chen@gmail.com   \n",
      "40        226       SME_B2    Alex Carter    alex.carter@proinsights.com   \n",
      "41        226       SME_B0    Priya Patel       priya.patel@datascope.ai   \n",
      "42        227       SME_B1  Michael Grant     michael.grant@analytix.com   \n",
      "43        227       SME_B4  Olivia Nguyen  olivia.nguyen@researchnet.org   \n",
      "44        237       SME_B2    Alex Carter    alex.carter@proinsights.com   \n",
      "45        246       SME_B3       Sara Kim        sara.kim@insightflow.io   \n",
      "46        246       SME_B4  Olivia Nguyen  olivia.nguyen@researchnet.org   \n",
      "47        202       SME_B1  Michael Grant     michael.grant@analytix.com   \n",
      "48        202       SME_B4  Olivia Nguyen  olivia.nguyen@researchnet.org   \n",
      "49        239       SME_B3       Sara Kim        sara.kim@insightflow.io   \n",
      "50        239       SME_B0    Priya Patel       priya.patel@datascope.ai   \n",
      "51        232       SME_B3       Sara Kim        sara.kim@insightflow.io   \n",
      "52        232       SME_B2    Alex Carter    alex.carter@proinsights.com   \n",
      "53        232       SME_B1  Michael Grant     michael.grant@analytix.com   \n",
      "54        242       SME_B2    Alex Carter    alex.carter@proinsights.com   \n",
      "55        242       SME_B4  Olivia Nguyen  olivia.nguyen@researchnet.org   \n",
      "56        242       SME_B0    Priya Patel       priya.patel@datascope.ai   \n",
      "57        217       SME_B2    Alex Carter    alex.carter@proinsights.com   \n",
      "58        217       SME_B3       Sara Kim        sara.kim@insightflow.io   \n",
      "59        217       SME_B0    Priya Patel       priya.patel@datascope.ai   \n",
      "60        204       SME_B2    Alex Carter    alex.carter@proinsights.com   \n",
      "61        204       SME_B4  Olivia Nguyen  olivia.nguyen@researchnet.org   \n",
      "62        214       SME_B1  Michael Grant     michael.grant@analytix.com   \n",
      "63        214       SME_B0    Priya Patel       priya.patel@datascope.ai   \n",
      "64        215       SME_B3       Sara Kim        sara.kim@insightflow.io   \n",
      "65        215       SME_B1  Michael Grant     michael.grant@analytix.com   \n",
      "66        231       SME_B2    Alex Carter    alex.carter@proinsights.com   \n",
      "67        231       SME_B4  Olivia Nguyen  olivia.nguyen@researchnet.org   \n",
      "68        247       SME_B3       Sara Kim        sara.kim@insightflow.io   \n",
      "69        247       SME_B4  Olivia Nguyen  olivia.nguyen@researchnet.org   \n",
      "70        247       SME_B0    Priya Patel       priya.patel@datascope.ai   \n",
      "71        205       SME_B3       Sara Kim        sara.kim@insightflow.io   \n",
      "72        205       SME_B4  Olivia Nguyen  olivia.nguyen@researchnet.org   \n",
      "73        236       SME_B0    Priya Patel       priya.patel@datascope.ai   \n",
      "74        203       SME_B1  Michael Grant     michael.grant@analytix.com   \n",
      "75        203       SME_B0    Priya Patel       priya.patel@datascope.ai   \n",
      "\n",
      "   Source  Score  \\\n",
      "0       A      4   \n",
      "1       A      3   \n",
      "2       A      4   \n",
      "3       A      5   \n",
      "4       A      3   \n",
      "5       A      4   \n",
      "6       A      3   \n",
      "7       A      4   \n",
      "8       A      5   \n",
      "9       A      4   \n",
      "10      A      4   \n",
      "11      A      3   \n",
      "12      A      3   \n",
      "13      A      4   \n",
      "14      A      5   \n",
      "15      A      4   \n",
      "16      A      3   \n",
      "17      A      3   \n",
      "18      A      4   \n",
      "19      A      5   \n",
      "20      A      3   \n",
      "21      A      3   \n",
      "22      A      4   \n",
      "23      A      5   \n",
      "24      A      4   \n",
      "25      A      3   \n",
      "26      A      4   \n",
      "27      A      4   \n",
      "28      A      3   \n",
      "29      A      3   \n",
      "30      A      4   \n",
      "31      A      4   \n",
      "32      A      5   \n",
      "33      A      4   \n",
      "34      A      4   \n",
      "35      A      5   \n",
      "36      A      4   \n",
      "37      A      4   \n",
      "38      A      3   \n",
      "39      A      4   \n",
      "40      B      4   \n",
      "41      B      3   \n",
      "42      B      4   \n",
      "43      B      5   \n",
      "44      B      4   \n",
      "45      B      3   \n",
      "46      B      4   \n",
      "47      B      5   \n",
      "48      B      4   \n",
      "49      B      4   \n",
      "50      B      3   \n",
      "51      B      4   \n",
      "52      B      5   \n",
      "53      B      4   \n",
      "54      B      4   \n",
      "55      B      5   \n",
      "56      B      3   \n",
      "57      B      4   \n",
      "58      B      5   \n",
      "59      B      3   \n",
      "60      B      4   \n",
      "61      B      5   \n",
      "62      B      4   \n",
      "63      B      3   \n",
      "64      B      5   \n",
      "65      B      4   \n",
      "66      B      4   \n",
      "67      B      5   \n",
      "68      B      4   \n",
      "69      B      5   \n",
      "70      B      3   \n",
      "71      B      4   \n",
      "72      B      5   \n",
      "73      B      3   \n",
      "74      B      4   \n",
      "75      B      3   \n",
      "\n",
      "                                                                 Comment  \n",
      "0                  Good alignment with experience and role expectations.  \n",
      "1               Reasonable match, but some gaps in technical background.  \n",
      "2    Strong recommendation overall, especially given career progression.  \n",
      "3      Excellent match. Prior experience fits this assignment perfectly.  \n",
      "4        Fair match. Could improve by weighting recency of work history.  \n",
      "5                             Solid fit with strong education alignment.  \n",
      "6    Acceptable alignment, but lacks nuance in technical specialization.  \n",
      "7       Reasonable assignment. Education and role show good correlation.  \n",
      "8                  Excellent match—perfect fit across all key variables.  \n",
      "9                 Good consistency between education major and job type.  \n",
      "10           Very strong alignment, small mismatch in experience length.  \n",
      "11  Average match, role could better reflect candidate’s current skills.  \n",
      "12     Acceptable, but missing some relevance to the last position held.  \n",
      "13              Pretty good alignment—minor adjustment could improve it.  \n",
      "14                Excellent recommendation. The strongest of this batch.  \n",
      "15             Very good match; experience and education are consistent.  \n",
      "16     Seems appropriate overall, though perhaps slightly overqualified.  \n",
      "17                         Fair match, though role fit could be tighter.  \n",
      "18          Good overall recommendation with solid experience alignment.  \n",
      "19              Excellent alignment—strong educational background match.  \n",
      "20            Adequate match, but education weighting could be improved.  \n",
      "21                  Reasonable recommendation, though not a perfect fit.  \n",
      "22          Good consistency between prior experience and proposed role.  \n",
      "23                   Ideal fit—education and experience align perfectly.  \n",
      "24                  Strong alignment overall with only minor mismatches.  \n",
      "25          Decent match but could weigh recent experience more heavily.  \n",
      "26       Good overall fit with clear consistency across background data.  \n",
      "27       Solid recommendation; candidate seems well-suited for the role.  \n",
      "28                     Satisfactory recommendation with small data gaps.  \n",
      "29                   Acceptable, though education fit could be stronger.  \n",
      "30             Solid alignment, especially on job history and skill set.  \n",
      "31         Good match; only slight overrepresentation of academic focus.  \n",
      "32     Excellent. Strong alignment across education and work experience.  \n",
      "33                    Good recommendation, fits career progression path.  \n",
      "34                  Reasonably consistent with background and skill set.  \n",
      "35       Perfect fit. Great consistency between prior roles and new one.  \n",
      "36             Solid recommendation with minor mismatches in experience.  \n",
      "37     Good alignment overall, though education could be better matched.  \n",
      "38               Adequate match; job title alignment feels slightly off.  \n",
      "39           Pretty accurate recommendation based on overall experience.  \n",
      "40                   Solid recommendation with strong technical overlap.  \n",
      "41         Reasonable fit overall, though education match could improve.  \n",
      "42              Good alignment between past experience and current role.  \n",
      "43                Excellent match. Experience trajectory fits perfectly.  \n",
      "44            Good consistency, though role type may be slightly junior.  \n",
      "45            Acceptable recommendation, but industry context feels off.  \n",
      "46           Solid recommendation—job title matches academic focus well.  \n",
      "47    Highly appropriate match. Reflects candidate strengths accurately.  \n",
      "48                Good fit overall—location and role type well balanced.  \n",
      "49       Great match, very consistent with job history and degree field.  \n",
      "50    Satisfactory match but could better capture recency of experience.  \n",
      "51         Solid consistency between education and current job function.  \n",
      "52                     Excellent match—clearly reflects skill alignment.  \n",
      "53     Good fit, though a few attributes could be more closely weighted.  \n",
      "54         Appropriate match; experience aligns with desired skill area.  \n",
      "55         Excellent alignment with experience and education background.  \n",
      "56         Reasonable recommendation. Missing slight nuance in job type.  \n",
      "57              Good fit—education aligns with technical depth required.  \n",
      "58                         Excellent. Strong match across all key areas.  \n",
      "59                   Acceptable recommendation, though slightly generic.  \n",
      "60             Solid fit with minor deviation in job location relevance.  \n",
      "61       Strong alignment—education background perfectly suits the role.  \n",
      "62      Good match, though career trajectory could be better emphasized.  \n",
      "63         Fair recommendation with some misalignment on industry focus.  \n",
      "64      Excellent consistency with career field and technical expertise.  \n",
      "65                   Good fit; experience duration matches expectations.  \n",
      "66      Appropriate recommendation, aligns well with professional scope.  \n",
      "67            Perfect match; fits profile and experience extremely well.  \n",
      "68                         Solid match with consistent experience level.  \n",
      "69             Excellent alignment; perfectly reasonable recommendation.  \n",
      "70       Slightly generic fit; could consider domain-specific weighting.  \n",
      "71               Reasonable match—career stage and education align well.  \n",
      "72            Excellent alignment; clear fit across multiple attributes.  \n",
      "73       Acceptable match, though could better account for job location.  \n",
      "74              Good alignment with educational background and role fit.  \n",
      "75            Fair match—recommendation feels plausible but lacks depth.  \n",
      "\n",
      "Additional Information:\n",
      "\n",
      "Grouped Descriptive Statistics:\n",
      "  Source      mean       std       var  median  min  max  count\n",
      "0      A  3.850000  0.699817  0.489744     4.0    3    5     40\n",
      "1      B  4.027778  0.736250  0.542063     4.0    3    5     36\n",
      "\n",
      "SME Descriptive Statistics:\n",
      "  Source         SME_ID  avg_score  score_variance  num_reviews  \\\n",
      "0      A     David Chen   4.000000        0.000000            8   \n",
      "1      A       Jane Doe   3.000000        0.000000            9   \n",
      "2      A      John Jane   3.777778        0.194444            9   \n",
      "3      A    Maria Lopez   4.800000        0.200000            5   \n",
      "4      A     Samuel Lee   4.111111        0.611111            9   \n",
      "5      B    Alex Carter   4.142857        0.142857            7   \n",
      "6      B  Michael Grant   4.166667        0.166667            6   \n",
      "7      B  Olivia Nguyen   4.750000        0.214286            8   \n",
      "8      B    Priya Patel   3.000000        0.000000            8   \n",
      "9      B       Sara Kim   4.142857        0.476190            7   \n",
      "\n",
      "               Group  \n",
      "0     A - David Chen  \n",
      "1       A - Jane Doe  \n",
      "2      A - John Jane  \n",
      "3    A - Maria Lopez  \n",
      "4     A - Samuel Lee  \n",
      "5    B - Alex Carter  \n",
      "6  B - Michael Grant  \n",
      "7  B - Olivia Nguyen  \n",
      "8    B - Priya Patel  \n",
      "9       B - Sara Kim  \n",
      "\n",
      "ICC Summary Table:\n",
      "    Type              Description       ICC         F  df1  df2      pval  \\\n",
      "0   ICC1   Single raters absolute -0.095555  0.127793   33  306  1.000000   \n",
      "1   ICC2     Single random raters  0.003220  1.338238   33  297  0.108706   \n",
      "2   ICC3      Single fixed raters  0.032717  1.338238   33  297  0.108706   \n",
      "3  ICC1k  Average raters absolute -6.825142  0.127793   33  306  1.000000   \n",
      "4  ICC2k    Average random raters  0.031289  1.338238   33  297  0.108706   \n",
      "5  ICC3k     Average fixed raters  0.252749  1.338238   33  297  0.108706   \n",
      "\n",
      "             CI95%  \n",
      "0    [-0.1, -0.08]  \n",
      "1     [-0.0, 0.01]  \n",
      "2    [-0.02, 0.12]  \n",
      "3  [-11.42, -3.43]  \n",
      "4    [-0.02, 0.12]  \n",
      "5    [-0.19, 0.58]  \n",
      "\n",
      "Hypothesis Test Results:\n",
      "- Mann–Whitney U Test: U = 625.5, p = 0.2886416519866031\n",
      "- Kolmogorov–Smirnov Test: KS = 0.10277777777777777, p = 0.9697210772577051\n",
      "\n"
     ]
    }
   ],
   "source": [
    "print(llm_prompt)"
   ]
  },
  {
   "cell_type": "markdown",
   "metadata": {
    "application/vnd.databricks.v1+cell": {
     "cellMetadata": {},
     "inputWidgets": {},
     "nuid": "fd48fed8-1b73-43e9-9cd4-bed7ed5d6cb1",
     "showTitle": false,
     "title": ""
    }
   },
   "source": [
    "Cut-and-paste the LLM report (response) below and edit as needed."
   ]
  },
  {
   "cell_type": "markdown",
   "metadata": {
    "application/vnd.databricks.v1+cell": {
     "cellMetadata": {},
     "inputWidgets": {},
     "nuid": "3ebbd03a-b726-4acb-8ef2-904a287db1b2",
     "showTitle": false,
     "title": ""
    }
   },
   "source": [
    "\n",
    "#### REPORT: LLM Meta-Analysis (ChatGPT 4o)\n",
    "\n",
    "🔹 1. Summary of Results\n",
    "\n",
    "| Group | Avg Score | Median | Std Dev | Count | General Sentiment                                                                          |\n",
    "| :---- | :-------- | :----- | :------ | :---- | :----------------------------------------------------------------------------------------- |\n",
    "| **A** | 3.85      | 4      | 0.70    | 40    | Moderately positive; frequent mentions of “good,” “solid,” or “reasonable” fit             |\n",
    "| **B** | 4.03      | 4      | 0.74    | 36    | Slightly stronger positivity; more “excellent,” “perfect,” and “strong alignment” phrasing |\n",
    "\n",
    "Observations:\n",
    "\n",
    "* Both groups average close to **“Good” (≈4)**.\n",
    "* **Group B’s slightly higher mean (4.03 vs 3.85)** and similar variability (0.74 vs 0.70) suggest comparable but slightly more optimistic evaluations.\n",
    "* The **Mann–Whitney U test (p = 0.29)** and **KS test (p = 0.97)** indicate **no statistically significant difference** between Groups A and B’s scoring distributions.\n",
    "* **ICC results show low to negligible inter-rater reliability (ICC < 0.1)** — meaning SME scores are largely inconsistent across raters.\n",
    "\n",
    "---\n",
    "\n",
    "🔹 2. Score–Comment Alignment Analysis\n",
    "\n",
    "Method:\n",
    "\n",
    "Each comment was reviewed qualitatively to assess alignment between sentiment and numerical score.\n",
    "\n",
    "| Score Range           | Expected Tone                          | Observed Alignment (Group A)           | Observed Alignment (Group B)                         |\n",
    "| --------------------- | -------------------------------------- | -------------------------------------- | ---------------------------------------------------- |\n",
    "| **5 (Excellent)**     | “Perfect,” “Ideal,” “Strong alignment” | Comments match strongly                | Strongly consistent; often more enthusiastic         |\n",
    "| **4 (Good)**          | “Solid,” “Reasonable,” “Good fit”      | Generally matches                      | Consistent and supportive; rarely contradicts        |\n",
    "| **3 (Fair/Adequate)** | “Adequate,” “Reasonable but...”        | Comments match (notably from Jane Doe) | Consistent but sometimes overly positive for score 3 |\n",
    "\n",
    "Alignment Observations:\n",
    "\n",
    "* **High textual–numerical consistency overall**, especially for 4–5 ratings.\n",
    "* **Group A**: SME *Jane Doe* consistently rated 3s with neutral-to-slightly negative phrasing (“Adequate,” “Reasonable match”)—strong internal consistency, though low variance.\n",
    "* **Group B**: SME *Priya Patel* also assigned consistent 3s, though her comments were often generic (“Reasonable fit,” “Acceptable match”), indicating less depth.\n",
    "* No clear mismatches (e.g., negative comments with high scores or vice versa).\n",
    "\n",
    "✅ **Conclusion:** Both groups’ scores align well with comment sentiment. However, Group B’s comments occasionally exhibit *inflated positivity* (slightly too positive for midrange scores), suggesting **mild leniency bias**.\n",
    "\n",
    "---\n",
    "\n",
    "🔹 3. Comment Quality Evaluation\n",
    "\n",
    "| Aspect               | Group A                                                                                               | Group B                                                                                   |\n",
    "| -------------------- | ----------------------------------------------------------------------------------------------------- | ----------------------------------------------------------------------------------------- |\n",
    "| **Specificity**      | Moderately high; many mention “education alignment,” “experience weighting,” or “career progression.” | Similar; mentions of “technical depth,” “career trajectory,” and “domain relevance.”      |\n",
    "| **Constructiveness** | Generally constructive; suggestions such as “weigh recency more heavily” or “tighten role fit.”       | Often descriptive rather than prescriptive (“solid fit,” “appropriate match”).            |\n",
    "| **Clarity**          | Clear phrasing, minimal ambiguity.                                                                    | Clear but slightly repetitive; uses standard evaluative language.                         |\n",
    "| **Depth/Insight**    | Some SMEs (e.g., Maria Lopez, Samuel Lee) provide thoughtful context.                                 | Most SMEs provide short, formulaic praise; Olivia Nguyen stands out for detailed remarks. |\n",
    "\n",
    "✅ **Conclusion:**\n",
    "\n",
    "* **Group A comments** show *slightly higher diagnostic value* (pointing to concrete improvement areas).\n",
    "* **Group B comments** are polished but less actionable — more evaluative than instructive.\n",
    "\n",
    "---\n",
    "\n",
    "🔹 4. Consistency Across SMEs\n",
    "\n",
    "| Group | ICC3 (fixed raters)      | Within-group SME variance                                    | Notable Outliers                                                            | Interpretation                                          |\n",
    "| ----- | ------------------------ | ------------------------------------------------------------ | --------------------------------------------------------------------------- | ------------------------------------------------------- |\n",
    "| **A** | ~0.03                    | Jane Doe (3.0) and Maria Lopez (4.8) show high divergence    | Jane Doe’s consistently low scores and Lopez’s high ones reduce reliability | Weak consistency — opinions differ strongly across SMEs |\n",
    "| **B** | ~0.03 (same overall ICC) | Priya Patel (3.0) vs. Olivia Nguyen (4.75) diverge similarly | Bimodal tendencies (lenient vs strict raters)                               | Similar inconsistency level; slightly tighter midrange  |\n",
    "\n",
    "Even though both groups show **low inter-rater reliability**, **Group B’s smaller score variance per SME** (e.g., Alex Carter 0.14 vs Samuel Lee 0.61 in A) suggests *slightly higher internal consistency*.\n",
    "\n",
    "✅ **Conclusion:**\n",
    "Neither group shows strong inter-rater consistency, but **Group B** demonstrates *slightly more cohesive scoring behavior* (less spread, lower within-rater variance).\n",
    "\n",
    "---\n",
    "\n",
    "🔹 5. Group Comparison Summary\n",
    "\n",
    "| Criterion                   | Group A                                        | Group B                                   | Better Group                                                 |\n",
    "| --------------------------- | ---------------------------------------------- | ----------------------------------------- | ------------------------------------------------------------ |\n",
    "| **Average Score**           | 3.85                                           | 4.03                                      | B (marginally higher)                                        |\n",
    "| **Score–Comment Alignment** | Strong                                         | Slightly inflated positivity              | A (tighter semantic match)                                   |\n",
    "| **Comment Quality**         | More actionable, improvement-oriented          | Clearer but less specific                 | A                                                            |\n",
    "| **Consistency Across SMEs** | Higher variance among raters                   | Slightly lower variance                   | B                                                            |\n",
    "| **Overall Reliability**     | Mixed consistency, better qualitative feedback | Slightly steadier scores, less diagnostic | **≈ Draw — B edges slightly on reliability, A on substance** |\n",
    "\n",
    "**Final Judgment:**\n",
    "\n",
    "> **Group B** shows marginally *higher reliability and consistency*, while **Group A** offers *richer and more actionable comments*.\n",
    "> If the goal is **reliable scoring**, choose **Group B**.\n",
    "> If the goal is **insightful feedback for improvement**, choose **Group A**.\n",
    "\n",
    "---\n",
    "\n",
    "🔹 6. Suggestions for Improvement\n",
    "\n",
    "For Low-Scoring Recommendations (Scores = 3)\n",
    "\n",
    "* **Address identified gaps:** Comments consistently cite “role fit,” “recency weighting,” and “education match.” Prioritize adjusting matching algorithms to weigh:\n",
    "\n",
    "  * Most recent job experience more heavily.\n",
    "  * Specific domain alignment over general experience.\n",
    "* **Encourage SMEs** to expand “adequate” or “reasonable” comments with at least one improvement point (e.g., “Adjust weight on X to improve fit.”).\n",
    "* **Calibration training:** Given low ICC, organize calibration sessions so SMEs align on what constitutes a 3 vs. 4 score.\n",
    "\n",
    "For SMEs\n",
    "\n",
    "* **Jane Doe and Priya Patel** (consistently low and generic): Encourage deeper rationales behind low scores.\n",
    "* **Maria Lopez and Olivia Nguyen** (consistently high): Add justification for high scores to avoid inflation perception.\n",
    "\n",
    "---\n",
    "\n",
    "🔹 7. Executive Summary\n",
    "\n",
    "* **Scores between Groups A and B do not significantly differ** (p > 0.28), but both show **low inter-rater reliability** (ICC ≈ 0.03).\n",
    "* **Group A’s feedback**: More detailed and improvement-oriented but more variable between raters.\n",
    "* **Group B’s feedback**: Slightly more consistent and cohesive, but comments tend to be more general and less actionable.\n",
    "* **Next Steps:** Standardize rating guidelines, run calibration sessions, and require SMEs to justify outlier ratings.\n"
   ]
  },
  {
   "cell_type": "markdown",
   "metadata": {
    "application/vnd.databricks.v1+cell": {
     "cellMetadata": {},
     "inputWidgets": {},
     "nuid": "00159206-f5fb-4516-9fa9-13777021c3f9",
     "showTitle": false,
     "title": ""
    }
   },
   "source": [
    "## Notes\n"
   ]
  },
  {
   "cell_type": "markdown",
   "metadata": {
    "application/vnd.databricks.v1+cell": {
     "cellMetadata": {},
     "inputWidgets": {},
     "nuid": "e3a0e20d-93fb-4dd0-954f-f4791ed00c3e",
     "showTitle": false,
     "title": ""
    }
   },
   "source": [
    "## Appendix A\n"
   ]
  },
  {
   "cell_type": "markdown",
   "metadata": {
    "application/vnd.databricks.v1+cell": {
     "cellMetadata": {},
     "inputWidgets": {},
     "nuid": "f7a0d676-8060-428d-8d86-16b3d1c093c1",
     "showTitle": false,
     "title": ""
    }
   },
   "source": [
    "## Appendix B\n",
    "\n",
    "ICC summary table description"
   ]
  },
  {
   "cell_type": "markdown",
   "metadata": {
    "application/vnd.databricks.v1+cell": {
     "cellMetadata": {},
     "inputWidgets": {},
     "nuid": "41ecd178-f4e1-42f5-b6be-90ddf0f51e38",
     "showTitle": false,
     "title": ""
    }
   },
   "source": [
    "\n",
    "| **Column**    | **Description**                                                                                                                                                 |\n",
    "|---------------|-----------------------------------------------------------------------------------------------------------------------------------------------------------------|\n",
    "| **Type**      | Describes the type of ICC calculation.                                                                                                                           |\n",
    "|               | - **ICC1**: Single raters, absolute agreement (measures single rater's reliability with respect to absolute agreement).                                         |\n",
    "|               | - **ICC2**: Single raters, random raters (measures single rater's reliability with respect to random raters).                                                   |\n",
    "|               | - **ICC3**: Single raters, fixed raters (measures single rater's reliability with respect to fixed raters).                                                     |\n",
    "|               | - **ICC1k**: Average raters, absolute agreement (measures average rater's reliability with respect to absolute agreement).                                       |\n",
    "|               | - **ICC2k**: Average raters, random raters (measures average rater's reliability with respect to random raters).                                                 |\n",
    "|               | - **ICC3k**: Average raters, fixed raters (measures average rater's reliability with respect to fixed raters).                                                   |\n",
    "| **Description**| Describes each type of ICC in more detail, e.g., whether it refers to single raters or average raters, and whether the raters are fixed or random.           |\n",
    "| **ICC**       | Intraclass Correlation Coefficient (ICC) value.                                                                                                                  |\n",
    "|               | - **ICC close to 1**: High reliability, consistent ratings across raters. [Excellent agreement]                                                                                      |\n",
    "|               | - **ICC close to 0**: Low reliability, inconsistent ratings across raters.                                                                                     |\n",
    "|               | - **Negative ICC**: Poor reliability, even worse than random disagreement.                                                                                      |\n",
    "| **F**         | F-statistic, used to assess whether the variability between ratings is significantly greater than within-ratings variability.                                     |\n",
    "|               | - A higher **F** indicates a larger difference between raters and the ratings themselves.                                                                        |\n",
    "| **df1**       | Degrees of freedom for the numerator in the F-statistic (number of groups/targets).                                                                            |\n",
    "| **df2**       | Degrees of freedom for the denominator in the F-statistic (number of raters).                                                                                  |\n",
    "| **pval**      | p-value indicating statistical significance.                                                                                                                   |\n",
    "|               | - **p-value < 0.05**: The ICC is statistically significant, meaning there is good consistency among raters.                                                      |\n",
    "|               | - **p-value ≥ 0.05**: The ICC is not statistically significant, suggesting poor consistency among raters.                                                        |\n",
    "| **CI95%**     | 95% Confidence Interval for the ICC.                                                                                                                             |\n",
    "|               | - If the CI includes zero or negative values, the ICC is not statistically significant.                                                                        |\n",
    "|               | - If the CI does not include zero, the ICC is more likely to be statistically significant.                                                                      |"
   ]
  },
  {
   "cell_type": "markdown",
   "metadata": {
    "application/vnd.databricks.v1+cell": {
     "cellMetadata": {},
     "inputWidgets": {},
     "nuid": "0a260105-cd00-45e7-b2ca-acbabdd39044",
     "showTitle": false,
     "title": ""
    }
   },
   "source": [
    "## Appendix C\n",
    "\n",
    "Windows PowerShell script to duplicate and rename files (I used this to organize and assign separate AI outputs to each individual SME).\n",
    "\n",
    "Note that I am not a Windows person so leveraged an LLM to assist!!\n"
   ]
  },
  {
   "cell_type": "code",
   "execution_count": 0,
   "metadata": {
    "application/vnd.databricks.v1+cell": {
     "cellMetadata": {},
     "inputWidgets": {},
     "nuid": "2318819b-94b0-40d8-9f14-20c09f8e99da",
     "showTitle": false,
     "title": ""
    }
   },
   "outputs": [],
   "source": [
    "# 1) copy this script and save as a .ps1 file\n",
    "# 2) make sure template and other input files paths are correct\n",
    "# 3) run script in some current folder (I used Downloads) as follows:\n",
    "# PS> .\\copy_files.ps1\n",
    " \n",
    "$templatePath = \"template.docx\"\n",
    " \n",
    "# $idListPath = \"ids_ibr.txt\"\n",
    "# $idListPath = \"ids_deloitte.txt\"\n",
    " \n",
    "# $outputFolder = \"C:\\Users\\1066409577.CIV\\OneDrive - US Navy-flankspeed\\Documents\\Talent Management\\1814 OTAs\\IBR\\AI_TE\\ai_outputs\"\n",
    "# $outputFolder = \"C:\\Users\\1066409577.CIV\\OneDrive - US Navy-flankspeed\\Documents\\Talent Management\\1814 OTAs\\Deloitte\\AI_TE\\ai_outputs\"\n",
    " \n",
    "# Create the output folder if it doesn't exist\n",
    "if (!(Test-Path -Path $outputFolder)) {\n",
    "    New-Item -ItemType Directory -Path $outputFolder\n",
    "}\n",
    " \n",
    "# Read IDs from the text file\n",
    "$ids = Get-Content -Path $idListPath\n",
    " \n",
    "# Loop through each ID and copy/rename the template\n",
    "foreach ($id in $ids) {\n",
    "    # Trim any whitespace\n",
    "    $id = $id.Trim()\n",
    "    # Define destination file name with id_ prefix\n",
    "    $fileName = \"XYZ_id_$id.docx\"\n",
    "    $destinationPath = Join-Path -Path $outputFolder -ChildPath $fileName\n",
    "    # Copy the template file to the new destination\n",
    "    Copy-Item -Path $templatePath -Destination $destinationPath\n",
    "    Write-Host \"Created file: $destinationPath\"\n",
    "}\n",
    " \n",
    "Write-Host \"Done creating files.\""
   ]
  },
  {
   "cell_type": "markdown",
   "metadata": {
    "application/vnd.databricks.v1+cell": {
     "cellMetadata": {},
     "inputWidgets": {},
     "nuid": "83fa8828-7ae7-49d5-9d56-346fa207d7a2",
     "showTitle": false,
     "title": ""
    }
   },
   "source": [
    "## References\n",
    "\n",
    "1. Mbounthavong, Malithone. *Propensity Score in R*. RPubs. https://rpubs.com/mbounthavong/propensity_score_r.\n",
    "2. Christoph Heindl. *RapidFuzz: Fuzzy String Matching in Python*. GitHub. https://github.com/maxbachmann/RapidFuzz.\n",
    "3. Steven Loria. *TextBlob: Simplified Text Processing*. GitHub. https://github.com/sloria/TextBlob.\n",
    "4. Wikipedia contributors. \"Block Design.\" *Wikipedia, The Free Encyclopedia*. Last modified April 19, 2024. https://en.wikipedia.org/wiki/Block_design.\n",
    "5. Montgomery, D. C. (2017). Design and analysis of experiments (9th ed.). Wiley. https://www.researchgate.net/publication/362079778_Design_and_Analysis_of_Experiments_9th_Edition\n",
    "6. Koo, Terry K., and Mae Y. Li. \"A Guideline of Selecting and Reporting Intraclass Correlation Coefficients for Reliability Research.\" *Journal of Chiropractic Medicine* 15, no. 2 (2016): 155–163. https://doi.org/10.1016/j.jcm.2016.02.012.\n",
    "7. Shrout, P. E., & Fleiss, J. L. (1979). Intraclass correlations: Uses in assessing rater reliability. Psychological Bulletin, 86(2), 420–428. https://doi.org/10.1037/0033-2909.86.2.420\n",
    "8. Gibbons, J.D., Chakraborti, S. (2011). Nonparametric Statistical Inference. In: Lovric, M. (eds) International Encyclopedia of Statistical Science. Springer, Berlin, Heidelberg. https://doi.org/10.1007/978-3-642-04898-2_420 \n",
    "9. OpenAI. *ChatGPT*. https://chat.openai.com."
   ]
  },
  {
   "cell_type": "code",
   "execution_count": 0,
   "metadata": {
    "application/vnd.databricks.v1+cell": {
     "cellMetadata": {},
     "inputWidgets": {},
     "nuid": "9af1494a-4c4a-4da0-9636-620c8b05413e",
     "showTitle": false,
     "title": ""
    }
   },
   "outputs": [],
   "source": []
  }
 ],
 "metadata": {
  "application/vnd.databricks.v1+notebook": {
   "dashboards": [],
   "language": "python",
   "notebookMetadata": {
    "pythonIndentUnit": 2
   },
   "notebookName": "eval_generic",
   "widgets": {}
  },
  "kernelspec": {
   "display_name": "github-stuffs",
   "language": "python",
   "name": "python3"
  },
  "language_info": {
   "codemirror_mode": {
    "name": "ipython",
    "version": 3
   },
   "file_extension": ".py",
   "mimetype": "text/x-python",
   "name": "python",
   "nbconvert_exporter": "python",
   "pygments_lexer": "ipython3",
   "version": "3.12.9"
  }
 },
 "nbformat": 4,
 "nbformat_minor": 0
}
