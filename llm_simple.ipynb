{
 "cells": [
  {
   "cell_type": "markdown",
   "id": "9073189a",
   "metadata": {},
   "source": [
    "## Local (CPU-based) ChatBot"
   ]
  },
  {
   "cell_type": "markdown",
   "id": "a93efd61",
   "metadata": {},
   "source": [
    "### Using HuggingFace `transformers` package and Ollama\n",
    "\n",
    "Just testing out CPU-based LLM install and implementations."
   ]
  },
  {
   "cell_type": "code",
   "execution_count": 16,
   "id": "8bc7a96c",
   "metadata": {},
   "outputs": [],
   "source": [
    "# Install Ollama app via download @ https://ollama.com/download\n",
    "# Allows running of local (downloaded) LLM models (like Llama 3)\n",
    "# Install packages: uv add transformers torch ollama\n",
    "from transformers import AutoModelForCausalLM, AutoTokenizer, pipeline\n",
    "from huggingface_hub import list_models\n",
    "# import torch\n",
    "\n",
    "# import ollama # if running directly\n",
    "# terminal: ollama run llama3"
   ]
  },
  {
   "cell_type": "code",
   "execution_count": 15,
   "id": "8a14bbac",
   "metadata": {},
   "outputs": [
    {
     "name": "stdout",
     "output_type": "stream",
     "text": [
      "TinyLlama/TinyLlama-1.1B-Chat-v1.0\n",
      "meta-llama/Llama-2-7b-chat-hf\n",
      "deepseek-ai/DeepSeek-V2-Lite-Chat\n",
      "deepseek-ai/deepseek-llm-7b-chat\n",
      "Qwen/Qwen1.5-4B-Chat\n",
      "Qwen/Qwen1.5-0.5B-Chat\n",
      "meta-llama/Llama-2-13b-chat-hf\n",
      "TheBloke/TinyLlama-1.1B-Chat-v0.3-GPTQ\n",
      "Qwen/Qwen-7B-Chat\n",
      "TheBloke/TinyLlama-1.1B-Chat-v1.0-GPTQ\n"
     ]
    }
   ],
   "source": [
    "models = list_models(filter=\"text-generation\", search=\"chat\", sort=\"downloads\", direction=-1, limit=10)\n",
    "\n",
    "for m in models:\n",
    "    print(m.modelId)\n"
   ]
  },
  {
   "cell_type": "code",
   "execution_count": 9,
   "id": "d6468954",
   "metadata": {},
   "outputs": [],
   "source": [
    "MODEL_NAME = \"TinyLlama/TinyLlama-1.1B-Chat-v1.0\""
   ]
  },
  {
   "cell_type": "code",
   "execution_count": 10,
   "id": "8e258bf3",
   "metadata": {},
   "outputs": [],
   "source": [
    "# Load tokenizer for model (subword-level tokenization given model's vocabulary)\n",
    "# Keeps breaking down words until gets recognizable tokens\n",
    "# For instance, say \"chatbot\" is split into \"chat\" + \"bot\"\n",
    "tokenizer = AutoTokenizer.from_pretrained(MODEL_NAME)\n",
    "\n",
    "# Load model into CPU memory\n",
    "model = AutoModelForCausalLM.from_pretrained(MODEL_NAME, device_map=\"cpu\")"
   ]
  },
  {
   "cell_type": "code",
   "execution_count": 11,
   "id": "2c6b076f",
   "metadata": {},
   "outputs": [
    {
     "name": "stderr",
     "output_type": "stream",
     "text": [
      "Device set to use cpu\n"
     ]
    }
   ],
   "source": [
    " #Build the text-generation pipeline (tokenize -> predict -> detokenize)\n",
    "chatbot = pipeline(\"text-generation\", model=model, tokenizer=tokenizer)"
   ]
  },
  {
   "cell_type": "code",
   "execution_count": null,
   "id": "7563859a",
   "metadata": {},
   "outputs": [],
   "source": [
    "print(\"My CPU-based Chatbot (type 'exit' to quit)\")\n",
    "history = \"\" # store conversation history\n",
    "\n",
    "while True:\n",
    "    user_input = input(\"You: \")\n",
    "    if user_input.lower() in [\"exit\", \"quit\"]:\n",
    "        print(\"Signing you off, Shepard\")\n",
    "        break\n",
    "\n",
    "    print(f'User: {user_input}\\n')\n",
    "\n",
    "     # build a simple prompt with system role + conversation history + user input\n",
    "    prompt = f\"<|system|>\\nYou are a super helpful assistant.\\n{history}<|user|>\\n{user_input}<|assistant|>\\n\"\n",
    "\n",
    "    # temperature (smaller conservative, larger creative) via divisor in softmax function\n",
    "    response = chatbot(prompt, max_new_tokens=150, temperature=0.7)[0]['generated_text']\n",
    "\n",
    "    # extract assistant's part of the response only\n",
    "    assistant_response = response.split(\"<|assistant|>\")[-1].strip()\n",
    "    print(\"Assistant:\", assistant_response)\n",
    "\n",
    "    # save exchange into conversation history for next time\n",
    "    history += f\"<|user|>\\n{user_input}<|assistant|>\\n{assistant_response}\\n\""
   ]
  },
  {
   "cell_type": "code",
   "execution_count": null,
   "id": "5aa13206",
   "metadata": {},
   "outputs": [],
   "source": []
  },
  {
   "cell_type": "code",
   "execution_count": null,
   "id": "939669c5",
   "metadata": {},
   "outputs": [],
   "source": [
    "# from llama_cpp import Llama\n",
    "\n",
    "# llm = Llama(model_path=\"/path/to/ggml-model-q4_0.bin\")\n",
    "\n",
    "# def ask(prompt):\n",
    "#     resp = llm.create_completion(prompt=prompt, max_tokens=150, temperature=0.7)\n",
    "#     return resp[\"choices\"][0][\"text\"]\n",
    "\n",
    "# # in your loop:\n",
    "# response = ask(prompt)\n",
    "# assistant_response = response.split(\"<|assistant|>\")[-1].strip()"
   ]
  }
 ],
 "metadata": {
  "kernelspec": {
   "display_name": "deep-learning",
   "language": "python",
   "name": "python3"
  },
  "language_info": {
   "name": "python"
  }
 },
 "nbformat": 4,
 "nbformat_minor": 5
}
